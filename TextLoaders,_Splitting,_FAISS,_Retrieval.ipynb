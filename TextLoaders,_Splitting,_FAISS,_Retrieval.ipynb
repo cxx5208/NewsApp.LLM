{
  "nbformat": 4,
  "nbformat_minor": 0,
  "metadata": {
    "colab": {
      "provenance": []
    },
    "kernelspec": {
      "name": "python3",
      "display_name": "Python 3"
    },
    "language_info": {
      "name": "python"
    },
    "widgets": {
      "application/vnd.jupyter.widget-state+json": {
        "57f09b28fdd645ff8b09e27b89a88e60": {
          "model_module": "@jupyter-widgets/controls",
          "model_name": "HBoxModel",
          "model_module_version": "1.5.0",
          "state": {
            "_dom_classes": [],
            "_model_module": "@jupyter-widgets/controls",
            "_model_module_version": "1.5.0",
            "_model_name": "HBoxModel",
            "_view_count": null,
            "_view_module": "@jupyter-widgets/controls",
            "_view_module_version": "1.5.0",
            "_view_name": "HBoxView",
            "box_style": "",
            "children": [
              "IPY_MODEL_5f78f3769b6041a39384651ac07d82b2",
              "IPY_MODEL_42b547f134c544b28dc9415660350109",
              "IPY_MODEL_8f568a0a8ea74d8dbb0132a8d75bc793"
            ],
            "layout": "IPY_MODEL_dab42b561c0d4d23baabfb3bde457a18"
          }
        },
        "5f78f3769b6041a39384651ac07d82b2": {
          "model_module": "@jupyter-widgets/controls",
          "model_name": "HTMLModel",
          "model_module_version": "1.5.0",
          "state": {
            "_dom_classes": [],
            "_model_module": "@jupyter-widgets/controls",
            "_model_module_version": "1.5.0",
            "_model_name": "HTMLModel",
            "_view_count": null,
            "_view_module": "@jupyter-widgets/controls",
            "_view_module_version": "1.5.0",
            "_view_name": "HTMLView",
            "description": "",
            "description_tooltip": null,
            "layout": "IPY_MODEL_52d0ec92a77b45d09fdd14592e4d8a98",
            "placeholder": "​",
            "style": "IPY_MODEL_1cbe0d35f88b460dad39e8acb0cbaab0",
            "value": "modules.json: 100%"
          }
        },
        "42b547f134c544b28dc9415660350109": {
          "model_module": "@jupyter-widgets/controls",
          "model_name": "FloatProgressModel",
          "model_module_version": "1.5.0",
          "state": {
            "_dom_classes": [],
            "_model_module": "@jupyter-widgets/controls",
            "_model_module_version": "1.5.0",
            "_model_name": "FloatProgressModel",
            "_view_count": null,
            "_view_module": "@jupyter-widgets/controls",
            "_view_module_version": "1.5.0",
            "_view_name": "ProgressView",
            "bar_style": "success",
            "description": "",
            "description_tooltip": null,
            "layout": "IPY_MODEL_a1fd78bc5dc54e25a4e951ab9d0d0a76",
            "max": 349,
            "min": 0,
            "orientation": "horizontal",
            "style": "IPY_MODEL_17ba3044214d49f090f0305b938de351",
            "value": 349
          }
        },
        "8f568a0a8ea74d8dbb0132a8d75bc793": {
          "model_module": "@jupyter-widgets/controls",
          "model_name": "HTMLModel",
          "model_module_version": "1.5.0",
          "state": {
            "_dom_classes": [],
            "_model_module": "@jupyter-widgets/controls",
            "_model_module_version": "1.5.0",
            "_model_name": "HTMLModel",
            "_view_count": null,
            "_view_module": "@jupyter-widgets/controls",
            "_view_module_version": "1.5.0",
            "_view_name": "HTMLView",
            "description": "",
            "description_tooltip": null,
            "layout": "IPY_MODEL_70a442c13ac24c1fab0479b9bde491f8",
            "placeholder": "​",
            "style": "IPY_MODEL_a9f35b9f1c7b44d6a8d9e060204132e3",
            "value": " 349/349 [00:00&lt;00:00, 4.63kB/s]"
          }
        },
        "dab42b561c0d4d23baabfb3bde457a18": {
          "model_module": "@jupyter-widgets/base",
          "model_name": "LayoutModel",
          "model_module_version": "1.2.0",
          "state": {
            "_model_module": "@jupyter-widgets/base",
            "_model_module_version": "1.2.0",
            "_model_name": "LayoutModel",
            "_view_count": null,
            "_view_module": "@jupyter-widgets/base",
            "_view_module_version": "1.2.0",
            "_view_name": "LayoutView",
            "align_content": null,
            "align_items": null,
            "align_self": null,
            "border": null,
            "bottom": null,
            "display": null,
            "flex": null,
            "flex_flow": null,
            "grid_area": null,
            "grid_auto_columns": null,
            "grid_auto_flow": null,
            "grid_auto_rows": null,
            "grid_column": null,
            "grid_gap": null,
            "grid_row": null,
            "grid_template_areas": null,
            "grid_template_columns": null,
            "grid_template_rows": null,
            "height": null,
            "justify_content": null,
            "justify_items": null,
            "left": null,
            "margin": null,
            "max_height": null,
            "max_width": null,
            "min_height": null,
            "min_width": null,
            "object_fit": null,
            "object_position": null,
            "order": null,
            "overflow": null,
            "overflow_x": null,
            "overflow_y": null,
            "padding": null,
            "right": null,
            "top": null,
            "visibility": null,
            "width": null
          }
        },
        "52d0ec92a77b45d09fdd14592e4d8a98": {
          "model_module": "@jupyter-widgets/base",
          "model_name": "LayoutModel",
          "model_module_version": "1.2.0",
          "state": {
            "_model_module": "@jupyter-widgets/base",
            "_model_module_version": "1.2.0",
            "_model_name": "LayoutModel",
            "_view_count": null,
            "_view_module": "@jupyter-widgets/base",
            "_view_module_version": "1.2.0",
            "_view_name": "LayoutView",
            "align_content": null,
            "align_items": null,
            "align_self": null,
            "border": null,
            "bottom": null,
            "display": null,
            "flex": null,
            "flex_flow": null,
            "grid_area": null,
            "grid_auto_columns": null,
            "grid_auto_flow": null,
            "grid_auto_rows": null,
            "grid_column": null,
            "grid_gap": null,
            "grid_row": null,
            "grid_template_areas": null,
            "grid_template_columns": null,
            "grid_template_rows": null,
            "height": null,
            "justify_content": null,
            "justify_items": null,
            "left": null,
            "margin": null,
            "max_height": null,
            "max_width": null,
            "min_height": null,
            "min_width": null,
            "object_fit": null,
            "object_position": null,
            "order": null,
            "overflow": null,
            "overflow_x": null,
            "overflow_y": null,
            "padding": null,
            "right": null,
            "top": null,
            "visibility": null,
            "width": null
          }
        },
        "1cbe0d35f88b460dad39e8acb0cbaab0": {
          "model_module": "@jupyter-widgets/controls",
          "model_name": "DescriptionStyleModel",
          "model_module_version": "1.5.0",
          "state": {
            "_model_module": "@jupyter-widgets/controls",
            "_model_module_version": "1.5.0",
            "_model_name": "DescriptionStyleModel",
            "_view_count": null,
            "_view_module": "@jupyter-widgets/base",
            "_view_module_version": "1.2.0",
            "_view_name": "StyleView",
            "description_width": ""
          }
        },
        "a1fd78bc5dc54e25a4e951ab9d0d0a76": {
          "model_module": "@jupyter-widgets/base",
          "model_name": "LayoutModel",
          "model_module_version": "1.2.0",
          "state": {
            "_model_module": "@jupyter-widgets/base",
            "_model_module_version": "1.2.0",
            "_model_name": "LayoutModel",
            "_view_count": null,
            "_view_module": "@jupyter-widgets/base",
            "_view_module_version": "1.2.0",
            "_view_name": "LayoutView",
            "align_content": null,
            "align_items": null,
            "align_self": null,
            "border": null,
            "bottom": null,
            "display": null,
            "flex": null,
            "flex_flow": null,
            "grid_area": null,
            "grid_auto_columns": null,
            "grid_auto_flow": null,
            "grid_auto_rows": null,
            "grid_column": null,
            "grid_gap": null,
            "grid_row": null,
            "grid_template_areas": null,
            "grid_template_columns": null,
            "grid_template_rows": null,
            "height": null,
            "justify_content": null,
            "justify_items": null,
            "left": null,
            "margin": null,
            "max_height": null,
            "max_width": null,
            "min_height": null,
            "min_width": null,
            "object_fit": null,
            "object_position": null,
            "order": null,
            "overflow": null,
            "overflow_x": null,
            "overflow_y": null,
            "padding": null,
            "right": null,
            "top": null,
            "visibility": null,
            "width": null
          }
        },
        "17ba3044214d49f090f0305b938de351": {
          "model_module": "@jupyter-widgets/controls",
          "model_name": "ProgressStyleModel",
          "model_module_version": "1.5.0",
          "state": {
            "_model_module": "@jupyter-widgets/controls",
            "_model_module_version": "1.5.0",
            "_model_name": "ProgressStyleModel",
            "_view_count": null,
            "_view_module": "@jupyter-widgets/base",
            "_view_module_version": "1.2.0",
            "_view_name": "StyleView",
            "bar_color": null,
            "description_width": ""
          }
        },
        "70a442c13ac24c1fab0479b9bde491f8": {
          "model_module": "@jupyter-widgets/base",
          "model_name": "LayoutModel",
          "model_module_version": "1.2.0",
          "state": {
            "_model_module": "@jupyter-widgets/base",
            "_model_module_version": "1.2.0",
            "_model_name": "LayoutModel",
            "_view_count": null,
            "_view_module": "@jupyter-widgets/base",
            "_view_module_version": "1.2.0",
            "_view_name": "LayoutView",
            "align_content": null,
            "align_items": null,
            "align_self": null,
            "border": null,
            "bottom": null,
            "display": null,
            "flex": null,
            "flex_flow": null,
            "grid_area": null,
            "grid_auto_columns": null,
            "grid_auto_flow": null,
            "grid_auto_rows": null,
            "grid_column": null,
            "grid_gap": null,
            "grid_row": null,
            "grid_template_areas": null,
            "grid_template_columns": null,
            "grid_template_rows": null,
            "height": null,
            "justify_content": null,
            "justify_items": null,
            "left": null,
            "margin": null,
            "max_height": null,
            "max_width": null,
            "min_height": null,
            "min_width": null,
            "object_fit": null,
            "object_position": null,
            "order": null,
            "overflow": null,
            "overflow_x": null,
            "overflow_y": null,
            "padding": null,
            "right": null,
            "top": null,
            "visibility": null,
            "width": null
          }
        },
        "a9f35b9f1c7b44d6a8d9e060204132e3": {
          "model_module": "@jupyter-widgets/controls",
          "model_name": "DescriptionStyleModel",
          "model_module_version": "1.5.0",
          "state": {
            "_model_module": "@jupyter-widgets/controls",
            "_model_module_version": "1.5.0",
            "_model_name": "DescriptionStyleModel",
            "_view_count": null,
            "_view_module": "@jupyter-widgets/base",
            "_view_module_version": "1.2.0",
            "_view_name": "StyleView",
            "description_width": ""
          }
        },
        "56c913589f1947c8801ece57ebb976ff": {
          "model_module": "@jupyter-widgets/controls",
          "model_name": "HBoxModel",
          "model_module_version": "1.5.0",
          "state": {
            "_dom_classes": [],
            "_model_module": "@jupyter-widgets/controls",
            "_model_module_version": "1.5.0",
            "_model_name": "HBoxModel",
            "_view_count": null,
            "_view_module": "@jupyter-widgets/controls",
            "_view_module_version": "1.5.0",
            "_view_name": "HBoxView",
            "box_style": "",
            "children": [
              "IPY_MODEL_40c841716ff849eb8a0d75f246a60703",
              "IPY_MODEL_3f59a8432c824cc888a28a67c3b34c9e",
              "IPY_MODEL_9b48f8634100475481a1deb8940d52aa"
            ],
            "layout": "IPY_MODEL_312afb5c345642ddbc450c11f9c78d2e"
          }
        },
        "40c841716ff849eb8a0d75f246a60703": {
          "model_module": "@jupyter-widgets/controls",
          "model_name": "HTMLModel",
          "model_module_version": "1.5.0",
          "state": {
            "_dom_classes": [],
            "_model_module": "@jupyter-widgets/controls",
            "_model_module_version": "1.5.0",
            "_model_name": "HTMLModel",
            "_view_count": null,
            "_view_module": "@jupyter-widgets/controls",
            "_view_module_version": "1.5.0",
            "_view_name": "HTMLView",
            "description": "",
            "description_tooltip": null,
            "layout": "IPY_MODEL_d107f7367f7b4b5788dce03ffd9fe4a4",
            "placeholder": "​",
            "style": "IPY_MODEL_be046ec69ee44a1bb88278b0ffde26dc",
            "value": "config_sentence_transformers.json: 100%"
          }
        },
        "3f59a8432c824cc888a28a67c3b34c9e": {
          "model_module": "@jupyter-widgets/controls",
          "model_name": "FloatProgressModel",
          "model_module_version": "1.5.0",
          "state": {
            "_dom_classes": [],
            "_model_module": "@jupyter-widgets/controls",
            "_model_module_version": "1.5.0",
            "_model_name": "FloatProgressModel",
            "_view_count": null,
            "_view_module": "@jupyter-widgets/controls",
            "_view_module_version": "1.5.0",
            "_view_name": "ProgressView",
            "bar_style": "success",
            "description": "",
            "description_tooltip": null,
            "layout": "IPY_MODEL_21bcd2a04669444d8347c9cbe17cdd3e",
            "max": 116,
            "min": 0,
            "orientation": "horizontal",
            "style": "IPY_MODEL_21a6756eb9474a1fad655a20dc907f85",
            "value": 116
          }
        },
        "9b48f8634100475481a1deb8940d52aa": {
          "model_module": "@jupyter-widgets/controls",
          "model_name": "HTMLModel",
          "model_module_version": "1.5.0",
          "state": {
            "_dom_classes": [],
            "_model_module": "@jupyter-widgets/controls",
            "_model_module_version": "1.5.0",
            "_model_name": "HTMLModel",
            "_view_count": null,
            "_view_module": "@jupyter-widgets/controls",
            "_view_module_version": "1.5.0",
            "_view_name": "HTMLView",
            "description": "",
            "description_tooltip": null,
            "layout": "IPY_MODEL_c321e76901ee47b987bbdf69033afe6d",
            "placeholder": "​",
            "style": "IPY_MODEL_0e946f259b454cf5bab8247686710c4b",
            "value": " 116/116 [00:00&lt;00:00, 1.86kB/s]"
          }
        },
        "312afb5c345642ddbc450c11f9c78d2e": {
          "model_module": "@jupyter-widgets/base",
          "model_name": "LayoutModel",
          "model_module_version": "1.2.0",
          "state": {
            "_model_module": "@jupyter-widgets/base",
            "_model_module_version": "1.2.0",
            "_model_name": "LayoutModel",
            "_view_count": null,
            "_view_module": "@jupyter-widgets/base",
            "_view_module_version": "1.2.0",
            "_view_name": "LayoutView",
            "align_content": null,
            "align_items": null,
            "align_self": null,
            "border": null,
            "bottom": null,
            "display": null,
            "flex": null,
            "flex_flow": null,
            "grid_area": null,
            "grid_auto_columns": null,
            "grid_auto_flow": null,
            "grid_auto_rows": null,
            "grid_column": null,
            "grid_gap": null,
            "grid_row": null,
            "grid_template_areas": null,
            "grid_template_columns": null,
            "grid_template_rows": null,
            "height": null,
            "justify_content": null,
            "justify_items": null,
            "left": null,
            "margin": null,
            "max_height": null,
            "max_width": null,
            "min_height": null,
            "min_width": null,
            "object_fit": null,
            "object_position": null,
            "order": null,
            "overflow": null,
            "overflow_x": null,
            "overflow_y": null,
            "padding": null,
            "right": null,
            "top": null,
            "visibility": null,
            "width": null
          }
        },
        "d107f7367f7b4b5788dce03ffd9fe4a4": {
          "model_module": "@jupyter-widgets/base",
          "model_name": "LayoutModel",
          "model_module_version": "1.2.0",
          "state": {
            "_model_module": "@jupyter-widgets/base",
            "_model_module_version": "1.2.0",
            "_model_name": "LayoutModel",
            "_view_count": null,
            "_view_module": "@jupyter-widgets/base",
            "_view_module_version": "1.2.0",
            "_view_name": "LayoutView",
            "align_content": null,
            "align_items": null,
            "align_self": null,
            "border": null,
            "bottom": null,
            "display": null,
            "flex": null,
            "flex_flow": null,
            "grid_area": null,
            "grid_auto_columns": null,
            "grid_auto_flow": null,
            "grid_auto_rows": null,
            "grid_column": null,
            "grid_gap": null,
            "grid_row": null,
            "grid_template_areas": null,
            "grid_template_columns": null,
            "grid_template_rows": null,
            "height": null,
            "justify_content": null,
            "justify_items": null,
            "left": null,
            "margin": null,
            "max_height": null,
            "max_width": null,
            "min_height": null,
            "min_width": null,
            "object_fit": null,
            "object_position": null,
            "order": null,
            "overflow": null,
            "overflow_x": null,
            "overflow_y": null,
            "padding": null,
            "right": null,
            "top": null,
            "visibility": null,
            "width": null
          }
        },
        "be046ec69ee44a1bb88278b0ffde26dc": {
          "model_module": "@jupyter-widgets/controls",
          "model_name": "DescriptionStyleModel",
          "model_module_version": "1.5.0",
          "state": {
            "_model_module": "@jupyter-widgets/controls",
            "_model_module_version": "1.5.0",
            "_model_name": "DescriptionStyleModel",
            "_view_count": null,
            "_view_module": "@jupyter-widgets/base",
            "_view_module_version": "1.2.0",
            "_view_name": "StyleView",
            "description_width": ""
          }
        },
        "21bcd2a04669444d8347c9cbe17cdd3e": {
          "model_module": "@jupyter-widgets/base",
          "model_name": "LayoutModel",
          "model_module_version": "1.2.0",
          "state": {
            "_model_module": "@jupyter-widgets/base",
            "_model_module_version": "1.2.0",
            "_model_name": "LayoutModel",
            "_view_count": null,
            "_view_module": "@jupyter-widgets/base",
            "_view_module_version": "1.2.0",
            "_view_name": "LayoutView",
            "align_content": null,
            "align_items": null,
            "align_self": null,
            "border": null,
            "bottom": null,
            "display": null,
            "flex": null,
            "flex_flow": null,
            "grid_area": null,
            "grid_auto_columns": null,
            "grid_auto_flow": null,
            "grid_auto_rows": null,
            "grid_column": null,
            "grid_gap": null,
            "grid_row": null,
            "grid_template_areas": null,
            "grid_template_columns": null,
            "grid_template_rows": null,
            "height": null,
            "justify_content": null,
            "justify_items": null,
            "left": null,
            "margin": null,
            "max_height": null,
            "max_width": null,
            "min_height": null,
            "min_width": null,
            "object_fit": null,
            "object_position": null,
            "order": null,
            "overflow": null,
            "overflow_x": null,
            "overflow_y": null,
            "padding": null,
            "right": null,
            "top": null,
            "visibility": null,
            "width": null
          }
        },
        "21a6756eb9474a1fad655a20dc907f85": {
          "model_module": "@jupyter-widgets/controls",
          "model_name": "ProgressStyleModel",
          "model_module_version": "1.5.0",
          "state": {
            "_model_module": "@jupyter-widgets/controls",
            "_model_module_version": "1.5.0",
            "_model_name": "ProgressStyleModel",
            "_view_count": null,
            "_view_module": "@jupyter-widgets/base",
            "_view_module_version": "1.2.0",
            "_view_name": "StyleView",
            "bar_color": null,
            "description_width": ""
          }
        },
        "c321e76901ee47b987bbdf69033afe6d": {
          "model_module": "@jupyter-widgets/base",
          "model_name": "LayoutModel",
          "model_module_version": "1.2.0",
          "state": {
            "_model_module": "@jupyter-widgets/base",
            "_model_module_version": "1.2.0",
            "_model_name": "LayoutModel",
            "_view_count": null,
            "_view_module": "@jupyter-widgets/base",
            "_view_module_version": "1.2.0",
            "_view_name": "LayoutView",
            "align_content": null,
            "align_items": null,
            "align_self": null,
            "border": null,
            "bottom": null,
            "display": null,
            "flex": null,
            "flex_flow": null,
            "grid_area": null,
            "grid_auto_columns": null,
            "grid_auto_flow": null,
            "grid_auto_rows": null,
            "grid_column": null,
            "grid_gap": null,
            "grid_row": null,
            "grid_template_areas": null,
            "grid_template_columns": null,
            "grid_template_rows": null,
            "height": null,
            "justify_content": null,
            "justify_items": null,
            "left": null,
            "margin": null,
            "max_height": null,
            "max_width": null,
            "min_height": null,
            "min_width": null,
            "object_fit": null,
            "object_position": null,
            "order": null,
            "overflow": null,
            "overflow_x": null,
            "overflow_y": null,
            "padding": null,
            "right": null,
            "top": null,
            "visibility": null,
            "width": null
          }
        },
        "0e946f259b454cf5bab8247686710c4b": {
          "model_module": "@jupyter-widgets/controls",
          "model_name": "DescriptionStyleModel",
          "model_module_version": "1.5.0",
          "state": {
            "_model_module": "@jupyter-widgets/controls",
            "_model_module_version": "1.5.0",
            "_model_name": "DescriptionStyleModel",
            "_view_count": null,
            "_view_module": "@jupyter-widgets/base",
            "_view_module_version": "1.2.0",
            "_view_name": "StyleView",
            "description_width": ""
          }
        },
        "61d3bf22d6dd49ff9eab4540c9109e22": {
          "model_module": "@jupyter-widgets/controls",
          "model_name": "HBoxModel",
          "model_module_version": "1.5.0",
          "state": {
            "_dom_classes": [],
            "_model_module": "@jupyter-widgets/controls",
            "_model_module_version": "1.5.0",
            "_model_name": "HBoxModel",
            "_view_count": null,
            "_view_module": "@jupyter-widgets/controls",
            "_view_module_version": "1.5.0",
            "_view_name": "HBoxView",
            "box_style": "",
            "children": [
              "IPY_MODEL_79ce03b2d31d47f4865349e7ac14d8c4",
              "IPY_MODEL_66793085b97740738a634b52d727ffdd",
              "IPY_MODEL_3a59e61ccdba4579af272eba37f6d802"
            ],
            "layout": "IPY_MODEL_f0e1840824154606b0805600a395ec5c"
          }
        },
        "79ce03b2d31d47f4865349e7ac14d8c4": {
          "model_module": "@jupyter-widgets/controls",
          "model_name": "HTMLModel",
          "model_module_version": "1.5.0",
          "state": {
            "_dom_classes": [],
            "_model_module": "@jupyter-widgets/controls",
            "_model_module_version": "1.5.0",
            "_model_name": "HTMLModel",
            "_view_count": null,
            "_view_module": "@jupyter-widgets/controls",
            "_view_module_version": "1.5.0",
            "_view_name": "HTMLView",
            "description": "",
            "description_tooltip": null,
            "layout": "IPY_MODEL_1d93f22260a7472ba66f52f73d5b9e36",
            "placeholder": "​",
            "style": "IPY_MODEL_ac4d3f436ffb46d1a6a0d91f375d136b",
            "value": "README.md: 100%"
          }
        },
        "66793085b97740738a634b52d727ffdd": {
          "model_module": "@jupyter-widgets/controls",
          "model_name": "FloatProgressModel",
          "model_module_version": "1.5.0",
          "state": {
            "_dom_classes": [],
            "_model_module": "@jupyter-widgets/controls",
            "_model_module_version": "1.5.0",
            "_model_name": "FloatProgressModel",
            "_view_count": null,
            "_view_module": "@jupyter-widgets/controls",
            "_view_module_version": "1.5.0",
            "_view_name": "ProgressView",
            "bar_style": "success",
            "description": "",
            "description_tooltip": null,
            "layout": "IPY_MODEL_389146a8d6cb4e2bab5f323f98782d42",
            "max": 10621,
            "min": 0,
            "orientation": "horizontal",
            "style": "IPY_MODEL_b78b60167cc349b287c0c78e58ab552a",
            "value": 10621
          }
        },
        "3a59e61ccdba4579af272eba37f6d802": {
          "model_module": "@jupyter-widgets/controls",
          "model_name": "HTMLModel",
          "model_module_version": "1.5.0",
          "state": {
            "_dom_classes": [],
            "_model_module": "@jupyter-widgets/controls",
            "_model_module_version": "1.5.0",
            "_model_name": "HTMLModel",
            "_view_count": null,
            "_view_module": "@jupyter-widgets/controls",
            "_view_module_version": "1.5.0",
            "_view_name": "HTMLView",
            "description": "",
            "description_tooltip": null,
            "layout": "IPY_MODEL_89f249297d364e94b55ed93d9c4d580e",
            "placeholder": "​",
            "style": "IPY_MODEL_fed3583a49054cb1a826346156e13b30",
            "value": " 10.6k/10.6k [00:00&lt;00:00, 216kB/s]"
          }
        },
        "f0e1840824154606b0805600a395ec5c": {
          "model_module": "@jupyter-widgets/base",
          "model_name": "LayoutModel",
          "model_module_version": "1.2.0",
          "state": {
            "_model_module": "@jupyter-widgets/base",
            "_model_module_version": "1.2.0",
            "_model_name": "LayoutModel",
            "_view_count": null,
            "_view_module": "@jupyter-widgets/base",
            "_view_module_version": "1.2.0",
            "_view_name": "LayoutView",
            "align_content": null,
            "align_items": null,
            "align_self": null,
            "border": null,
            "bottom": null,
            "display": null,
            "flex": null,
            "flex_flow": null,
            "grid_area": null,
            "grid_auto_columns": null,
            "grid_auto_flow": null,
            "grid_auto_rows": null,
            "grid_column": null,
            "grid_gap": null,
            "grid_row": null,
            "grid_template_areas": null,
            "grid_template_columns": null,
            "grid_template_rows": null,
            "height": null,
            "justify_content": null,
            "justify_items": null,
            "left": null,
            "margin": null,
            "max_height": null,
            "max_width": null,
            "min_height": null,
            "min_width": null,
            "object_fit": null,
            "object_position": null,
            "order": null,
            "overflow": null,
            "overflow_x": null,
            "overflow_y": null,
            "padding": null,
            "right": null,
            "top": null,
            "visibility": null,
            "width": null
          }
        },
        "1d93f22260a7472ba66f52f73d5b9e36": {
          "model_module": "@jupyter-widgets/base",
          "model_name": "LayoutModel",
          "model_module_version": "1.2.0",
          "state": {
            "_model_module": "@jupyter-widgets/base",
            "_model_module_version": "1.2.0",
            "_model_name": "LayoutModel",
            "_view_count": null,
            "_view_module": "@jupyter-widgets/base",
            "_view_module_version": "1.2.0",
            "_view_name": "LayoutView",
            "align_content": null,
            "align_items": null,
            "align_self": null,
            "border": null,
            "bottom": null,
            "display": null,
            "flex": null,
            "flex_flow": null,
            "grid_area": null,
            "grid_auto_columns": null,
            "grid_auto_flow": null,
            "grid_auto_rows": null,
            "grid_column": null,
            "grid_gap": null,
            "grid_row": null,
            "grid_template_areas": null,
            "grid_template_columns": null,
            "grid_template_rows": null,
            "height": null,
            "justify_content": null,
            "justify_items": null,
            "left": null,
            "margin": null,
            "max_height": null,
            "max_width": null,
            "min_height": null,
            "min_width": null,
            "object_fit": null,
            "object_position": null,
            "order": null,
            "overflow": null,
            "overflow_x": null,
            "overflow_y": null,
            "padding": null,
            "right": null,
            "top": null,
            "visibility": null,
            "width": null
          }
        },
        "ac4d3f436ffb46d1a6a0d91f375d136b": {
          "model_module": "@jupyter-widgets/controls",
          "model_name": "DescriptionStyleModel",
          "model_module_version": "1.5.0",
          "state": {
            "_model_module": "@jupyter-widgets/controls",
            "_model_module_version": "1.5.0",
            "_model_name": "DescriptionStyleModel",
            "_view_count": null,
            "_view_module": "@jupyter-widgets/base",
            "_view_module_version": "1.2.0",
            "_view_name": "StyleView",
            "description_width": ""
          }
        },
        "389146a8d6cb4e2bab5f323f98782d42": {
          "model_module": "@jupyter-widgets/base",
          "model_name": "LayoutModel",
          "model_module_version": "1.2.0",
          "state": {
            "_model_module": "@jupyter-widgets/base",
            "_model_module_version": "1.2.0",
            "_model_name": "LayoutModel",
            "_view_count": null,
            "_view_module": "@jupyter-widgets/base",
            "_view_module_version": "1.2.0",
            "_view_name": "LayoutView",
            "align_content": null,
            "align_items": null,
            "align_self": null,
            "border": null,
            "bottom": null,
            "display": null,
            "flex": null,
            "flex_flow": null,
            "grid_area": null,
            "grid_auto_columns": null,
            "grid_auto_flow": null,
            "grid_auto_rows": null,
            "grid_column": null,
            "grid_gap": null,
            "grid_row": null,
            "grid_template_areas": null,
            "grid_template_columns": null,
            "grid_template_rows": null,
            "height": null,
            "justify_content": null,
            "justify_items": null,
            "left": null,
            "margin": null,
            "max_height": null,
            "max_width": null,
            "min_height": null,
            "min_width": null,
            "object_fit": null,
            "object_position": null,
            "order": null,
            "overflow": null,
            "overflow_x": null,
            "overflow_y": null,
            "padding": null,
            "right": null,
            "top": null,
            "visibility": null,
            "width": null
          }
        },
        "b78b60167cc349b287c0c78e58ab552a": {
          "model_module": "@jupyter-widgets/controls",
          "model_name": "ProgressStyleModel",
          "model_module_version": "1.5.0",
          "state": {
            "_model_module": "@jupyter-widgets/controls",
            "_model_module_version": "1.5.0",
            "_model_name": "ProgressStyleModel",
            "_view_count": null,
            "_view_module": "@jupyter-widgets/base",
            "_view_module_version": "1.2.0",
            "_view_name": "StyleView",
            "bar_color": null,
            "description_width": ""
          }
        },
        "89f249297d364e94b55ed93d9c4d580e": {
          "model_module": "@jupyter-widgets/base",
          "model_name": "LayoutModel",
          "model_module_version": "1.2.0",
          "state": {
            "_model_module": "@jupyter-widgets/base",
            "_model_module_version": "1.2.0",
            "_model_name": "LayoutModel",
            "_view_count": null,
            "_view_module": "@jupyter-widgets/base",
            "_view_module_version": "1.2.0",
            "_view_name": "LayoutView",
            "align_content": null,
            "align_items": null,
            "align_self": null,
            "border": null,
            "bottom": null,
            "display": null,
            "flex": null,
            "flex_flow": null,
            "grid_area": null,
            "grid_auto_columns": null,
            "grid_auto_flow": null,
            "grid_auto_rows": null,
            "grid_column": null,
            "grid_gap": null,
            "grid_row": null,
            "grid_template_areas": null,
            "grid_template_columns": null,
            "grid_template_rows": null,
            "height": null,
            "justify_content": null,
            "justify_items": null,
            "left": null,
            "margin": null,
            "max_height": null,
            "max_width": null,
            "min_height": null,
            "min_width": null,
            "object_fit": null,
            "object_position": null,
            "order": null,
            "overflow": null,
            "overflow_x": null,
            "overflow_y": null,
            "padding": null,
            "right": null,
            "top": null,
            "visibility": null,
            "width": null
          }
        },
        "fed3583a49054cb1a826346156e13b30": {
          "model_module": "@jupyter-widgets/controls",
          "model_name": "DescriptionStyleModel",
          "model_module_version": "1.5.0",
          "state": {
            "_model_module": "@jupyter-widgets/controls",
            "_model_module_version": "1.5.0",
            "_model_name": "DescriptionStyleModel",
            "_view_count": null,
            "_view_module": "@jupyter-widgets/base",
            "_view_module_version": "1.2.0",
            "_view_name": "StyleView",
            "description_width": ""
          }
        },
        "00dc0618baf746319e7ad2dff82a0119": {
          "model_module": "@jupyter-widgets/controls",
          "model_name": "HBoxModel",
          "model_module_version": "1.5.0",
          "state": {
            "_dom_classes": [],
            "_model_module": "@jupyter-widgets/controls",
            "_model_module_version": "1.5.0",
            "_model_name": "HBoxModel",
            "_view_count": null,
            "_view_module": "@jupyter-widgets/controls",
            "_view_module_version": "1.5.0",
            "_view_name": "HBoxView",
            "box_style": "",
            "children": [
              "IPY_MODEL_3e3f680999f04a28bf5c6270b1718e96",
              "IPY_MODEL_7c0ea649e2334d70b8a5c1d533612513",
              "IPY_MODEL_69fa2abe63c24effa9844e1ba25004f9"
            ],
            "layout": "IPY_MODEL_e95cb552ee4249e89f9f3a1f50cee1aa"
          }
        },
        "3e3f680999f04a28bf5c6270b1718e96": {
          "model_module": "@jupyter-widgets/controls",
          "model_name": "HTMLModel",
          "model_module_version": "1.5.0",
          "state": {
            "_dom_classes": [],
            "_model_module": "@jupyter-widgets/controls",
            "_model_module_version": "1.5.0",
            "_model_name": "HTMLModel",
            "_view_count": null,
            "_view_module": "@jupyter-widgets/controls",
            "_view_module_version": "1.5.0",
            "_view_name": "HTMLView",
            "description": "",
            "description_tooltip": null,
            "layout": "IPY_MODEL_7f4aeca34d40408f8e05e13c5e9e2136",
            "placeholder": "​",
            "style": "IPY_MODEL_1b8e64d8748a427e96f0c32d56182a8c",
            "value": "sentence_bert_config.json: 100%"
          }
        },
        "7c0ea649e2334d70b8a5c1d533612513": {
          "model_module": "@jupyter-widgets/controls",
          "model_name": "FloatProgressModel",
          "model_module_version": "1.5.0",
          "state": {
            "_dom_classes": [],
            "_model_module": "@jupyter-widgets/controls",
            "_model_module_version": "1.5.0",
            "_model_name": "FloatProgressModel",
            "_view_count": null,
            "_view_module": "@jupyter-widgets/controls",
            "_view_module_version": "1.5.0",
            "_view_name": "ProgressView",
            "bar_style": "success",
            "description": "",
            "description_tooltip": null,
            "layout": "IPY_MODEL_e74c1b4529c14706a28498132804037f",
            "max": 53,
            "min": 0,
            "orientation": "horizontal",
            "style": "IPY_MODEL_3965c04267d64d35b4e7c8a4b7def8cc",
            "value": 53
          }
        },
        "69fa2abe63c24effa9844e1ba25004f9": {
          "model_module": "@jupyter-widgets/controls",
          "model_name": "HTMLModel",
          "model_module_version": "1.5.0",
          "state": {
            "_dom_classes": [],
            "_model_module": "@jupyter-widgets/controls",
            "_model_module_version": "1.5.0",
            "_model_name": "HTMLModel",
            "_view_count": null,
            "_view_module": "@jupyter-widgets/controls",
            "_view_module_version": "1.5.0",
            "_view_name": "HTMLView",
            "description": "",
            "description_tooltip": null,
            "layout": "IPY_MODEL_3aac7d5e1a474ca7ae10472cab0c8e50",
            "placeholder": "​",
            "style": "IPY_MODEL_a4d858b23168457f996e9b1d2acd2800",
            "value": " 53.0/53.0 [00:00&lt;00:00, 1.25kB/s]"
          }
        },
        "e95cb552ee4249e89f9f3a1f50cee1aa": {
          "model_module": "@jupyter-widgets/base",
          "model_name": "LayoutModel",
          "model_module_version": "1.2.0",
          "state": {
            "_model_module": "@jupyter-widgets/base",
            "_model_module_version": "1.2.0",
            "_model_name": "LayoutModel",
            "_view_count": null,
            "_view_module": "@jupyter-widgets/base",
            "_view_module_version": "1.2.0",
            "_view_name": "LayoutView",
            "align_content": null,
            "align_items": null,
            "align_self": null,
            "border": null,
            "bottom": null,
            "display": null,
            "flex": null,
            "flex_flow": null,
            "grid_area": null,
            "grid_auto_columns": null,
            "grid_auto_flow": null,
            "grid_auto_rows": null,
            "grid_column": null,
            "grid_gap": null,
            "grid_row": null,
            "grid_template_areas": null,
            "grid_template_columns": null,
            "grid_template_rows": null,
            "height": null,
            "justify_content": null,
            "justify_items": null,
            "left": null,
            "margin": null,
            "max_height": null,
            "max_width": null,
            "min_height": null,
            "min_width": null,
            "object_fit": null,
            "object_position": null,
            "order": null,
            "overflow": null,
            "overflow_x": null,
            "overflow_y": null,
            "padding": null,
            "right": null,
            "top": null,
            "visibility": null,
            "width": null
          }
        },
        "7f4aeca34d40408f8e05e13c5e9e2136": {
          "model_module": "@jupyter-widgets/base",
          "model_name": "LayoutModel",
          "model_module_version": "1.2.0",
          "state": {
            "_model_module": "@jupyter-widgets/base",
            "_model_module_version": "1.2.0",
            "_model_name": "LayoutModel",
            "_view_count": null,
            "_view_module": "@jupyter-widgets/base",
            "_view_module_version": "1.2.0",
            "_view_name": "LayoutView",
            "align_content": null,
            "align_items": null,
            "align_self": null,
            "border": null,
            "bottom": null,
            "display": null,
            "flex": null,
            "flex_flow": null,
            "grid_area": null,
            "grid_auto_columns": null,
            "grid_auto_flow": null,
            "grid_auto_rows": null,
            "grid_column": null,
            "grid_gap": null,
            "grid_row": null,
            "grid_template_areas": null,
            "grid_template_columns": null,
            "grid_template_rows": null,
            "height": null,
            "justify_content": null,
            "justify_items": null,
            "left": null,
            "margin": null,
            "max_height": null,
            "max_width": null,
            "min_height": null,
            "min_width": null,
            "object_fit": null,
            "object_position": null,
            "order": null,
            "overflow": null,
            "overflow_x": null,
            "overflow_y": null,
            "padding": null,
            "right": null,
            "top": null,
            "visibility": null,
            "width": null
          }
        },
        "1b8e64d8748a427e96f0c32d56182a8c": {
          "model_module": "@jupyter-widgets/controls",
          "model_name": "DescriptionStyleModel",
          "model_module_version": "1.5.0",
          "state": {
            "_model_module": "@jupyter-widgets/controls",
            "_model_module_version": "1.5.0",
            "_model_name": "DescriptionStyleModel",
            "_view_count": null,
            "_view_module": "@jupyter-widgets/base",
            "_view_module_version": "1.2.0",
            "_view_name": "StyleView",
            "description_width": ""
          }
        },
        "e74c1b4529c14706a28498132804037f": {
          "model_module": "@jupyter-widgets/base",
          "model_name": "LayoutModel",
          "model_module_version": "1.2.0",
          "state": {
            "_model_module": "@jupyter-widgets/base",
            "_model_module_version": "1.2.0",
            "_model_name": "LayoutModel",
            "_view_count": null,
            "_view_module": "@jupyter-widgets/base",
            "_view_module_version": "1.2.0",
            "_view_name": "LayoutView",
            "align_content": null,
            "align_items": null,
            "align_self": null,
            "border": null,
            "bottom": null,
            "display": null,
            "flex": null,
            "flex_flow": null,
            "grid_area": null,
            "grid_auto_columns": null,
            "grid_auto_flow": null,
            "grid_auto_rows": null,
            "grid_column": null,
            "grid_gap": null,
            "grid_row": null,
            "grid_template_areas": null,
            "grid_template_columns": null,
            "grid_template_rows": null,
            "height": null,
            "justify_content": null,
            "justify_items": null,
            "left": null,
            "margin": null,
            "max_height": null,
            "max_width": null,
            "min_height": null,
            "min_width": null,
            "object_fit": null,
            "object_position": null,
            "order": null,
            "overflow": null,
            "overflow_x": null,
            "overflow_y": null,
            "padding": null,
            "right": null,
            "top": null,
            "visibility": null,
            "width": null
          }
        },
        "3965c04267d64d35b4e7c8a4b7def8cc": {
          "model_module": "@jupyter-widgets/controls",
          "model_name": "ProgressStyleModel",
          "model_module_version": "1.5.0",
          "state": {
            "_model_module": "@jupyter-widgets/controls",
            "_model_module_version": "1.5.0",
            "_model_name": "ProgressStyleModel",
            "_view_count": null,
            "_view_module": "@jupyter-widgets/base",
            "_view_module_version": "1.2.0",
            "_view_name": "StyleView",
            "bar_color": null,
            "description_width": ""
          }
        },
        "3aac7d5e1a474ca7ae10472cab0c8e50": {
          "model_module": "@jupyter-widgets/base",
          "model_name": "LayoutModel",
          "model_module_version": "1.2.0",
          "state": {
            "_model_module": "@jupyter-widgets/base",
            "_model_module_version": "1.2.0",
            "_model_name": "LayoutModel",
            "_view_count": null,
            "_view_module": "@jupyter-widgets/base",
            "_view_module_version": "1.2.0",
            "_view_name": "LayoutView",
            "align_content": null,
            "align_items": null,
            "align_self": null,
            "border": null,
            "bottom": null,
            "display": null,
            "flex": null,
            "flex_flow": null,
            "grid_area": null,
            "grid_auto_columns": null,
            "grid_auto_flow": null,
            "grid_auto_rows": null,
            "grid_column": null,
            "grid_gap": null,
            "grid_row": null,
            "grid_template_areas": null,
            "grid_template_columns": null,
            "grid_template_rows": null,
            "height": null,
            "justify_content": null,
            "justify_items": null,
            "left": null,
            "margin": null,
            "max_height": null,
            "max_width": null,
            "min_height": null,
            "min_width": null,
            "object_fit": null,
            "object_position": null,
            "order": null,
            "overflow": null,
            "overflow_x": null,
            "overflow_y": null,
            "padding": null,
            "right": null,
            "top": null,
            "visibility": null,
            "width": null
          }
        },
        "a4d858b23168457f996e9b1d2acd2800": {
          "model_module": "@jupyter-widgets/controls",
          "model_name": "DescriptionStyleModel",
          "model_module_version": "1.5.0",
          "state": {
            "_model_module": "@jupyter-widgets/controls",
            "_model_module_version": "1.5.0",
            "_model_name": "DescriptionStyleModel",
            "_view_count": null,
            "_view_module": "@jupyter-widgets/base",
            "_view_module_version": "1.2.0",
            "_view_name": "StyleView",
            "description_width": ""
          }
        },
        "a094eb8a8f1e480aa8bb63950fc7c603": {
          "model_module": "@jupyter-widgets/controls",
          "model_name": "HBoxModel",
          "model_module_version": "1.5.0",
          "state": {
            "_dom_classes": [],
            "_model_module": "@jupyter-widgets/controls",
            "_model_module_version": "1.5.0",
            "_model_name": "HBoxModel",
            "_view_count": null,
            "_view_module": "@jupyter-widgets/controls",
            "_view_module_version": "1.5.0",
            "_view_name": "HBoxView",
            "box_style": "",
            "children": [
              "IPY_MODEL_11c8ce99a57240c1a5397c5bf74d7a08",
              "IPY_MODEL_88c5bdcad74545699b3a79ef0b18e99d",
              "IPY_MODEL_60f0293b98f341debe86e084ad36b41e"
            ],
            "layout": "IPY_MODEL_981f32202cce4b52bac0ea6030e6e23a"
          }
        },
        "11c8ce99a57240c1a5397c5bf74d7a08": {
          "model_module": "@jupyter-widgets/controls",
          "model_name": "HTMLModel",
          "model_module_version": "1.5.0",
          "state": {
            "_dom_classes": [],
            "_model_module": "@jupyter-widgets/controls",
            "_model_module_version": "1.5.0",
            "_model_name": "HTMLModel",
            "_view_count": null,
            "_view_module": "@jupyter-widgets/controls",
            "_view_module_version": "1.5.0",
            "_view_name": "HTMLView",
            "description": "",
            "description_tooltip": null,
            "layout": "IPY_MODEL_76e9912c9b7e4defbf0509f3312c32de",
            "placeholder": "​",
            "style": "IPY_MODEL_0ed2d5d25dbf45b198ba126ac29fa807",
            "value": "config.json: 100%"
          }
        },
        "88c5bdcad74545699b3a79ef0b18e99d": {
          "model_module": "@jupyter-widgets/controls",
          "model_name": "FloatProgressModel",
          "model_module_version": "1.5.0",
          "state": {
            "_dom_classes": [],
            "_model_module": "@jupyter-widgets/controls",
            "_model_module_version": "1.5.0",
            "_model_name": "FloatProgressModel",
            "_view_count": null,
            "_view_module": "@jupyter-widgets/controls",
            "_view_module_version": "1.5.0",
            "_view_name": "ProgressView",
            "bar_style": "success",
            "description": "",
            "description_tooltip": null,
            "layout": "IPY_MODEL_5fc20764f9bb40c3977ea8adbfd5033a",
            "max": 571,
            "min": 0,
            "orientation": "horizontal",
            "style": "IPY_MODEL_9277116868894cb683f839dbe8ac0822",
            "value": 571
          }
        },
        "60f0293b98f341debe86e084ad36b41e": {
          "model_module": "@jupyter-widgets/controls",
          "model_name": "HTMLModel",
          "model_module_version": "1.5.0",
          "state": {
            "_dom_classes": [],
            "_model_module": "@jupyter-widgets/controls",
            "_model_module_version": "1.5.0",
            "_model_name": "HTMLModel",
            "_view_count": null,
            "_view_module": "@jupyter-widgets/controls",
            "_view_module_version": "1.5.0",
            "_view_name": "HTMLView",
            "description": "",
            "description_tooltip": null,
            "layout": "IPY_MODEL_b1b6d28d17154871962c9ca79cb859af",
            "placeholder": "​",
            "style": "IPY_MODEL_445c5bd812134bb99882679852f8bac7",
            "value": " 571/571 [00:00&lt;00:00, 13.1kB/s]"
          }
        },
        "981f32202cce4b52bac0ea6030e6e23a": {
          "model_module": "@jupyter-widgets/base",
          "model_name": "LayoutModel",
          "model_module_version": "1.2.0",
          "state": {
            "_model_module": "@jupyter-widgets/base",
            "_model_module_version": "1.2.0",
            "_model_name": "LayoutModel",
            "_view_count": null,
            "_view_module": "@jupyter-widgets/base",
            "_view_module_version": "1.2.0",
            "_view_name": "LayoutView",
            "align_content": null,
            "align_items": null,
            "align_self": null,
            "border": null,
            "bottom": null,
            "display": null,
            "flex": null,
            "flex_flow": null,
            "grid_area": null,
            "grid_auto_columns": null,
            "grid_auto_flow": null,
            "grid_auto_rows": null,
            "grid_column": null,
            "grid_gap": null,
            "grid_row": null,
            "grid_template_areas": null,
            "grid_template_columns": null,
            "grid_template_rows": null,
            "height": null,
            "justify_content": null,
            "justify_items": null,
            "left": null,
            "margin": null,
            "max_height": null,
            "max_width": null,
            "min_height": null,
            "min_width": null,
            "object_fit": null,
            "object_position": null,
            "order": null,
            "overflow": null,
            "overflow_x": null,
            "overflow_y": null,
            "padding": null,
            "right": null,
            "top": null,
            "visibility": null,
            "width": null
          }
        },
        "76e9912c9b7e4defbf0509f3312c32de": {
          "model_module": "@jupyter-widgets/base",
          "model_name": "LayoutModel",
          "model_module_version": "1.2.0",
          "state": {
            "_model_module": "@jupyter-widgets/base",
            "_model_module_version": "1.2.0",
            "_model_name": "LayoutModel",
            "_view_count": null,
            "_view_module": "@jupyter-widgets/base",
            "_view_module_version": "1.2.0",
            "_view_name": "LayoutView",
            "align_content": null,
            "align_items": null,
            "align_self": null,
            "border": null,
            "bottom": null,
            "display": null,
            "flex": null,
            "flex_flow": null,
            "grid_area": null,
            "grid_auto_columns": null,
            "grid_auto_flow": null,
            "grid_auto_rows": null,
            "grid_column": null,
            "grid_gap": null,
            "grid_row": null,
            "grid_template_areas": null,
            "grid_template_columns": null,
            "grid_template_rows": null,
            "height": null,
            "justify_content": null,
            "justify_items": null,
            "left": null,
            "margin": null,
            "max_height": null,
            "max_width": null,
            "min_height": null,
            "min_width": null,
            "object_fit": null,
            "object_position": null,
            "order": null,
            "overflow": null,
            "overflow_x": null,
            "overflow_y": null,
            "padding": null,
            "right": null,
            "top": null,
            "visibility": null,
            "width": null
          }
        },
        "0ed2d5d25dbf45b198ba126ac29fa807": {
          "model_module": "@jupyter-widgets/controls",
          "model_name": "DescriptionStyleModel",
          "model_module_version": "1.5.0",
          "state": {
            "_model_module": "@jupyter-widgets/controls",
            "_model_module_version": "1.5.0",
            "_model_name": "DescriptionStyleModel",
            "_view_count": null,
            "_view_module": "@jupyter-widgets/base",
            "_view_module_version": "1.2.0",
            "_view_name": "StyleView",
            "description_width": ""
          }
        },
        "5fc20764f9bb40c3977ea8adbfd5033a": {
          "model_module": "@jupyter-widgets/base",
          "model_name": "LayoutModel",
          "model_module_version": "1.2.0",
          "state": {
            "_model_module": "@jupyter-widgets/base",
            "_model_module_version": "1.2.0",
            "_model_name": "LayoutModel",
            "_view_count": null,
            "_view_module": "@jupyter-widgets/base",
            "_view_module_version": "1.2.0",
            "_view_name": "LayoutView",
            "align_content": null,
            "align_items": null,
            "align_self": null,
            "border": null,
            "bottom": null,
            "display": null,
            "flex": null,
            "flex_flow": null,
            "grid_area": null,
            "grid_auto_columns": null,
            "grid_auto_flow": null,
            "grid_auto_rows": null,
            "grid_column": null,
            "grid_gap": null,
            "grid_row": null,
            "grid_template_areas": null,
            "grid_template_columns": null,
            "grid_template_rows": null,
            "height": null,
            "justify_content": null,
            "justify_items": null,
            "left": null,
            "margin": null,
            "max_height": null,
            "max_width": null,
            "min_height": null,
            "min_width": null,
            "object_fit": null,
            "object_position": null,
            "order": null,
            "overflow": null,
            "overflow_x": null,
            "overflow_y": null,
            "padding": null,
            "right": null,
            "top": null,
            "visibility": null,
            "width": null
          }
        },
        "9277116868894cb683f839dbe8ac0822": {
          "model_module": "@jupyter-widgets/controls",
          "model_name": "ProgressStyleModel",
          "model_module_version": "1.5.0",
          "state": {
            "_model_module": "@jupyter-widgets/controls",
            "_model_module_version": "1.5.0",
            "_model_name": "ProgressStyleModel",
            "_view_count": null,
            "_view_module": "@jupyter-widgets/base",
            "_view_module_version": "1.2.0",
            "_view_name": "StyleView",
            "bar_color": null,
            "description_width": ""
          }
        },
        "b1b6d28d17154871962c9ca79cb859af": {
          "model_module": "@jupyter-widgets/base",
          "model_name": "LayoutModel",
          "model_module_version": "1.2.0",
          "state": {
            "_model_module": "@jupyter-widgets/base",
            "_model_module_version": "1.2.0",
            "_model_name": "LayoutModel",
            "_view_count": null,
            "_view_module": "@jupyter-widgets/base",
            "_view_module_version": "1.2.0",
            "_view_name": "LayoutView",
            "align_content": null,
            "align_items": null,
            "align_self": null,
            "border": null,
            "bottom": null,
            "display": null,
            "flex": null,
            "flex_flow": null,
            "grid_area": null,
            "grid_auto_columns": null,
            "grid_auto_flow": null,
            "grid_auto_rows": null,
            "grid_column": null,
            "grid_gap": null,
            "grid_row": null,
            "grid_template_areas": null,
            "grid_template_columns": null,
            "grid_template_rows": null,
            "height": null,
            "justify_content": null,
            "justify_items": null,
            "left": null,
            "margin": null,
            "max_height": null,
            "max_width": null,
            "min_height": null,
            "min_width": null,
            "object_fit": null,
            "object_position": null,
            "order": null,
            "overflow": null,
            "overflow_x": null,
            "overflow_y": null,
            "padding": null,
            "right": null,
            "top": null,
            "visibility": null,
            "width": null
          }
        },
        "445c5bd812134bb99882679852f8bac7": {
          "model_module": "@jupyter-widgets/controls",
          "model_name": "DescriptionStyleModel",
          "model_module_version": "1.5.0",
          "state": {
            "_model_module": "@jupyter-widgets/controls",
            "_model_module_version": "1.5.0",
            "_model_name": "DescriptionStyleModel",
            "_view_count": null,
            "_view_module": "@jupyter-widgets/base",
            "_view_module_version": "1.2.0",
            "_view_name": "StyleView",
            "description_width": ""
          }
        },
        "2b2696b64ef4415da158dfa58d5a9f2c": {
          "model_module": "@jupyter-widgets/controls",
          "model_name": "HBoxModel",
          "model_module_version": "1.5.0",
          "state": {
            "_dom_classes": [],
            "_model_module": "@jupyter-widgets/controls",
            "_model_module_version": "1.5.0",
            "_model_name": "HBoxModel",
            "_view_count": null,
            "_view_module": "@jupyter-widgets/controls",
            "_view_module_version": "1.5.0",
            "_view_name": "HBoxView",
            "box_style": "",
            "children": [
              "IPY_MODEL_3775cca3110f442095b1e29f99809bd7",
              "IPY_MODEL_ec731a4c87d14cadad6f30811d406cc1",
              "IPY_MODEL_08c185092bbf4a8e80c1aba636526fdb"
            ],
            "layout": "IPY_MODEL_9e30b74ec6d24bc486a1d8196600e93a"
          }
        },
        "3775cca3110f442095b1e29f99809bd7": {
          "model_module": "@jupyter-widgets/controls",
          "model_name": "HTMLModel",
          "model_module_version": "1.5.0",
          "state": {
            "_dom_classes": [],
            "_model_module": "@jupyter-widgets/controls",
            "_model_module_version": "1.5.0",
            "_model_name": "HTMLModel",
            "_view_count": null,
            "_view_module": "@jupyter-widgets/controls",
            "_view_module_version": "1.5.0",
            "_view_name": "HTMLView",
            "description": "",
            "description_tooltip": null,
            "layout": "IPY_MODEL_1c9f206f3ba048968b0486d1e20e8425",
            "placeholder": "​",
            "style": "IPY_MODEL_6dae1dbaba864cbc9c41fe71ca8019ce",
            "value": "model.safetensors: 100%"
          }
        },
        "ec731a4c87d14cadad6f30811d406cc1": {
          "model_module": "@jupyter-widgets/controls",
          "model_name": "FloatProgressModel",
          "model_module_version": "1.5.0",
          "state": {
            "_dom_classes": [],
            "_model_module": "@jupyter-widgets/controls",
            "_model_module_version": "1.5.0",
            "_model_name": "FloatProgressModel",
            "_view_count": null,
            "_view_module": "@jupyter-widgets/controls",
            "_view_module_version": "1.5.0",
            "_view_name": "ProgressView",
            "bar_style": "success",
            "description": "",
            "description_tooltip": null,
            "layout": "IPY_MODEL_6d1a01c9fe1245ca97bab9fb9812fa13",
            "max": 437971872,
            "min": 0,
            "orientation": "horizontal",
            "style": "IPY_MODEL_dda803ba2b4d4b9d914684cb60e4c9d9",
            "value": 437971872
          }
        },
        "08c185092bbf4a8e80c1aba636526fdb": {
          "model_module": "@jupyter-widgets/controls",
          "model_name": "HTMLModel",
          "model_module_version": "1.5.0",
          "state": {
            "_dom_classes": [],
            "_model_module": "@jupyter-widgets/controls",
            "_model_module_version": "1.5.0",
            "_model_name": "HTMLModel",
            "_view_count": null,
            "_view_module": "@jupyter-widgets/controls",
            "_view_module_version": "1.5.0",
            "_view_name": "HTMLView",
            "description": "",
            "description_tooltip": null,
            "layout": "IPY_MODEL_366690d230a74537919ea81e2101f843",
            "placeholder": "​",
            "style": "IPY_MODEL_5dcd84fb7808427f9104f01fed22d5cc",
            "value": " 438M/438M [00:04&lt;00:00, 92.5MB/s]"
          }
        },
        "9e30b74ec6d24bc486a1d8196600e93a": {
          "model_module": "@jupyter-widgets/base",
          "model_name": "LayoutModel",
          "model_module_version": "1.2.0",
          "state": {
            "_model_module": "@jupyter-widgets/base",
            "_model_module_version": "1.2.0",
            "_model_name": "LayoutModel",
            "_view_count": null,
            "_view_module": "@jupyter-widgets/base",
            "_view_module_version": "1.2.0",
            "_view_name": "LayoutView",
            "align_content": null,
            "align_items": null,
            "align_self": null,
            "border": null,
            "bottom": null,
            "display": null,
            "flex": null,
            "flex_flow": null,
            "grid_area": null,
            "grid_auto_columns": null,
            "grid_auto_flow": null,
            "grid_auto_rows": null,
            "grid_column": null,
            "grid_gap": null,
            "grid_row": null,
            "grid_template_areas": null,
            "grid_template_columns": null,
            "grid_template_rows": null,
            "height": null,
            "justify_content": null,
            "justify_items": null,
            "left": null,
            "margin": null,
            "max_height": null,
            "max_width": null,
            "min_height": null,
            "min_width": null,
            "object_fit": null,
            "object_position": null,
            "order": null,
            "overflow": null,
            "overflow_x": null,
            "overflow_y": null,
            "padding": null,
            "right": null,
            "top": null,
            "visibility": null,
            "width": null
          }
        },
        "1c9f206f3ba048968b0486d1e20e8425": {
          "model_module": "@jupyter-widgets/base",
          "model_name": "LayoutModel",
          "model_module_version": "1.2.0",
          "state": {
            "_model_module": "@jupyter-widgets/base",
            "_model_module_version": "1.2.0",
            "_model_name": "LayoutModel",
            "_view_count": null,
            "_view_module": "@jupyter-widgets/base",
            "_view_module_version": "1.2.0",
            "_view_name": "LayoutView",
            "align_content": null,
            "align_items": null,
            "align_self": null,
            "border": null,
            "bottom": null,
            "display": null,
            "flex": null,
            "flex_flow": null,
            "grid_area": null,
            "grid_auto_columns": null,
            "grid_auto_flow": null,
            "grid_auto_rows": null,
            "grid_column": null,
            "grid_gap": null,
            "grid_row": null,
            "grid_template_areas": null,
            "grid_template_columns": null,
            "grid_template_rows": null,
            "height": null,
            "justify_content": null,
            "justify_items": null,
            "left": null,
            "margin": null,
            "max_height": null,
            "max_width": null,
            "min_height": null,
            "min_width": null,
            "object_fit": null,
            "object_position": null,
            "order": null,
            "overflow": null,
            "overflow_x": null,
            "overflow_y": null,
            "padding": null,
            "right": null,
            "top": null,
            "visibility": null,
            "width": null
          }
        },
        "6dae1dbaba864cbc9c41fe71ca8019ce": {
          "model_module": "@jupyter-widgets/controls",
          "model_name": "DescriptionStyleModel",
          "model_module_version": "1.5.0",
          "state": {
            "_model_module": "@jupyter-widgets/controls",
            "_model_module_version": "1.5.0",
            "_model_name": "DescriptionStyleModel",
            "_view_count": null,
            "_view_module": "@jupyter-widgets/base",
            "_view_module_version": "1.2.0",
            "_view_name": "StyleView",
            "description_width": ""
          }
        },
        "6d1a01c9fe1245ca97bab9fb9812fa13": {
          "model_module": "@jupyter-widgets/base",
          "model_name": "LayoutModel",
          "model_module_version": "1.2.0",
          "state": {
            "_model_module": "@jupyter-widgets/base",
            "_model_module_version": "1.2.0",
            "_model_name": "LayoutModel",
            "_view_count": null,
            "_view_module": "@jupyter-widgets/base",
            "_view_module_version": "1.2.0",
            "_view_name": "LayoutView",
            "align_content": null,
            "align_items": null,
            "align_self": null,
            "border": null,
            "bottom": null,
            "display": null,
            "flex": null,
            "flex_flow": null,
            "grid_area": null,
            "grid_auto_columns": null,
            "grid_auto_flow": null,
            "grid_auto_rows": null,
            "grid_column": null,
            "grid_gap": null,
            "grid_row": null,
            "grid_template_areas": null,
            "grid_template_columns": null,
            "grid_template_rows": null,
            "height": null,
            "justify_content": null,
            "justify_items": null,
            "left": null,
            "margin": null,
            "max_height": null,
            "max_width": null,
            "min_height": null,
            "min_width": null,
            "object_fit": null,
            "object_position": null,
            "order": null,
            "overflow": null,
            "overflow_x": null,
            "overflow_y": null,
            "padding": null,
            "right": null,
            "top": null,
            "visibility": null,
            "width": null
          }
        },
        "dda803ba2b4d4b9d914684cb60e4c9d9": {
          "model_module": "@jupyter-widgets/controls",
          "model_name": "ProgressStyleModel",
          "model_module_version": "1.5.0",
          "state": {
            "_model_module": "@jupyter-widgets/controls",
            "_model_module_version": "1.5.0",
            "_model_name": "ProgressStyleModel",
            "_view_count": null,
            "_view_module": "@jupyter-widgets/base",
            "_view_module_version": "1.2.0",
            "_view_name": "StyleView",
            "bar_color": null,
            "description_width": ""
          }
        },
        "366690d230a74537919ea81e2101f843": {
          "model_module": "@jupyter-widgets/base",
          "model_name": "LayoutModel",
          "model_module_version": "1.2.0",
          "state": {
            "_model_module": "@jupyter-widgets/base",
            "_model_module_version": "1.2.0",
            "_model_name": "LayoutModel",
            "_view_count": null,
            "_view_module": "@jupyter-widgets/base",
            "_view_module_version": "1.2.0",
            "_view_name": "LayoutView",
            "align_content": null,
            "align_items": null,
            "align_self": null,
            "border": null,
            "bottom": null,
            "display": null,
            "flex": null,
            "flex_flow": null,
            "grid_area": null,
            "grid_auto_columns": null,
            "grid_auto_flow": null,
            "grid_auto_rows": null,
            "grid_column": null,
            "grid_gap": null,
            "grid_row": null,
            "grid_template_areas": null,
            "grid_template_columns": null,
            "grid_template_rows": null,
            "height": null,
            "justify_content": null,
            "justify_items": null,
            "left": null,
            "margin": null,
            "max_height": null,
            "max_width": null,
            "min_height": null,
            "min_width": null,
            "object_fit": null,
            "object_position": null,
            "order": null,
            "overflow": null,
            "overflow_x": null,
            "overflow_y": null,
            "padding": null,
            "right": null,
            "top": null,
            "visibility": null,
            "width": null
          }
        },
        "5dcd84fb7808427f9104f01fed22d5cc": {
          "model_module": "@jupyter-widgets/controls",
          "model_name": "DescriptionStyleModel",
          "model_module_version": "1.5.0",
          "state": {
            "_model_module": "@jupyter-widgets/controls",
            "_model_module_version": "1.5.0",
            "_model_name": "DescriptionStyleModel",
            "_view_count": null,
            "_view_module": "@jupyter-widgets/base",
            "_view_module_version": "1.2.0",
            "_view_name": "StyleView",
            "description_width": ""
          }
        },
        "ca9d97a6aec54c36ab3b5d8dd29a1869": {
          "model_module": "@jupyter-widgets/controls",
          "model_name": "HBoxModel",
          "model_module_version": "1.5.0",
          "state": {
            "_dom_classes": [],
            "_model_module": "@jupyter-widgets/controls",
            "_model_module_version": "1.5.0",
            "_model_name": "HBoxModel",
            "_view_count": null,
            "_view_module": "@jupyter-widgets/controls",
            "_view_module_version": "1.5.0",
            "_view_name": "HBoxView",
            "box_style": "",
            "children": [
              "IPY_MODEL_9e06af72427e4bd5a8d62d23d9342fda",
              "IPY_MODEL_b2b3acd7679c45558d07a8d1d336b716",
              "IPY_MODEL_84f30a589f1045559c71c36ea504bc31"
            ],
            "layout": "IPY_MODEL_8d2951c2b1f94caaa7e294420f8b331e"
          }
        },
        "9e06af72427e4bd5a8d62d23d9342fda": {
          "model_module": "@jupyter-widgets/controls",
          "model_name": "HTMLModel",
          "model_module_version": "1.5.0",
          "state": {
            "_dom_classes": [],
            "_model_module": "@jupyter-widgets/controls",
            "_model_module_version": "1.5.0",
            "_model_name": "HTMLModel",
            "_view_count": null,
            "_view_module": "@jupyter-widgets/controls",
            "_view_module_version": "1.5.0",
            "_view_name": "HTMLView",
            "description": "",
            "description_tooltip": null,
            "layout": "IPY_MODEL_117c4d3cc3dc42df883aed962553ff5b",
            "placeholder": "​",
            "style": "IPY_MODEL_20876eb40bc04b1caad6ca1acf3bffd4",
            "value": "tokenizer_config.json: 100%"
          }
        },
        "b2b3acd7679c45558d07a8d1d336b716": {
          "model_module": "@jupyter-widgets/controls",
          "model_name": "FloatProgressModel",
          "model_module_version": "1.5.0",
          "state": {
            "_dom_classes": [],
            "_model_module": "@jupyter-widgets/controls",
            "_model_module_version": "1.5.0",
            "_model_name": "FloatProgressModel",
            "_view_count": null,
            "_view_module": "@jupyter-widgets/controls",
            "_view_module_version": "1.5.0",
            "_view_name": "ProgressView",
            "bar_style": "success",
            "description": "",
            "description_tooltip": null,
            "layout": "IPY_MODEL_bb4e76aae4f84efcaf8581d71c9b8eed",
            "max": 363,
            "min": 0,
            "orientation": "horizontal",
            "style": "IPY_MODEL_8e0ccd4d6b374c30b4423664cdbeb9b2",
            "value": 363
          }
        },
        "84f30a589f1045559c71c36ea504bc31": {
          "model_module": "@jupyter-widgets/controls",
          "model_name": "HTMLModel",
          "model_module_version": "1.5.0",
          "state": {
            "_dom_classes": [],
            "_model_module": "@jupyter-widgets/controls",
            "_model_module_version": "1.5.0",
            "_model_name": "HTMLModel",
            "_view_count": null,
            "_view_module": "@jupyter-widgets/controls",
            "_view_module_version": "1.5.0",
            "_view_name": "HTMLView",
            "description": "",
            "description_tooltip": null,
            "layout": "IPY_MODEL_35dd19d3d0c94ce8a2e4f02c5d12f602",
            "placeholder": "​",
            "style": "IPY_MODEL_1eb6171001db42e9b5260e1328e6c35c",
            "value": " 363/363 [00:00&lt;00:00, 3.84kB/s]"
          }
        },
        "8d2951c2b1f94caaa7e294420f8b331e": {
          "model_module": "@jupyter-widgets/base",
          "model_name": "LayoutModel",
          "model_module_version": "1.2.0",
          "state": {
            "_model_module": "@jupyter-widgets/base",
            "_model_module_version": "1.2.0",
            "_model_name": "LayoutModel",
            "_view_count": null,
            "_view_module": "@jupyter-widgets/base",
            "_view_module_version": "1.2.0",
            "_view_name": "LayoutView",
            "align_content": null,
            "align_items": null,
            "align_self": null,
            "border": null,
            "bottom": null,
            "display": null,
            "flex": null,
            "flex_flow": null,
            "grid_area": null,
            "grid_auto_columns": null,
            "grid_auto_flow": null,
            "grid_auto_rows": null,
            "grid_column": null,
            "grid_gap": null,
            "grid_row": null,
            "grid_template_areas": null,
            "grid_template_columns": null,
            "grid_template_rows": null,
            "height": null,
            "justify_content": null,
            "justify_items": null,
            "left": null,
            "margin": null,
            "max_height": null,
            "max_width": null,
            "min_height": null,
            "min_width": null,
            "object_fit": null,
            "object_position": null,
            "order": null,
            "overflow": null,
            "overflow_x": null,
            "overflow_y": null,
            "padding": null,
            "right": null,
            "top": null,
            "visibility": null,
            "width": null
          }
        },
        "117c4d3cc3dc42df883aed962553ff5b": {
          "model_module": "@jupyter-widgets/base",
          "model_name": "LayoutModel",
          "model_module_version": "1.2.0",
          "state": {
            "_model_module": "@jupyter-widgets/base",
            "_model_module_version": "1.2.0",
            "_model_name": "LayoutModel",
            "_view_count": null,
            "_view_module": "@jupyter-widgets/base",
            "_view_module_version": "1.2.0",
            "_view_name": "LayoutView",
            "align_content": null,
            "align_items": null,
            "align_self": null,
            "border": null,
            "bottom": null,
            "display": null,
            "flex": null,
            "flex_flow": null,
            "grid_area": null,
            "grid_auto_columns": null,
            "grid_auto_flow": null,
            "grid_auto_rows": null,
            "grid_column": null,
            "grid_gap": null,
            "grid_row": null,
            "grid_template_areas": null,
            "grid_template_columns": null,
            "grid_template_rows": null,
            "height": null,
            "justify_content": null,
            "justify_items": null,
            "left": null,
            "margin": null,
            "max_height": null,
            "max_width": null,
            "min_height": null,
            "min_width": null,
            "object_fit": null,
            "object_position": null,
            "order": null,
            "overflow": null,
            "overflow_x": null,
            "overflow_y": null,
            "padding": null,
            "right": null,
            "top": null,
            "visibility": null,
            "width": null
          }
        },
        "20876eb40bc04b1caad6ca1acf3bffd4": {
          "model_module": "@jupyter-widgets/controls",
          "model_name": "DescriptionStyleModel",
          "model_module_version": "1.5.0",
          "state": {
            "_model_module": "@jupyter-widgets/controls",
            "_model_module_version": "1.5.0",
            "_model_name": "DescriptionStyleModel",
            "_view_count": null,
            "_view_module": "@jupyter-widgets/base",
            "_view_module_version": "1.2.0",
            "_view_name": "StyleView",
            "description_width": ""
          }
        },
        "bb4e76aae4f84efcaf8581d71c9b8eed": {
          "model_module": "@jupyter-widgets/base",
          "model_name": "LayoutModel",
          "model_module_version": "1.2.0",
          "state": {
            "_model_module": "@jupyter-widgets/base",
            "_model_module_version": "1.2.0",
            "_model_name": "LayoutModel",
            "_view_count": null,
            "_view_module": "@jupyter-widgets/base",
            "_view_module_version": "1.2.0",
            "_view_name": "LayoutView",
            "align_content": null,
            "align_items": null,
            "align_self": null,
            "border": null,
            "bottom": null,
            "display": null,
            "flex": null,
            "flex_flow": null,
            "grid_area": null,
            "grid_auto_columns": null,
            "grid_auto_flow": null,
            "grid_auto_rows": null,
            "grid_column": null,
            "grid_gap": null,
            "grid_row": null,
            "grid_template_areas": null,
            "grid_template_columns": null,
            "grid_template_rows": null,
            "height": null,
            "justify_content": null,
            "justify_items": null,
            "left": null,
            "margin": null,
            "max_height": null,
            "max_width": null,
            "min_height": null,
            "min_width": null,
            "object_fit": null,
            "object_position": null,
            "order": null,
            "overflow": null,
            "overflow_x": null,
            "overflow_y": null,
            "padding": null,
            "right": null,
            "top": null,
            "visibility": null,
            "width": null
          }
        },
        "8e0ccd4d6b374c30b4423664cdbeb9b2": {
          "model_module": "@jupyter-widgets/controls",
          "model_name": "ProgressStyleModel",
          "model_module_version": "1.5.0",
          "state": {
            "_model_module": "@jupyter-widgets/controls",
            "_model_module_version": "1.5.0",
            "_model_name": "ProgressStyleModel",
            "_view_count": null,
            "_view_module": "@jupyter-widgets/base",
            "_view_module_version": "1.2.0",
            "_view_name": "StyleView",
            "bar_color": null,
            "description_width": ""
          }
        },
        "35dd19d3d0c94ce8a2e4f02c5d12f602": {
          "model_module": "@jupyter-widgets/base",
          "model_name": "LayoutModel",
          "model_module_version": "1.2.0",
          "state": {
            "_model_module": "@jupyter-widgets/base",
            "_model_module_version": "1.2.0",
            "_model_name": "LayoutModel",
            "_view_count": null,
            "_view_module": "@jupyter-widgets/base",
            "_view_module_version": "1.2.0",
            "_view_name": "LayoutView",
            "align_content": null,
            "align_items": null,
            "align_self": null,
            "border": null,
            "bottom": null,
            "display": null,
            "flex": null,
            "flex_flow": null,
            "grid_area": null,
            "grid_auto_columns": null,
            "grid_auto_flow": null,
            "grid_auto_rows": null,
            "grid_column": null,
            "grid_gap": null,
            "grid_row": null,
            "grid_template_areas": null,
            "grid_template_columns": null,
            "grid_template_rows": null,
            "height": null,
            "justify_content": null,
            "justify_items": null,
            "left": null,
            "margin": null,
            "max_height": null,
            "max_width": null,
            "min_height": null,
            "min_width": null,
            "object_fit": null,
            "object_position": null,
            "order": null,
            "overflow": null,
            "overflow_x": null,
            "overflow_y": null,
            "padding": null,
            "right": null,
            "top": null,
            "visibility": null,
            "width": null
          }
        },
        "1eb6171001db42e9b5260e1328e6c35c": {
          "model_module": "@jupyter-widgets/controls",
          "model_name": "DescriptionStyleModel",
          "model_module_version": "1.5.0",
          "state": {
            "_model_module": "@jupyter-widgets/controls",
            "_model_module_version": "1.5.0",
            "_model_name": "DescriptionStyleModel",
            "_view_count": null,
            "_view_module": "@jupyter-widgets/base",
            "_view_module_version": "1.2.0",
            "_view_name": "StyleView",
            "description_width": ""
          }
        },
        "9f41e756c4644ba99a77f7897f45d582": {
          "model_module": "@jupyter-widgets/controls",
          "model_name": "HBoxModel",
          "model_module_version": "1.5.0",
          "state": {
            "_dom_classes": [],
            "_model_module": "@jupyter-widgets/controls",
            "_model_module_version": "1.5.0",
            "_model_name": "HBoxModel",
            "_view_count": null,
            "_view_module": "@jupyter-widgets/controls",
            "_view_module_version": "1.5.0",
            "_view_name": "HBoxView",
            "box_style": "",
            "children": [
              "IPY_MODEL_ffea073d42624f629f7431a5bba6c7ae",
              "IPY_MODEL_d932180d32cc4b73a43d97a49f3b60e3",
              "IPY_MODEL_95f3f7e40a9246938658165cb507e49e"
            ],
            "layout": "IPY_MODEL_c830690f15fa4e4991d5830fdfa0a6c4"
          }
        },
        "ffea073d42624f629f7431a5bba6c7ae": {
          "model_module": "@jupyter-widgets/controls",
          "model_name": "HTMLModel",
          "model_module_version": "1.5.0",
          "state": {
            "_dom_classes": [],
            "_model_module": "@jupyter-widgets/controls",
            "_model_module_version": "1.5.0",
            "_model_name": "HTMLModel",
            "_view_count": null,
            "_view_module": "@jupyter-widgets/controls",
            "_view_module_version": "1.5.0",
            "_view_name": "HTMLView",
            "description": "",
            "description_tooltip": null,
            "layout": "IPY_MODEL_b54fc29e81a5429db65aebe7850519cc",
            "placeholder": "​",
            "style": "IPY_MODEL_66574e1e44df44fd8e3f8f785f6d72d8",
            "value": "vocab.txt: 100%"
          }
        },
        "d932180d32cc4b73a43d97a49f3b60e3": {
          "model_module": "@jupyter-widgets/controls",
          "model_name": "FloatProgressModel",
          "model_module_version": "1.5.0",
          "state": {
            "_dom_classes": [],
            "_model_module": "@jupyter-widgets/controls",
            "_model_module_version": "1.5.0",
            "_model_name": "FloatProgressModel",
            "_view_count": null,
            "_view_module": "@jupyter-widgets/controls",
            "_view_module_version": "1.5.0",
            "_view_name": "ProgressView",
            "bar_style": "success",
            "description": "",
            "description_tooltip": null,
            "layout": "IPY_MODEL_32f84742c414439a85601a21111622eb",
            "max": 231536,
            "min": 0,
            "orientation": "horizontal",
            "style": "IPY_MODEL_3e3314dc016c4e41b13a7ce6faf3d408",
            "value": 231536
          }
        },
        "95f3f7e40a9246938658165cb507e49e": {
          "model_module": "@jupyter-widgets/controls",
          "model_name": "HTMLModel",
          "model_module_version": "1.5.0",
          "state": {
            "_dom_classes": [],
            "_model_module": "@jupyter-widgets/controls",
            "_model_module_version": "1.5.0",
            "_model_name": "HTMLModel",
            "_view_count": null,
            "_view_module": "@jupyter-widgets/controls",
            "_view_module_version": "1.5.0",
            "_view_name": "HTMLView",
            "description": "",
            "description_tooltip": null,
            "layout": "IPY_MODEL_6f2979c93dde4d72bffa8b4d51bcfebf",
            "placeholder": "​",
            "style": "IPY_MODEL_f10067d0b8294c1983232c0482a90878",
            "value": " 232k/232k [00:00&lt;00:00, 3.72MB/s]"
          }
        },
        "c830690f15fa4e4991d5830fdfa0a6c4": {
          "model_module": "@jupyter-widgets/base",
          "model_name": "LayoutModel",
          "model_module_version": "1.2.0",
          "state": {
            "_model_module": "@jupyter-widgets/base",
            "_model_module_version": "1.2.0",
            "_model_name": "LayoutModel",
            "_view_count": null,
            "_view_module": "@jupyter-widgets/base",
            "_view_module_version": "1.2.0",
            "_view_name": "LayoutView",
            "align_content": null,
            "align_items": null,
            "align_self": null,
            "border": null,
            "bottom": null,
            "display": null,
            "flex": null,
            "flex_flow": null,
            "grid_area": null,
            "grid_auto_columns": null,
            "grid_auto_flow": null,
            "grid_auto_rows": null,
            "grid_column": null,
            "grid_gap": null,
            "grid_row": null,
            "grid_template_areas": null,
            "grid_template_columns": null,
            "grid_template_rows": null,
            "height": null,
            "justify_content": null,
            "justify_items": null,
            "left": null,
            "margin": null,
            "max_height": null,
            "max_width": null,
            "min_height": null,
            "min_width": null,
            "object_fit": null,
            "object_position": null,
            "order": null,
            "overflow": null,
            "overflow_x": null,
            "overflow_y": null,
            "padding": null,
            "right": null,
            "top": null,
            "visibility": null,
            "width": null
          }
        },
        "b54fc29e81a5429db65aebe7850519cc": {
          "model_module": "@jupyter-widgets/base",
          "model_name": "LayoutModel",
          "model_module_version": "1.2.0",
          "state": {
            "_model_module": "@jupyter-widgets/base",
            "_model_module_version": "1.2.0",
            "_model_name": "LayoutModel",
            "_view_count": null,
            "_view_module": "@jupyter-widgets/base",
            "_view_module_version": "1.2.0",
            "_view_name": "LayoutView",
            "align_content": null,
            "align_items": null,
            "align_self": null,
            "border": null,
            "bottom": null,
            "display": null,
            "flex": null,
            "flex_flow": null,
            "grid_area": null,
            "grid_auto_columns": null,
            "grid_auto_flow": null,
            "grid_auto_rows": null,
            "grid_column": null,
            "grid_gap": null,
            "grid_row": null,
            "grid_template_areas": null,
            "grid_template_columns": null,
            "grid_template_rows": null,
            "height": null,
            "justify_content": null,
            "justify_items": null,
            "left": null,
            "margin": null,
            "max_height": null,
            "max_width": null,
            "min_height": null,
            "min_width": null,
            "object_fit": null,
            "object_position": null,
            "order": null,
            "overflow": null,
            "overflow_x": null,
            "overflow_y": null,
            "padding": null,
            "right": null,
            "top": null,
            "visibility": null,
            "width": null
          }
        },
        "66574e1e44df44fd8e3f8f785f6d72d8": {
          "model_module": "@jupyter-widgets/controls",
          "model_name": "DescriptionStyleModel",
          "model_module_version": "1.5.0",
          "state": {
            "_model_module": "@jupyter-widgets/controls",
            "_model_module_version": "1.5.0",
            "_model_name": "DescriptionStyleModel",
            "_view_count": null,
            "_view_module": "@jupyter-widgets/base",
            "_view_module_version": "1.2.0",
            "_view_name": "StyleView",
            "description_width": ""
          }
        },
        "32f84742c414439a85601a21111622eb": {
          "model_module": "@jupyter-widgets/base",
          "model_name": "LayoutModel",
          "model_module_version": "1.2.0",
          "state": {
            "_model_module": "@jupyter-widgets/base",
            "_model_module_version": "1.2.0",
            "_model_name": "LayoutModel",
            "_view_count": null,
            "_view_module": "@jupyter-widgets/base",
            "_view_module_version": "1.2.0",
            "_view_name": "LayoutView",
            "align_content": null,
            "align_items": null,
            "align_self": null,
            "border": null,
            "bottom": null,
            "display": null,
            "flex": null,
            "flex_flow": null,
            "grid_area": null,
            "grid_auto_columns": null,
            "grid_auto_flow": null,
            "grid_auto_rows": null,
            "grid_column": null,
            "grid_gap": null,
            "grid_row": null,
            "grid_template_areas": null,
            "grid_template_columns": null,
            "grid_template_rows": null,
            "height": null,
            "justify_content": null,
            "justify_items": null,
            "left": null,
            "margin": null,
            "max_height": null,
            "max_width": null,
            "min_height": null,
            "min_width": null,
            "object_fit": null,
            "object_position": null,
            "order": null,
            "overflow": null,
            "overflow_x": null,
            "overflow_y": null,
            "padding": null,
            "right": null,
            "top": null,
            "visibility": null,
            "width": null
          }
        },
        "3e3314dc016c4e41b13a7ce6faf3d408": {
          "model_module": "@jupyter-widgets/controls",
          "model_name": "ProgressStyleModel",
          "model_module_version": "1.5.0",
          "state": {
            "_model_module": "@jupyter-widgets/controls",
            "_model_module_version": "1.5.0",
            "_model_name": "ProgressStyleModel",
            "_view_count": null,
            "_view_module": "@jupyter-widgets/base",
            "_view_module_version": "1.2.0",
            "_view_name": "StyleView",
            "bar_color": null,
            "description_width": ""
          }
        },
        "6f2979c93dde4d72bffa8b4d51bcfebf": {
          "model_module": "@jupyter-widgets/base",
          "model_name": "LayoutModel",
          "model_module_version": "1.2.0",
          "state": {
            "_model_module": "@jupyter-widgets/base",
            "_model_module_version": "1.2.0",
            "_model_name": "LayoutModel",
            "_view_count": null,
            "_view_module": "@jupyter-widgets/base",
            "_view_module_version": "1.2.0",
            "_view_name": "LayoutView",
            "align_content": null,
            "align_items": null,
            "align_self": null,
            "border": null,
            "bottom": null,
            "display": null,
            "flex": null,
            "flex_flow": null,
            "grid_area": null,
            "grid_auto_columns": null,
            "grid_auto_flow": null,
            "grid_auto_rows": null,
            "grid_column": null,
            "grid_gap": null,
            "grid_row": null,
            "grid_template_areas": null,
            "grid_template_columns": null,
            "grid_template_rows": null,
            "height": null,
            "justify_content": null,
            "justify_items": null,
            "left": null,
            "margin": null,
            "max_height": null,
            "max_width": null,
            "min_height": null,
            "min_width": null,
            "object_fit": null,
            "object_position": null,
            "order": null,
            "overflow": null,
            "overflow_x": null,
            "overflow_y": null,
            "padding": null,
            "right": null,
            "top": null,
            "visibility": null,
            "width": null
          }
        },
        "f10067d0b8294c1983232c0482a90878": {
          "model_module": "@jupyter-widgets/controls",
          "model_name": "DescriptionStyleModel",
          "model_module_version": "1.5.0",
          "state": {
            "_model_module": "@jupyter-widgets/controls",
            "_model_module_version": "1.5.0",
            "_model_name": "DescriptionStyleModel",
            "_view_count": null,
            "_view_module": "@jupyter-widgets/base",
            "_view_module_version": "1.2.0",
            "_view_name": "StyleView",
            "description_width": ""
          }
        },
        "c3445c64107446e6968ebc53a74b84d8": {
          "model_module": "@jupyter-widgets/controls",
          "model_name": "HBoxModel",
          "model_module_version": "1.5.0",
          "state": {
            "_dom_classes": [],
            "_model_module": "@jupyter-widgets/controls",
            "_model_module_version": "1.5.0",
            "_model_name": "HBoxModel",
            "_view_count": null,
            "_view_module": "@jupyter-widgets/controls",
            "_view_module_version": "1.5.0",
            "_view_name": "HBoxView",
            "box_style": "",
            "children": [
              "IPY_MODEL_d74a4ca99abc45ea857c5eb616985ee4",
              "IPY_MODEL_beebacc1f58d493981b25f8405e27288",
              "IPY_MODEL_8ef5fb01a39b4a1c815e3749e962f49c"
            ],
            "layout": "IPY_MODEL_a6aa98a295da4c698cbd9000c36f2449"
          }
        },
        "d74a4ca99abc45ea857c5eb616985ee4": {
          "model_module": "@jupyter-widgets/controls",
          "model_name": "HTMLModel",
          "model_module_version": "1.5.0",
          "state": {
            "_dom_classes": [],
            "_model_module": "@jupyter-widgets/controls",
            "_model_module_version": "1.5.0",
            "_model_name": "HTMLModel",
            "_view_count": null,
            "_view_module": "@jupyter-widgets/controls",
            "_view_module_version": "1.5.0",
            "_view_name": "HTMLView",
            "description": "",
            "description_tooltip": null,
            "layout": "IPY_MODEL_1d9e533a4b384c5bac60480ef0ab049c",
            "placeholder": "​",
            "style": "IPY_MODEL_c452f67ab064448eab25cb13c2f41cb0",
            "value": "tokenizer.json: 100%"
          }
        },
        "beebacc1f58d493981b25f8405e27288": {
          "model_module": "@jupyter-widgets/controls",
          "model_name": "FloatProgressModel",
          "model_module_version": "1.5.0",
          "state": {
            "_dom_classes": [],
            "_model_module": "@jupyter-widgets/controls",
            "_model_module_version": "1.5.0",
            "_model_name": "FloatProgressModel",
            "_view_count": null,
            "_view_module": "@jupyter-widgets/controls",
            "_view_module_version": "1.5.0",
            "_view_name": "ProgressView",
            "bar_style": "success",
            "description": "",
            "description_tooltip": null,
            "layout": "IPY_MODEL_48b436027cbb4f29839c22020e1e9ef0",
            "max": 466021,
            "min": 0,
            "orientation": "horizontal",
            "style": "IPY_MODEL_39f90d9d8978441aa386d64b5bd56f37",
            "value": 466021
          }
        },
        "8ef5fb01a39b4a1c815e3749e962f49c": {
          "model_module": "@jupyter-widgets/controls",
          "model_name": "HTMLModel",
          "model_module_version": "1.5.0",
          "state": {
            "_dom_classes": [],
            "_model_module": "@jupyter-widgets/controls",
            "_model_module_version": "1.5.0",
            "_model_name": "HTMLModel",
            "_view_count": null,
            "_view_module": "@jupyter-widgets/controls",
            "_view_module_version": "1.5.0",
            "_view_name": "HTMLView",
            "description": "",
            "description_tooltip": null,
            "layout": "IPY_MODEL_5971e88df6cb4203955acfd20059836a",
            "placeholder": "​",
            "style": "IPY_MODEL_b158a6dfb7804d8e86dfe859eac23ec7",
            "value": " 466k/466k [00:00&lt;00:00, 3.78MB/s]"
          }
        },
        "a6aa98a295da4c698cbd9000c36f2449": {
          "model_module": "@jupyter-widgets/base",
          "model_name": "LayoutModel",
          "model_module_version": "1.2.0",
          "state": {
            "_model_module": "@jupyter-widgets/base",
            "_model_module_version": "1.2.0",
            "_model_name": "LayoutModel",
            "_view_count": null,
            "_view_module": "@jupyter-widgets/base",
            "_view_module_version": "1.2.0",
            "_view_name": "LayoutView",
            "align_content": null,
            "align_items": null,
            "align_self": null,
            "border": null,
            "bottom": null,
            "display": null,
            "flex": null,
            "flex_flow": null,
            "grid_area": null,
            "grid_auto_columns": null,
            "grid_auto_flow": null,
            "grid_auto_rows": null,
            "grid_column": null,
            "grid_gap": null,
            "grid_row": null,
            "grid_template_areas": null,
            "grid_template_columns": null,
            "grid_template_rows": null,
            "height": null,
            "justify_content": null,
            "justify_items": null,
            "left": null,
            "margin": null,
            "max_height": null,
            "max_width": null,
            "min_height": null,
            "min_width": null,
            "object_fit": null,
            "object_position": null,
            "order": null,
            "overflow": null,
            "overflow_x": null,
            "overflow_y": null,
            "padding": null,
            "right": null,
            "top": null,
            "visibility": null,
            "width": null
          }
        },
        "1d9e533a4b384c5bac60480ef0ab049c": {
          "model_module": "@jupyter-widgets/base",
          "model_name": "LayoutModel",
          "model_module_version": "1.2.0",
          "state": {
            "_model_module": "@jupyter-widgets/base",
            "_model_module_version": "1.2.0",
            "_model_name": "LayoutModel",
            "_view_count": null,
            "_view_module": "@jupyter-widgets/base",
            "_view_module_version": "1.2.0",
            "_view_name": "LayoutView",
            "align_content": null,
            "align_items": null,
            "align_self": null,
            "border": null,
            "bottom": null,
            "display": null,
            "flex": null,
            "flex_flow": null,
            "grid_area": null,
            "grid_auto_columns": null,
            "grid_auto_flow": null,
            "grid_auto_rows": null,
            "grid_column": null,
            "grid_gap": null,
            "grid_row": null,
            "grid_template_areas": null,
            "grid_template_columns": null,
            "grid_template_rows": null,
            "height": null,
            "justify_content": null,
            "justify_items": null,
            "left": null,
            "margin": null,
            "max_height": null,
            "max_width": null,
            "min_height": null,
            "min_width": null,
            "object_fit": null,
            "object_position": null,
            "order": null,
            "overflow": null,
            "overflow_x": null,
            "overflow_y": null,
            "padding": null,
            "right": null,
            "top": null,
            "visibility": null,
            "width": null
          }
        },
        "c452f67ab064448eab25cb13c2f41cb0": {
          "model_module": "@jupyter-widgets/controls",
          "model_name": "DescriptionStyleModel",
          "model_module_version": "1.5.0",
          "state": {
            "_model_module": "@jupyter-widgets/controls",
            "_model_module_version": "1.5.0",
            "_model_name": "DescriptionStyleModel",
            "_view_count": null,
            "_view_module": "@jupyter-widgets/base",
            "_view_module_version": "1.2.0",
            "_view_name": "StyleView",
            "description_width": ""
          }
        },
        "48b436027cbb4f29839c22020e1e9ef0": {
          "model_module": "@jupyter-widgets/base",
          "model_name": "LayoutModel",
          "model_module_version": "1.2.0",
          "state": {
            "_model_module": "@jupyter-widgets/base",
            "_model_module_version": "1.2.0",
            "_model_name": "LayoutModel",
            "_view_count": null,
            "_view_module": "@jupyter-widgets/base",
            "_view_module_version": "1.2.0",
            "_view_name": "LayoutView",
            "align_content": null,
            "align_items": null,
            "align_self": null,
            "border": null,
            "bottom": null,
            "display": null,
            "flex": null,
            "flex_flow": null,
            "grid_area": null,
            "grid_auto_columns": null,
            "grid_auto_flow": null,
            "grid_auto_rows": null,
            "grid_column": null,
            "grid_gap": null,
            "grid_row": null,
            "grid_template_areas": null,
            "grid_template_columns": null,
            "grid_template_rows": null,
            "height": null,
            "justify_content": null,
            "justify_items": null,
            "left": null,
            "margin": null,
            "max_height": null,
            "max_width": null,
            "min_height": null,
            "min_width": null,
            "object_fit": null,
            "object_position": null,
            "order": null,
            "overflow": null,
            "overflow_x": null,
            "overflow_y": null,
            "padding": null,
            "right": null,
            "top": null,
            "visibility": null,
            "width": null
          }
        },
        "39f90d9d8978441aa386d64b5bd56f37": {
          "model_module": "@jupyter-widgets/controls",
          "model_name": "ProgressStyleModel",
          "model_module_version": "1.5.0",
          "state": {
            "_model_module": "@jupyter-widgets/controls",
            "_model_module_version": "1.5.0",
            "_model_name": "ProgressStyleModel",
            "_view_count": null,
            "_view_module": "@jupyter-widgets/base",
            "_view_module_version": "1.2.0",
            "_view_name": "StyleView",
            "bar_color": null,
            "description_width": ""
          }
        },
        "5971e88df6cb4203955acfd20059836a": {
          "model_module": "@jupyter-widgets/base",
          "model_name": "LayoutModel",
          "model_module_version": "1.2.0",
          "state": {
            "_model_module": "@jupyter-widgets/base",
            "_model_module_version": "1.2.0",
            "_model_name": "LayoutModel",
            "_view_count": null,
            "_view_module": "@jupyter-widgets/base",
            "_view_module_version": "1.2.0",
            "_view_name": "LayoutView",
            "align_content": null,
            "align_items": null,
            "align_self": null,
            "border": null,
            "bottom": null,
            "display": null,
            "flex": null,
            "flex_flow": null,
            "grid_area": null,
            "grid_auto_columns": null,
            "grid_auto_flow": null,
            "grid_auto_rows": null,
            "grid_column": null,
            "grid_gap": null,
            "grid_row": null,
            "grid_template_areas": null,
            "grid_template_columns": null,
            "grid_template_rows": null,
            "height": null,
            "justify_content": null,
            "justify_items": null,
            "left": null,
            "margin": null,
            "max_height": null,
            "max_width": null,
            "min_height": null,
            "min_width": null,
            "object_fit": null,
            "object_position": null,
            "order": null,
            "overflow": null,
            "overflow_x": null,
            "overflow_y": null,
            "padding": null,
            "right": null,
            "top": null,
            "visibility": null,
            "width": null
          }
        },
        "b158a6dfb7804d8e86dfe859eac23ec7": {
          "model_module": "@jupyter-widgets/controls",
          "model_name": "DescriptionStyleModel",
          "model_module_version": "1.5.0",
          "state": {
            "_model_module": "@jupyter-widgets/controls",
            "_model_module_version": "1.5.0",
            "_model_name": "DescriptionStyleModel",
            "_view_count": null,
            "_view_module": "@jupyter-widgets/base",
            "_view_module_version": "1.2.0",
            "_view_name": "StyleView",
            "description_width": ""
          }
        },
        "ce9ca3dc3536499ea19ff895263e878b": {
          "model_module": "@jupyter-widgets/controls",
          "model_name": "HBoxModel",
          "model_module_version": "1.5.0",
          "state": {
            "_dom_classes": [],
            "_model_module": "@jupyter-widgets/controls",
            "_model_module_version": "1.5.0",
            "_model_name": "HBoxModel",
            "_view_count": null,
            "_view_module": "@jupyter-widgets/controls",
            "_view_module_version": "1.5.0",
            "_view_name": "HBoxView",
            "box_style": "",
            "children": [
              "IPY_MODEL_982adcf324964d59976469ec46097a4c",
              "IPY_MODEL_14919b6c72044970a8b4fda074a3d2e2",
              "IPY_MODEL_07ec1f255d584501b8543c4fe1733f31"
            ],
            "layout": "IPY_MODEL_4979c059e97e485ca34243339bdd8071"
          }
        },
        "982adcf324964d59976469ec46097a4c": {
          "model_module": "@jupyter-widgets/controls",
          "model_name": "HTMLModel",
          "model_module_version": "1.5.0",
          "state": {
            "_dom_classes": [],
            "_model_module": "@jupyter-widgets/controls",
            "_model_module_version": "1.5.0",
            "_model_name": "HTMLModel",
            "_view_count": null,
            "_view_module": "@jupyter-widgets/controls",
            "_view_module_version": "1.5.0",
            "_view_name": "HTMLView",
            "description": "",
            "description_tooltip": null,
            "layout": "IPY_MODEL_a85d7de47fc044d0a2d4ce7a8888488f",
            "placeholder": "​",
            "style": "IPY_MODEL_54bc7f67db8245ceb45888f8795763c7",
            "value": "special_tokens_map.json: 100%"
          }
        },
        "14919b6c72044970a8b4fda074a3d2e2": {
          "model_module": "@jupyter-widgets/controls",
          "model_name": "FloatProgressModel",
          "model_module_version": "1.5.0",
          "state": {
            "_dom_classes": [],
            "_model_module": "@jupyter-widgets/controls",
            "_model_module_version": "1.5.0",
            "_model_name": "FloatProgressModel",
            "_view_count": null,
            "_view_module": "@jupyter-widgets/controls",
            "_view_module_version": "1.5.0",
            "_view_name": "ProgressView",
            "bar_style": "success",
            "description": "",
            "description_tooltip": null,
            "layout": "IPY_MODEL_56236f53f8d64f0ba4d05fff20ae350c",
            "max": 239,
            "min": 0,
            "orientation": "horizontal",
            "style": "IPY_MODEL_14e0ab6a56854f17b67d53ee4b3cf186",
            "value": 239
          }
        },
        "07ec1f255d584501b8543c4fe1733f31": {
          "model_module": "@jupyter-widgets/controls",
          "model_name": "HTMLModel",
          "model_module_version": "1.5.0",
          "state": {
            "_dom_classes": [],
            "_model_module": "@jupyter-widgets/controls",
            "_model_module_version": "1.5.0",
            "_model_name": "HTMLModel",
            "_view_count": null,
            "_view_module": "@jupyter-widgets/controls",
            "_view_module_version": "1.5.0",
            "_view_name": "HTMLView",
            "description": "",
            "description_tooltip": null,
            "layout": "IPY_MODEL_1e79f71389af4e03aaeff3cd8e253a8e",
            "placeholder": "​",
            "style": "IPY_MODEL_5463cafc076948c5ba3fb627d77c3089",
            "value": " 239/239 [00:00&lt;00:00, 3.84kB/s]"
          }
        },
        "4979c059e97e485ca34243339bdd8071": {
          "model_module": "@jupyter-widgets/base",
          "model_name": "LayoutModel",
          "model_module_version": "1.2.0",
          "state": {
            "_model_module": "@jupyter-widgets/base",
            "_model_module_version": "1.2.0",
            "_model_name": "LayoutModel",
            "_view_count": null,
            "_view_module": "@jupyter-widgets/base",
            "_view_module_version": "1.2.0",
            "_view_name": "LayoutView",
            "align_content": null,
            "align_items": null,
            "align_self": null,
            "border": null,
            "bottom": null,
            "display": null,
            "flex": null,
            "flex_flow": null,
            "grid_area": null,
            "grid_auto_columns": null,
            "grid_auto_flow": null,
            "grid_auto_rows": null,
            "grid_column": null,
            "grid_gap": null,
            "grid_row": null,
            "grid_template_areas": null,
            "grid_template_columns": null,
            "grid_template_rows": null,
            "height": null,
            "justify_content": null,
            "justify_items": null,
            "left": null,
            "margin": null,
            "max_height": null,
            "max_width": null,
            "min_height": null,
            "min_width": null,
            "object_fit": null,
            "object_position": null,
            "order": null,
            "overflow": null,
            "overflow_x": null,
            "overflow_y": null,
            "padding": null,
            "right": null,
            "top": null,
            "visibility": null,
            "width": null
          }
        },
        "a85d7de47fc044d0a2d4ce7a8888488f": {
          "model_module": "@jupyter-widgets/base",
          "model_name": "LayoutModel",
          "model_module_version": "1.2.0",
          "state": {
            "_model_module": "@jupyter-widgets/base",
            "_model_module_version": "1.2.0",
            "_model_name": "LayoutModel",
            "_view_count": null,
            "_view_module": "@jupyter-widgets/base",
            "_view_module_version": "1.2.0",
            "_view_name": "LayoutView",
            "align_content": null,
            "align_items": null,
            "align_self": null,
            "border": null,
            "bottom": null,
            "display": null,
            "flex": null,
            "flex_flow": null,
            "grid_area": null,
            "grid_auto_columns": null,
            "grid_auto_flow": null,
            "grid_auto_rows": null,
            "grid_column": null,
            "grid_gap": null,
            "grid_row": null,
            "grid_template_areas": null,
            "grid_template_columns": null,
            "grid_template_rows": null,
            "height": null,
            "justify_content": null,
            "justify_items": null,
            "left": null,
            "margin": null,
            "max_height": null,
            "max_width": null,
            "min_height": null,
            "min_width": null,
            "object_fit": null,
            "object_position": null,
            "order": null,
            "overflow": null,
            "overflow_x": null,
            "overflow_y": null,
            "padding": null,
            "right": null,
            "top": null,
            "visibility": null,
            "width": null
          }
        },
        "54bc7f67db8245ceb45888f8795763c7": {
          "model_module": "@jupyter-widgets/controls",
          "model_name": "DescriptionStyleModel",
          "model_module_version": "1.5.0",
          "state": {
            "_model_module": "@jupyter-widgets/controls",
            "_model_module_version": "1.5.0",
            "_model_name": "DescriptionStyleModel",
            "_view_count": null,
            "_view_module": "@jupyter-widgets/base",
            "_view_module_version": "1.2.0",
            "_view_name": "StyleView",
            "description_width": ""
          }
        },
        "56236f53f8d64f0ba4d05fff20ae350c": {
          "model_module": "@jupyter-widgets/base",
          "model_name": "LayoutModel",
          "model_module_version": "1.2.0",
          "state": {
            "_model_module": "@jupyter-widgets/base",
            "_model_module_version": "1.2.0",
            "_model_name": "LayoutModel",
            "_view_count": null,
            "_view_module": "@jupyter-widgets/base",
            "_view_module_version": "1.2.0",
            "_view_name": "LayoutView",
            "align_content": null,
            "align_items": null,
            "align_self": null,
            "border": null,
            "bottom": null,
            "display": null,
            "flex": null,
            "flex_flow": null,
            "grid_area": null,
            "grid_auto_columns": null,
            "grid_auto_flow": null,
            "grid_auto_rows": null,
            "grid_column": null,
            "grid_gap": null,
            "grid_row": null,
            "grid_template_areas": null,
            "grid_template_columns": null,
            "grid_template_rows": null,
            "height": null,
            "justify_content": null,
            "justify_items": null,
            "left": null,
            "margin": null,
            "max_height": null,
            "max_width": null,
            "min_height": null,
            "min_width": null,
            "object_fit": null,
            "object_position": null,
            "order": null,
            "overflow": null,
            "overflow_x": null,
            "overflow_y": null,
            "padding": null,
            "right": null,
            "top": null,
            "visibility": null,
            "width": null
          }
        },
        "14e0ab6a56854f17b67d53ee4b3cf186": {
          "model_module": "@jupyter-widgets/controls",
          "model_name": "ProgressStyleModel",
          "model_module_version": "1.5.0",
          "state": {
            "_model_module": "@jupyter-widgets/controls",
            "_model_module_version": "1.5.0",
            "_model_name": "ProgressStyleModel",
            "_view_count": null,
            "_view_module": "@jupyter-widgets/base",
            "_view_module_version": "1.2.0",
            "_view_name": "StyleView",
            "bar_color": null,
            "description_width": ""
          }
        },
        "1e79f71389af4e03aaeff3cd8e253a8e": {
          "model_module": "@jupyter-widgets/base",
          "model_name": "LayoutModel",
          "model_module_version": "1.2.0",
          "state": {
            "_model_module": "@jupyter-widgets/base",
            "_model_module_version": "1.2.0",
            "_model_name": "LayoutModel",
            "_view_count": null,
            "_view_module": "@jupyter-widgets/base",
            "_view_module_version": "1.2.0",
            "_view_name": "LayoutView",
            "align_content": null,
            "align_items": null,
            "align_self": null,
            "border": null,
            "bottom": null,
            "display": null,
            "flex": null,
            "flex_flow": null,
            "grid_area": null,
            "grid_auto_columns": null,
            "grid_auto_flow": null,
            "grid_auto_rows": null,
            "grid_column": null,
            "grid_gap": null,
            "grid_row": null,
            "grid_template_areas": null,
            "grid_template_columns": null,
            "grid_template_rows": null,
            "height": null,
            "justify_content": null,
            "justify_items": null,
            "left": null,
            "margin": null,
            "max_height": null,
            "max_width": null,
            "min_height": null,
            "min_width": null,
            "object_fit": null,
            "object_position": null,
            "order": null,
            "overflow": null,
            "overflow_x": null,
            "overflow_y": null,
            "padding": null,
            "right": null,
            "top": null,
            "visibility": null,
            "width": null
          }
        },
        "5463cafc076948c5ba3fb627d77c3089": {
          "model_module": "@jupyter-widgets/controls",
          "model_name": "DescriptionStyleModel",
          "model_module_version": "1.5.0",
          "state": {
            "_model_module": "@jupyter-widgets/controls",
            "_model_module_version": "1.5.0",
            "_model_name": "DescriptionStyleModel",
            "_view_count": null,
            "_view_module": "@jupyter-widgets/base",
            "_view_module_version": "1.2.0",
            "_view_name": "StyleView",
            "description_width": ""
          }
        },
        "c84c4f176cd3418e9cd0a639972d18f8": {
          "model_module": "@jupyter-widgets/controls",
          "model_name": "HBoxModel",
          "model_module_version": "1.5.0",
          "state": {
            "_dom_classes": [],
            "_model_module": "@jupyter-widgets/controls",
            "_model_module_version": "1.5.0",
            "_model_name": "HBoxModel",
            "_view_count": null,
            "_view_module": "@jupyter-widgets/controls",
            "_view_module_version": "1.5.0",
            "_view_name": "HBoxView",
            "box_style": "",
            "children": [
              "IPY_MODEL_54b223b27b8e407da8d96d2984cf6fdd",
              "IPY_MODEL_9f1a107ace4c43d08eee12c4daa4e30b",
              "IPY_MODEL_89afdf69bb064c93a94c2a48944ff784"
            ],
            "layout": "IPY_MODEL_55569d260f4044d5bbbb846db962f2f8"
          }
        },
        "54b223b27b8e407da8d96d2984cf6fdd": {
          "model_module": "@jupyter-widgets/controls",
          "model_name": "HTMLModel",
          "model_module_version": "1.5.0",
          "state": {
            "_dom_classes": [],
            "_model_module": "@jupyter-widgets/controls",
            "_model_module_version": "1.5.0",
            "_model_name": "HTMLModel",
            "_view_count": null,
            "_view_module": "@jupyter-widgets/controls",
            "_view_module_version": "1.5.0",
            "_view_name": "HTMLView",
            "description": "",
            "description_tooltip": null,
            "layout": "IPY_MODEL_16045f0b1a414905b4899efa1a283913",
            "placeholder": "​",
            "style": "IPY_MODEL_fdc6be33d9c14483a84948a653076e2f",
            "value": "1_Pooling/config.json: 100%"
          }
        },
        "9f1a107ace4c43d08eee12c4daa4e30b": {
          "model_module": "@jupyter-widgets/controls",
          "model_name": "FloatProgressModel",
          "model_module_version": "1.5.0",
          "state": {
            "_dom_classes": [],
            "_model_module": "@jupyter-widgets/controls",
            "_model_module_version": "1.5.0",
            "_model_name": "FloatProgressModel",
            "_view_count": null,
            "_view_module": "@jupyter-widgets/controls",
            "_view_module_version": "1.5.0",
            "_view_name": "ProgressView",
            "bar_style": "success",
            "description": "",
            "description_tooltip": null,
            "layout": "IPY_MODEL_b595b9de0d324289a11e9f1e565d273d",
            "max": 190,
            "min": 0,
            "orientation": "horizontal",
            "style": "IPY_MODEL_7431c93c390e412b9a3cf522e7980509",
            "value": 190
          }
        },
        "89afdf69bb064c93a94c2a48944ff784": {
          "model_module": "@jupyter-widgets/controls",
          "model_name": "HTMLModel",
          "model_module_version": "1.5.0",
          "state": {
            "_dom_classes": [],
            "_model_module": "@jupyter-widgets/controls",
            "_model_module_version": "1.5.0",
            "_model_name": "HTMLModel",
            "_view_count": null,
            "_view_module": "@jupyter-widgets/controls",
            "_view_module_version": "1.5.0",
            "_view_name": "HTMLView",
            "description": "",
            "description_tooltip": null,
            "layout": "IPY_MODEL_a40c7d86838540d0a30362e6c9e6b3a8",
            "placeholder": "​",
            "style": "IPY_MODEL_6263e57024144346bcc6bda8ed48f0c4",
            "value": " 190/190 [00:00&lt;00:00, 3.14kB/s]"
          }
        },
        "55569d260f4044d5bbbb846db962f2f8": {
          "model_module": "@jupyter-widgets/base",
          "model_name": "LayoutModel",
          "model_module_version": "1.2.0",
          "state": {
            "_model_module": "@jupyter-widgets/base",
            "_model_module_version": "1.2.0",
            "_model_name": "LayoutModel",
            "_view_count": null,
            "_view_module": "@jupyter-widgets/base",
            "_view_module_version": "1.2.0",
            "_view_name": "LayoutView",
            "align_content": null,
            "align_items": null,
            "align_self": null,
            "border": null,
            "bottom": null,
            "display": null,
            "flex": null,
            "flex_flow": null,
            "grid_area": null,
            "grid_auto_columns": null,
            "grid_auto_flow": null,
            "grid_auto_rows": null,
            "grid_column": null,
            "grid_gap": null,
            "grid_row": null,
            "grid_template_areas": null,
            "grid_template_columns": null,
            "grid_template_rows": null,
            "height": null,
            "justify_content": null,
            "justify_items": null,
            "left": null,
            "margin": null,
            "max_height": null,
            "max_width": null,
            "min_height": null,
            "min_width": null,
            "object_fit": null,
            "object_position": null,
            "order": null,
            "overflow": null,
            "overflow_x": null,
            "overflow_y": null,
            "padding": null,
            "right": null,
            "top": null,
            "visibility": null,
            "width": null
          }
        },
        "16045f0b1a414905b4899efa1a283913": {
          "model_module": "@jupyter-widgets/base",
          "model_name": "LayoutModel",
          "model_module_version": "1.2.0",
          "state": {
            "_model_module": "@jupyter-widgets/base",
            "_model_module_version": "1.2.0",
            "_model_name": "LayoutModel",
            "_view_count": null,
            "_view_module": "@jupyter-widgets/base",
            "_view_module_version": "1.2.0",
            "_view_name": "LayoutView",
            "align_content": null,
            "align_items": null,
            "align_self": null,
            "border": null,
            "bottom": null,
            "display": null,
            "flex": null,
            "flex_flow": null,
            "grid_area": null,
            "grid_auto_columns": null,
            "grid_auto_flow": null,
            "grid_auto_rows": null,
            "grid_column": null,
            "grid_gap": null,
            "grid_row": null,
            "grid_template_areas": null,
            "grid_template_columns": null,
            "grid_template_rows": null,
            "height": null,
            "justify_content": null,
            "justify_items": null,
            "left": null,
            "margin": null,
            "max_height": null,
            "max_width": null,
            "min_height": null,
            "min_width": null,
            "object_fit": null,
            "object_position": null,
            "order": null,
            "overflow": null,
            "overflow_x": null,
            "overflow_y": null,
            "padding": null,
            "right": null,
            "top": null,
            "visibility": null,
            "width": null
          }
        },
        "fdc6be33d9c14483a84948a653076e2f": {
          "model_module": "@jupyter-widgets/controls",
          "model_name": "DescriptionStyleModel",
          "model_module_version": "1.5.0",
          "state": {
            "_model_module": "@jupyter-widgets/controls",
            "_model_module_version": "1.5.0",
            "_model_name": "DescriptionStyleModel",
            "_view_count": null,
            "_view_module": "@jupyter-widgets/base",
            "_view_module_version": "1.2.0",
            "_view_name": "StyleView",
            "description_width": ""
          }
        },
        "b595b9de0d324289a11e9f1e565d273d": {
          "model_module": "@jupyter-widgets/base",
          "model_name": "LayoutModel",
          "model_module_version": "1.2.0",
          "state": {
            "_model_module": "@jupyter-widgets/base",
            "_model_module_version": "1.2.0",
            "_model_name": "LayoutModel",
            "_view_count": null,
            "_view_module": "@jupyter-widgets/base",
            "_view_module_version": "1.2.0",
            "_view_name": "LayoutView",
            "align_content": null,
            "align_items": null,
            "align_self": null,
            "border": null,
            "bottom": null,
            "display": null,
            "flex": null,
            "flex_flow": null,
            "grid_area": null,
            "grid_auto_columns": null,
            "grid_auto_flow": null,
            "grid_auto_rows": null,
            "grid_column": null,
            "grid_gap": null,
            "grid_row": null,
            "grid_template_areas": null,
            "grid_template_columns": null,
            "grid_template_rows": null,
            "height": null,
            "justify_content": null,
            "justify_items": null,
            "left": null,
            "margin": null,
            "max_height": null,
            "max_width": null,
            "min_height": null,
            "min_width": null,
            "object_fit": null,
            "object_position": null,
            "order": null,
            "overflow": null,
            "overflow_x": null,
            "overflow_y": null,
            "padding": null,
            "right": null,
            "top": null,
            "visibility": null,
            "width": null
          }
        },
        "7431c93c390e412b9a3cf522e7980509": {
          "model_module": "@jupyter-widgets/controls",
          "model_name": "ProgressStyleModel",
          "model_module_version": "1.5.0",
          "state": {
            "_model_module": "@jupyter-widgets/controls",
            "_model_module_version": "1.5.0",
            "_model_name": "ProgressStyleModel",
            "_view_count": null,
            "_view_module": "@jupyter-widgets/base",
            "_view_module_version": "1.2.0",
            "_view_name": "StyleView",
            "bar_color": null,
            "description_width": ""
          }
        },
        "a40c7d86838540d0a30362e6c9e6b3a8": {
          "model_module": "@jupyter-widgets/base",
          "model_name": "LayoutModel",
          "model_module_version": "1.2.0",
          "state": {
            "_model_module": "@jupyter-widgets/base",
            "_model_module_version": "1.2.0",
            "_model_name": "LayoutModel",
            "_view_count": null,
            "_view_module": "@jupyter-widgets/base",
            "_view_module_version": "1.2.0",
            "_view_name": "LayoutView",
            "align_content": null,
            "align_items": null,
            "align_self": null,
            "border": null,
            "bottom": null,
            "display": null,
            "flex": null,
            "flex_flow": null,
            "grid_area": null,
            "grid_auto_columns": null,
            "grid_auto_flow": null,
            "grid_auto_rows": null,
            "grid_column": null,
            "grid_gap": null,
            "grid_row": null,
            "grid_template_areas": null,
            "grid_template_columns": null,
            "grid_template_rows": null,
            "height": null,
            "justify_content": null,
            "justify_items": null,
            "left": null,
            "margin": null,
            "max_height": null,
            "max_width": null,
            "min_height": null,
            "min_width": null,
            "object_fit": null,
            "object_position": null,
            "order": null,
            "overflow": null,
            "overflow_x": null,
            "overflow_y": null,
            "padding": null,
            "right": null,
            "top": null,
            "visibility": null,
            "width": null
          }
        },
        "6263e57024144346bcc6bda8ed48f0c4": {
          "model_module": "@jupyter-widgets/controls",
          "model_name": "DescriptionStyleModel",
          "model_module_version": "1.5.0",
          "state": {
            "_model_module": "@jupyter-widgets/controls",
            "_model_module_version": "1.5.0",
            "_model_name": "DescriptionStyleModel",
            "_view_count": null,
            "_view_module": "@jupyter-widgets/base",
            "_view_module_version": "1.2.0",
            "_view_name": "StyleView",
            "description_width": ""
          }
        }
      }
    }
  },
  "cells": [
    {
      "cell_type": "markdown",
      "source": [
        "#Imports\n"
      ],
      "metadata": {
        "id": "HPaC3nKM2HWp"
      }
    },
    {
      "cell_type": "code",
      "source": [
        "!pip install langchain"
      ],
      "metadata": {
        "colab": {
          "base_uri": "https://localhost:8080/"
        },
        "id": "Wnr_US1Z2aPP",
        "outputId": "81e89cf7-5d83-4c6d-83ee-81c017b68d67"
      },
      "execution_count": 5,
      "outputs": [
        {
          "output_type": "stream",
          "name": "stdout",
          "text": [
            "Requirement already satisfied: langchain in /usr/local/lib/python3.10/dist-packages (0.2.1)\n",
            "Requirement already satisfied: PyYAML>=5.3 in /usr/local/lib/python3.10/dist-packages (from langchain) (6.0.1)\n",
            "Requirement already satisfied: SQLAlchemy<3,>=1.4 in /usr/local/lib/python3.10/dist-packages (from langchain) (2.0.30)\n",
            "Requirement already satisfied: aiohttp<4.0.0,>=3.8.3 in /usr/local/lib/python3.10/dist-packages (from langchain) (3.9.5)\n",
            "Requirement already satisfied: async-timeout<5.0.0,>=4.0.0 in /usr/local/lib/python3.10/dist-packages (from langchain) (4.0.3)\n",
            "Requirement already satisfied: langchain-core<0.3.0,>=0.2.0 in /usr/local/lib/python3.10/dist-packages (from langchain) (0.2.1)\n",
            "Requirement already satisfied: langchain-text-splitters<0.3.0,>=0.2.0 in /usr/local/lib/python3.10/dist-packages (from langchain) (0.2.0)\n",
            "Requirement already satisfied: langsmith<0.2.0,>=0.1.17 in /usr/local/lib/python3.10/dist-packages (from langchain) (0.1.63)\n",
            "Requirement already satisfied: numpy<2,>=1 in /usr/local/lib/python3.10/dist-packages (from langchain) (1.25.2)\n",
            "Requirement already satisfied: pydantic<3,>=1 in /usr/local/lib/python3.10/dist-packages (from langchain) (2.7.1)\n",
            "Requirement already satisfied: requests<3,>=2 in /usr/local/lib/python3.10/dist-packages (from langchain) (2.31.0)\n",
            "Requirement already satisfied: tenacity<9.0.0,>=8.1.0 in /usr/local/lib/python3.10/dist-packages (from langchain) (8.3.0)\n",
            "Requirement already satisfied: aiosignal>=1.1.2 in /usr/local/lib/python3.10/dist-packages (from aiohttp<4.0.0,>=3.8.3->langchain) (1.3.1)\n",
            "Requirement already satisfied: attrs>=17.3.0 in /usr/local/lib/python3.10/dist-packages (from aiohttp<4.0.0,>=3.8.3->langchain) (23.2.0)\n",
            "Requirement already satisfied: frozenlist>=1.1.1 in /usr/local/lib/python3.10/dist-packages (from aiohttp<4.0.0,>=3.8.3->langchain) (1.4.1)\n",
            "Requirement already satisfied: multidict<7.0,>=4.5 in /usr/local/lib/python3.10/dist-packages (from aiohttp<4.0.0,>=3.8.3->langchain) (6.0.5)\n",
            "Requirement already satisfied: yarl<2.0,>=1.0 in /usr/local/lib/python3.10/dist-packages (from aiohttp<4.0.0,>=3.8.3->langchain) (1.9.4)\n",
            "Requirement already satisfied: jsonpatch<2.0,>=1.33 in /usr/local/lib/python3.10/dist-packages (from langchain-core<0.3.0,>=0.2.0->langchain) (1.33)\n",
            "Requirement already satisfied: packaging<24.0,>=23.2 in /usr/local/lib/python3.10/dist-packages (from langchain-core<0.3.0,>=0.2.0->langchain) (23.2)\n",
            "Requirement already satisfied: orjson<4.0.0,>=3.9.14 in /usr/local/lib/python3.10/dist-packages (from langsmith<0.2.0,>=0.1.17->langchain) (3.10.3)\n",
            "Requirement already satisfied: annotated-types>=0.4.0 in /usr/local/lib/python3.10/dist-packages (from pydantic<3,>=1->langchain) (0.7.0)\n",
            "Requirement already satisfied: pydantic-core==2.18.2 in /usr/local/lib/python3.10/dist-packages (from pydantic<3,>=1->langchain) (2.18.2)\n",
            "Requirement already satisfied: typing-extensions>=4.6.1 in /usr/local/lib/python3.10/dist-packages (from pydantic<3,>=1->langchain) (4.11.0)\n",
            "Requirement already satisfied: charset-normalizer<4,>=2 in /usr/local/lib/python3.10/dist-packages (from requests<3,>=2->langchain) (3.3.2)\n",
            "Requirement already satisfied: idna<4,>=2.5 in /usr/local/lib/python3.10/dist-packages (from requests<3,>=2->langchain) (3.7)\n",
            "Requirement already satisfied: urllib3<3,>=1.21.1 in /usr/local/lib/python3.10/dist-packages (from requests<3,>=2->langchain) (2.0.7)\n",
            "Requirement already satisfied: certifi>=2017.4.17 in /usr/local/lib/python3.10/dist-packages (from requests<3,>=2->langchain) (2024.2.2)\n",
            "Requirement already satisfied: greenlet!=0.4.17 in /usr/local/lib/python3.10/dist-packages (from SQLAlchemy<3,>=1.4->langchain) (3.0.3)\n",
            "Requirement already satisfied: jsonpointer>=1.9 in /usr/local/lib/python3.10/dist-packages (from jsonpatch<2.0,>=1.33->langchain-core<0.3.0,>=0.2.0->langchain) (2.4)\n"
          ]
        }
      ]
    },
    {
      "cell_type": "markdown",
      "source": [
        "#Text Loaders and Splits"
      ],
      "metadata": {
        "id": "K6dBEwUg2LCV"
      }
    },
    {
      "cell_type": "markdown",
      "source": [
        "Text Loader"
      ],
      "metadata": {
        "id": "lJh3N7lH_kPu"
      }
    },
    {
      "cell_type": "code",
      "source": [
        "from langchain.document_loaders import TextLoader\n",
        "\n",
        "loader = TextLoader(\"nvda_news_1.txt\")\n",
        "loader.load()"
      ],
      "metadata": {
        "colab": {
          "base_uri": "https://localhost:8080/"
        },
        "id": "8nYd5LZO2B9F",
        "outputId": "90e9914c-8181-40a9-ad0f-a724cbba5898"
      },
      "execution_count": 12,
      "outputs": [
        {
          "output_type": "execute_result",
          "data": {
            "text/plain": [
              "[Document(page_content=\"The stock of NVIDIA Corp (NASDAQ:NVDA) experienced a daily loss of -3.56% and a 3-month gain of 32.35%. With an Earnings Per Share (EPS) (EPS) of $1.92, the question arises: is the stock significantly overvalued? This article aims to provide a detailed valuation analysis of NVIDIA, offering insights into its financial strength, profitability, growth, and more. We invite you to delve into this comprehensive analysis.\\n\\nCompany Overview\\nWarning! GuruFocus has detected 10 Warning Signs with NVDA. Click here to check it out.\\n\\nNVDA 30-Year Financial Data\\n\\nThe intrinsic value of NVDA\\n\\n\\nNVIDIA Corp (NASDAQ:NVDA) is a leading designer of discrete graphics processing units that enhance the experience on computing platforms. The firm's chips are widely used in various end markets, including PC gaming and data centers. In recent years, NVIDIA has broadened its focus from traditional PC graphics applications such as gaming to more complex and favorable opportunities, including artificial intelligence and autonomous driving, leveraging the high-performance capabilities of its products.\\n\\nCurrently, NVIDIA's stock price stands at $418.01, significantly higher than the GF Value of $310.28, indicating the stock might be overvalued. With a market cap of $1 trillion, the valuation seems steep. The following analysis aims to delve deeper into the company's value.\\n\\nIs NVIDIA's Stock Significantly Overvalued? A Comprehensive Valuation Analysis\\nIs NVIDIA's Stock Significantly Overvalued? A Comprehensive Valuation Analysis\\nUnderstanding the GF Value\\nThe GF Value is a unique measure of the intrinsic value of a stock, calculated based on historical trading multiples, a GuruFocus adjustment factor, and future business performance estimates. If the stock price is significantly above the GF Value Line, it is overvalued, and its future return is likely to be poor. Conversely, if it is significantly below the GF Value Line, its future return will likely be higher.\\n\\nAccording to GuruFocus Value calculation, NVIDIA (NASDAQ:NVDA) appears to be significantly overvalued. The stock's current price of $418.01 per share and the market cap of $1 trillion further strengthen this assumption.\\n\\nGiven that NVIDIA is significantly overvalued, the long-term return of its stock is likely to be much lower than its future business growth.\\n\\nIs NVIDIA's Stock Significantly Overvalued? A Comprehensive Valuation Analysis\\nIs NVIDIA's Stock Significantly Overvalued? A Comprehensive Valuation Analysis\\nLink: These companies may deliver higher future returns at reduced risk.\\n\\nFinancial Strength of NVIDIA\\nExamining the financial strength of a company is crucial before investing in its stock. Companies with poor financial strength pose a higher risk of permanent loss. NVIDIA's cash-to-debt ratio of 1.27 is worse than 58.04% of companies in the Semiconductors industry. However, NVIDIA's overall financial strength is 8 out of 10, indicating a strong financial position.\\n\\nIs NVIDIA's Stock Significantly Overvalued? A Comprehensive Valuation Analysis\\nIs NVIDIA's Stock Significantly Overvalued? A Comprehensive Valuation Analysis\\nProfitability and Growth\\nConsistent profitability over the long term reduces the risk for investors. NVIDIA, with its profitability ranking of 10 out of 10, has been profitable for the past 10 years. The company's operating margin of 17.37% ranks better than 76.5% of companies in the Semiconductors industry.\\n\\nHowever, growth is a crucial factor in a company's valuation. NVIDIA's growth ranks worse than 52.99% of companies in the Semiconductors industry, with its 3-year average revenue growth rate better than 87.88% of companies in the industry.\\n\\nROIC vs WACC\\nComparing a company's return on invested capital (ROIC) to its weighted average cost of capital (WACC) is an effective way to evaluate its profitability. Over the past 12 months, NVIDIA's ROIC was 20.32 while its WACC was 16.74, suggesting that the company is creating value for its shareholders.\\n\\nIs NVIDIA's Stock Significantly Overvalued? A Comprehensive Valuation Analysis\\nIs NVIDIA's Stock Significantly Overvalued? A Comprehensive Valuation Analysis\\nConclusion\\nIn conclusion, NVIDIA (NASDAQ:NVDA) appears to be significantly overvalued. Despite its strong financial condition and profitability, its growth ranks lower than 52.99% of companies in the Semiconductors industry. To learn more about NVIDIA stock, you can check out its 30-Year Financials here.\\n\\nTo find out the high quality companies that may deliver above-average returns, please check out GuruFocus High Quality Low Capex Screener.\\n\\nThis article first appeared on GuruFocus.\", metadata={'source': 'nvda_news_1.txt'})]"
            ]
          },
          "metadata": {},
          "execution_count": 12
        }
      ]
    },
    {
      "cell_type": "code",
      "source": [
        "loader.file_path\n"
      ],
      "metadata": {
        "colab": {
          "base_uri": "https://localhost:8080/",
          "height": 35
        },
        "id": "rwOwt47F_Yea",
        "outputId": "046bf910-2dde-4f78-9914-e916354fb593"
      },
      "execution_count": 14,
      "outputs": [
        {
          "output_type": "execute_result",
          "data": {
            "text/plain": [
              "'nvda_news_1.txt'"
            ],
            "application/vnd.google.colaboratory.intrinsic+json": {
              "type": "string"
            }
          },
          "metadata": {},
          "execution_count": 14
        }
      ]
    },
    {
      "cell_type": "markdown",
      "source": [
        "CSV Loader"
      ],
      "metadata": {
        "id": "JDMtJLp5_ip5"
      }
    },
    {
      "cell_type": "code",
      "source": [
        "from langchain.document_loaders.csv_loader import CSVLoader\n",
        "loader = CSVLoader(file_path=\"movies.csv\")\n",
        "data = loader.load()\n",
        "data"
      ],
      "metadata": {
        "colab": {
          "base_uri": "https://localhost:8080/"
        },
        "id": "tKH4MqPJ_aBb",
        "outputId": "5e7fd82f-81f8-4518-ce2c-ebc11dd3f285"
      },
      "execution_count": 16,
      "outputs": [
        {
          "output_type": "execute_result",
          "data": {
            "text/plain": [
              "[Document(page_content='movie_id: 101\\ntitle: K.G.F: Chapter 2\\nindustry: Bollywood\\nrelease_year: 2022\\nimdb_rating: 8.4\\nstudio: Hombale Films\\nlanguage_id: 3\\nbudget: 1\\nrevenue: 12.5\\nunit: Billions\\ncurrency: INR', metadata={'source': 'movies.csv', 'row': 0}),\n",
              " Document(page_content='movie_id: 102\\ntitle: Doctor Strange in the Multiverse of Madness\\nindustry: Hollywood\\nrelease_year: 2022\\nimdb_rating: 7\\nstudio: Marvel Studios\\nlanguage_id: 5\\nbudget: 200\\nrevenue: 954.8\\nunit: Millions\\ncurrency: USD', metadata={'source': 'movies.csv', 'row': 1}),\n",
              " Document(page_content='movie_id: 103\\ntitle: Thor: The Dark World\\nindustry: Hollywood\\nrelease_year: 2013\\nimdb_rating: 6.8\\nstudio: Marvel Studios\\nlanguage_id: 5\\nbudget: 165\\nrevenue: 644.8\\nunit: Millions\\ncurrency: USD', metadata={'source': 'movies.csv', 'row': 2}),\n",
              " Document(page_content='movie_id: 104\\ntitle: Thor: Ragnarok\\nindustry: Hollywood\\nrelease_year: 2017\\nimdb_rating: 7.9\\nstudio: Marvel Studios\\nlanguage_id: 5\\nbudget: 180\\nrevenue: 854\\nunit: Millions\\ncurrency: USD', metadata={'source': 'movies.csv', 'row': 3}),\n",
              " Document(page_content='movie_id: 105\\ntitle: Thor: Love and Thunder\\nindustry: Hollywood\\nrelease_year: 2022\\nimdb_rating: 6.8\\nstudio: Marvel Studios\\nlanguage_id: 5\\nbudget: 250\\nrevenue: 670\\nunit: Millions\\ncurrency: USD', metadata={'source': 'movies.csv', 'row': 4}),\n",
              " Document(page_content='movie_id: 106\\ntitle: Sholay\\nindustry: Bollywood\\nrelease_year: 1975\\nimdb_rating: 8.1\\nstudio: United Producers\\nlanguage_id: 1\\nbudget: Not Available\\nrevenue: Not Available\\nunit: Not Available\\ncurrency: Not Available', metadata={'source': 'movies.csv', 'row': 5}),\n",
              " Document(page_content='movie_id: 107\\ntitle: Dilwale Dulhania Le Jayenge\\nindustry: Bollywood\\nrelease_year: 1995\\nimdb_rating: 8\\nstudio: Yash Raj Films\\nlanguage_id: 1\\nbudget: 400\\nrevenue: 2000\\nunit: Millions\\ncurrency: INR', metadata={'source': 'movies.csv', 'row': 6}),\n",
              " Document(page_content='movie_id: 108\\ntitle: 3 Idiots\\nindustry: Bollywood\\nrelease_year: 2009\\nimdb_rating: 8.4\\nstudio: Vinod Chopra Films\\nlanguage_id: 1\\nbudget: 550\\nrevenue: 4000\\nunit: Millions\\ncurrency: INR', metadata={'source': 'movies.csv', 'row': 7}),\n",
              " Document(page_content='movie_id: 109\\ntitle: Kabhi Khushi Kabhie Gham\\nindustry: Bollywood\\nrelease_year: 2001\\nimdb_rating: 7.4\\nstudio: Dharma Productions\\nlanguage_id: 1\\nbudget: 390\\nrevenue: 1360\\nunit: Millions\\ncurrency: INR', metadata={'source': 'movies.csv', 'row': 8})]"
            ]
          },
          "metadata": {},
          "execution_count": 16
        }
      ]
    },
    {
      "cell_type": "code",
      "source": [
        "data[0]\n"
      ],
      "metadata": {
        "colab": {
          "base_uri": "https://localhost:8080/"
        },
        "id": "LyXp7ShU_nA5",
        "outputId": "3d43cb40-61ce-4573-a80a-6c284711b3b9"
      },
      "execution_count": 17,
      "outputs": [
        {
          "output_type": "execute_result",
          "data": {
            "text/plain": [
              "Document(page_content='movie_id: 101\\ntitle: K.G.F: Chapter 2\\nindustry: Bollywood\\nrelease_year: 2022\\nimdb_rating: 8.4\\nstudio: Hombale Films\\nlanguage_id: 3\\nbudget: 1\\nrevenue: 12.5\\nunit: Billions\\ncurrency: INR', metadata={'source': 'movies.csv', 'row': 0})"
            ]
          },
          "metadata": {},
          "execution_count": 17
        }
      ]
    },
    {
      "cell_type": "code",
      "source": [
        "loader = CSVLoader(file_path=\"movies.csv\", source_column=\"title\")\n",
        "data = loader.load()\n",
        "data"
      ],
      "metadata": {
        "colab": {
          "base_uri": "https://localhost:8080/"
        },
        "id": "RGGLqQc-_xJK",
        "outputId": "a8f5e2b3-3f67-48a3-d1a9-cde04cea406c"
      },
      "execution_count": 18,
      "outputs": [
        {
          "output_type": "execute_result",
          "data": {
            "text/plain": [
              "[Document(page_content='movie_id: 101\\ntitle: K.G.F: Chapter 2\\nindustry: Bollywood\\nrelease_year: 2022\\nimdb_rating: 8.4\\nstudio: Hombale Films\\nlanguage_id: 3\\nbudget: 1\\nrevenue: 12.5\\nunit: Billions\\ncurrency: INR', metadata={'source': 'K.G.F: Chapter 2', 'row': 0}),\n",
              " Document(page_content='movie_id: 102\\ntitle: Doctor Strange in the Multiverse of Madness\\nindustry: Hollywood\\nrelease_year: 2022\\nimdb_rating: 7\\nstudio: Marvel Studios\\nlanguage_id: 5\\nbudget: 200\\nrevenue: 954.8\\nunit: Millions\\ncurrency: USD', metadata={'source': 'Doctor Strange in the Multiverse of Madness', 'row': 1}),\n",
              " Document(page_content='movie_id: 103\\ntitle: Thor: The Dark World\\nindustry: Hollywood\\nrelease_year: 2013\\nimdb_rating: 6.8\\nstudio: Marvel Studios\\nlanguage_id: 5\\nbudget: 165\\nrevenue: 644.8\\nunit: Millions\\ncurrency: USD', metadata={'source': 'Thor: The Dark World', 'row': 2}),\n",
              " Document(page_content='movie_id: 104\\ntitle: Thor: Ragnarok\\nindustry: Hollywood\\nrelease_year: 2017\\nimdb_rating: 7.9\\nstudio: Marvel Studios\\nlanguage_id: 5\\nbudget: 180\\nrevenue: 854\\nunit: Millions\\ncurrency: USD', metadata={'source': 'Thor: Ragnarok', 'row': 3}),\n",
              " Document(page_content='movie_id: 105\\ntitle: Thor: Love and Thunder\\nindustry: Hollywood\\nrelease_year: 2022\\nimdb_rating: 6.8\\nstudio: Marvel Studios\\nlanguage_id: 5\\nbudget: 250\\nrevenue: 670\\nunit: Millions\\ncurrency: USD', metadata={'source': 'Thor: Love and Thunder', 'row': 4}),\n",
              " Document(page_content='movie_id: 106\\ntitle: Sholay\\nindustry: Bollywood\\nrelease_year: 1975\\nimdb_rating: 8.1\\nstudio: United Producers\\nlanguage_id: 1\\nbudget: Not Available\\nrevenue: Not Available\\nunit: Not Available\\ncurrency: Not Available', metadata={'source': 'Sholay', 'row': 5}),\n",
              " Document(page_content='movie_id: 107\\ntitle: Dilwale Dulhania Le Jayenge\\nindustry: Bollywood\\nrelease_year: 1995\\nimdb_rating: 8\\nstudio: Yash Raj Films\\nlanguage_id: 1\\nbudget: 400\\nrevenue: 2000\\nunit: Millions\\ncurrency: INR', metadata={'source': 'Dilwale Dulhania Le Jayenge', 'row': 6}),\n",
              " Document(page_content='movie_id: 108\\ntitle: 3 Idiots\\nindustry: Bollywood\\nrelease_year: 2009\\nimdb_rating: 8.4\\nstudio: Vinod Chopra Films\\nlanguage_id: 1\\nbudget: 550\\nrevenue: 4000\\nunit: Millions\\ncurrency: INR', metadata={'source': '3 Idiots', 'row': 7}),\n",
              " Document(page_content='movie_id: 109\\ntitle: Kabhi Khushi Kabhie Gham\\nindustry: Bollywood\\nrelease_year: 2001\\nimdb_rating: 7.4\\nstudio: Dharma Productions\\nlanguage_id: 1\\nbudget: 390\\nrevenue: 1360\\nunit: Millions\\ncurrency: INR', metadata={'source': 'Kabhi Khushi Kabhie Gham', 'row': 8})]"
            ]
          },
          "metadata": {},
          "execution_count": 18
        }
      ]
    },
    {
      "cell_type": "code",
      "source": [
        "data[0].page_content\n"
      ],
      "metadata": {
        "colab": {
          "base_uri": "https://localhost:8080/",
          "height": 52
        },
        "id": "4YXQ_zCN_yc5",
        "outputId": "1840a566-c1a0-4fae-d2b3-00c8323c3f07"
      },
      "execution_count": 19,
      "outputs": [
        {
          "output_type": "execute_result",
          "data": {
            "text/plain": [
              "'movie_id: 101\\ntitle: K.G.F: Chapter 2\\nindustry: Bollywood\\nrelease_year: 2022\\nimdb_rating: 8.4\\nstudio: Hombale Films\\nlanguage_id: 3\\nbudget: 1\\nrevenue: 12.5\\nunit: Billions\\ncurrency: INR'"
            ],
            "application/vnd.google.colaboratory.intrinsic+json": {
              "type": "string"
            }
          },
          "metadata": {},
          "execution_count": 19
        }
      ]
    },
    {
      "cell_type": "code",
      "source": [
        "data[0].metadata\n"
      ],
      "metadata": {
        "colab": {
          "base_uri": "https://localhost:8080/"
        },
        "id": "CQOO6QSh_0tz",
        "outputId": "f6d2900e-33f1-4de6-9cc7-5fa583e2b031"
      },
      "execution_count": 20,
      "outputs": [
        {
          "output_type": "execute_result",
          "data": {
            "text/plain": [
              "{'source': 'K.G.F: Chapter 2', 'row': 0}"
            ]
          },
          "metadata": {},
          "execution_count": 20
        }
      ]
    },
    {
      "cell_type": "markdown",
      "source": [
        "Unstructured URL Loader"
      ],
      "metadata": {
        "id": "rjR4GeRO_293"
      }
    },
    {
      "cell_type": "code",
      "source": [
        "!pip install unstructured\n"
      ],
      "metadata": {
        "colab": {
          "base_uri": "https://localhost:8080/"
        },
        "id": "NNwTQttc_16B",
        "outputId": "f3b380c3-3134-40b4-d0a5-004959ee34f5"
      },
      "execution_count": 25,
      "outputs": [
        {
          "output_type": "stream",
          "name": "stdout",
          "text": [
            "Collecting unstructured\n",
            "  Using cached unstructured-0.14.2-py3-none-any.whl (2.0 MB)\n",
            "Requirement already satisfied: chardet in /usr/local/lib/python3.10/dist-packages (from unstructured) (5.2.0)\n",
            "Collecting filetype (from unstructured)\n",
            "  Downloading filetype-1.2.0-py2.py3-none-any.whl (19 kB)\n",
            "Collecting python-magic (from unstructured)\n",
            "  Using cached python_magic-0.4.27-py2.py3-none-any.whl (13 kB)\n",
            "Requirement already satisfied: lxml in /usr/local/lib/python3.10/dist-packages (from unstructured) (4.9.4)\n",
            "Requirement already satisfied: nltk in /usr/local/lib/python3.10/dist-packages (from unstructured) (3.8.1)\n",
            "Requirement already satisfied: tabulate in /usr/local/lib/python3.10/dist-packages (from unstructured) (0.9.0)\n",
            "Requirement already satisfied: requests in /usr/local/lib/python3.10/dist-packages (from unstructured) (2.31.0)\n",
            "Requirement already satisfied: beautifulsoup4 in /usr/local/lib/python3.10/dist-packages (from unstructured) (4.12.3)\n",
            "Collecting emoji (from unstructured)\n",
            "  Downloading emoji-2.12.1-py3-none-any.whl (431 kB)\n",
            "\u001b[2K     \u001b[90m━━━━━━━━━━━━━━━━━━━━━━━━━━━━━━━━━━━━━━━━\u001b[0m \u001b[32m431.4/431.4 kB\u001b[0m \u001b[31m11.6 MB/s\u001b[0m eta \u001b[36m0:00:00\u001b[0m\n",
            "\u001b[?25hRequirement already satisfied: dataclasses-json in /usr/local/lib/python3.10/dist-packages (from unstructured) (0.6.6)\n",
            "Collecting python-iso639 (from unstructured)\n",
            "  Downloading python_iso639-2024.4.27-py3-none-any.whl (274 kB)\n",
            "\u001b[2K     \u001b[90m━━━━━━━━━━━━━━━━━━━━━━━━━━━━━━━━━━━━━━━━\u001b[0m \u001b[32m274.7/274.7 kB\u001b[0m \u001b[31m29.6 MB/s\u001b[0m eta \u001b[36m0:00:00\u001b[0m\n",
            "\u001b[?25hCollecting langdetect (from unstructured)\n",
            "  Downloading langdetect-1.0.9.tar.gz (981 kB)\n",
            "\u001b[2K     \u001b[90m━━━━━━━━━━━━━━━━━━━━━━━━━━━━━━━━━━━━━━━━\u001b[0m \u001b[32m981.5/981.5 kB\u001b[0m \u001b[31m44.1 MB/s\u001b[0m eta \u001b[36m0:00:00\u001b[0m\n",
            "\u001b[?25h  Preparing metadata (setup.py) ... \u001b[?25l\u001b[?25hdone\n",
            "Requirement already satisfied: numpy in /usr/local/lib/python3.10/dist-packages (from unstructured) (1.25.2)\n",
            "Collecting rapidfuzz (from unstructured)\n",
            "  Downloading rapidfuzz-3.9.1-cp310-cp310-manylinux_2_17_x86_64.manylinux2014_x86_64.whl (3.4 MB)\n",
            "\u001b[2K     \u001b[90m━━━━━━━━━━━━━━━━━━━━━━━━━━━━━━━━━━━━━━━━\u001b[0m \u001b[32m3.4/3.4 MB\u001b[0m \u001b[31m46.0 MB/s\u001b[0m eta \u001b[36m0:00:00\u001b[0m\n",
            "\u001b[?25hCollecting backoff (from unstructured)\n",
            "  Downloading backoff-2.2.1-py3-none-any.whl (15 kB)\n",
            "Requirement already satisfied: typing-extensions in /usr/local/lib/python3.10/dist-packages (from unstructured) (4.11.0)\n",
            "Collecting unstructured-client (from unstructured)\n",
            "  Downloading unstructured_client-0.22.0-py3-none-any.whl (28 kB)\n",
            "Requirement already satisfied: wrapt in /usr/local/lib/python3.10/dist-packages (from unstructured) (1.14.1)\n",
            "Requirement already satisfied: soupsieve>1.2 in /usr/local/lib/python3.10/dist-packages (from beautifulsoup4->unstructured) (2.5)\n",
            "Requirement already satisfied: marshmallow<4.0.0,>=3.18.0 in /usr/local/lib/python3.10/dist-packages (from dataclasses-json->unstructured) (3.21.2)\n",
            "Requirement already satisfied: typing-inspect<1,>=0.4.0 in /usr/local/lib/python3.10/dist-packages (from dataclasses-json->unstructured) (0.9.0)\n",
            "Requirement already satisfied: six in /usr/local/lib/python3.10/dist-packages (from langdetect->unstructured) (1.16.0)\n",
            "Requirement already satisfied: click in /usr/local/lib/python3.10/dist-packages (from nltk->unstructured) (8.1.7)\n",
            "Requirement already satisfied: joblib in /usr/local/lib/python3.10/dist-packages (from nltk->unstructured) (1.4.2)\n",
            "Requirement already satisfied: regex>=2021.8.3 in /usr/local/lib/python3.10/dist-packages (from nltk->unstructured) (2023.12.25)\n",
            "Requirement already satisfied: tqdm in /usr/local/lib/python3.10/dist-packages (from nltk->unstructured) (4.66.4)\n",
            "Requirement already satisfied: charset-normalizer<4,>=2 in /usr/local/lib/python3.10/dist-packages (from requests->unstructured) (3.3.2)\n",
            "Requirement already satisfied: idna<4,>=2.5 in /usr/local/lib/python3.10/dist-packages (from requests->unstructured) (3.7)\n",
            "Requirement already satisfied: urllib3<3,>=1.21.1 in /usr/local/lib/python3.10/dist-packages (from requests->unstructured) (2.0.7)\n",
            "Requirement already satisfied: certifi>=2017.4.17 in /usr/local/lib/python3.10/dist-packages (from requests->unstructured) (2024.2.2)\n",
            "Collecting deepdiff>=6.0 (from unstructured-client->unstructured)\n",
            "  Downloading deepdiff-7.0.1-py3-none-any.whl (80 kB)\n",
            "\u001b[2K     \u001b[90m━━━━━━━━━━━━━━━━━━━━━━━━━━━━━━━━━━━━━━━━\u001b[0m \u001b[32m80.8/80.8 kB\u001b[0m \u001b[31m9.0 MB/s\u001b[0m eta \u001b[36m0:00:00\u001b[0m\n",
            "\u001b[?25hCollecting jsonpath-python>=1.0.6 (from unstructured-client->unstructured)\n",
            "  Downloading jsonpath_python-1.0.6-py3-none-any.whl (7.6 kB)\n",
            "Requirement already satisfied: mypy-extensions>=1.0.0 in /usr/local/lib/python3.10/dist-packages (from unstructured-client->unstructured) (1.0.0)\n",
            "Requirement already satisfied: packaging>=23.1 in /usr/local/lib/python3.10/dist-packages (from unstructured-client->unstructured) (23.2)\n",
            "Collecting pypdf>=4.0 (from unstructured-client->unstructured)\n",
            "  Downloading pypdf-4.2.0-py3-none-any.whl (290 kB)\n",
            "\u001b[2K     \u001b[90m━━━━━━━━━━━━━━━━━━━━━━━━━━━━━━━━━━━━━━━━\u001b[0m \u001b[32m290.4/290.4 kB\u001b[0m \u001b[31m18.5 MB/s\u001b[0m eta \u001b[36m0:00:00\u001b[0m\n",
            "\u001b[?25hRequirement already satisfied: python-dateutil>=2.8.2 in /usr/local/lib/python3.10/dist-packages (from unstructured-client->unstructured) (2.8.2)\n",
            "Collecting ordered-set<4.2.0,>=4.1.0 (from deepdiff>=6.0->unstructured-client->unstructured)\n",
            "  Downloading ordered_set-4.1.0-py3-none-any.whl (7.6 kB)\n",
            "Building wheels for collected packages: langdetect\n",
            "  Building wheel for langdetect (setup.py) ... \u001b[?25l\u001b[?25hdone\n",
            "  Created wheel for langdetect: filename=langdetect-1.0.9-py3-none-any.whl size=993227 sha256=dad2279c8e5a42685f7d06e4092bb7b78de88668f955bd26bb62f76e75a18c1f\n",
            "  Stored in directory: /root/.cache/pip/wheels/95/03/7d/59ea870c70ce4e5a370638b5462a7711ab78fba2f655d05106\n",
            "Successfully built langdetect\n",
            "Installing collected packages: filetype, rapidfuzz, python-magic, python-iso639, pypdf, ordered-set, langdetect, jsonpath-python, emoji, backoff, deepdiff, unstructured-client, unstructured\n",
            "Successfully installed backoff-2.2.1 deepdiff-7.0.1 emoji-2.12.1 filetype-1.2.0 jsonpath-python-1.0.6 langdetect-1.0.9 ordered-set-4.1.0 pypdf-4.2.0 python-iso639-2024.4.27 python-magic-0.4.27 rapidfuzz-3.9.1 unstructured-0.14.2 unstructured-client-0.22.0\n"
          ]
        }
      ]
    },
    {
      "cell_type": "code",
      "source": [
        "from langchain.document_loaders import UnstructuredURLLoader\n",
        "loader = UnstructuredURLLoader(\n",
        "    urls = [\n",
        "        \"https://www.moneycontrol.com/news/business/banks/hdfc-bank-re-appoints-sanmoy-chakrabarti-as-chief-risk-officer-11259771.html\",\n",
        "        \"https://www.moneycontrol.com/news/business/markets/market-corrects-post-rbi-ups-inflation-forecast-icrr-bet-on-these-top-10-rate-sensitive-stocks-ideas-11142611.html\"\n",
        "    ]\n",
        ")\n",
        "\n",
        "data = loader.load()\n",
        "len(data)"
      ],
      "metadata": {
        "colab": {
          "base_uri": "https://localhost:8080/"
        },
        "id": "grYwqUu2_5nM",
        "outputId": "1a2c92e6-36ce-4cec-87ff-5970895a53b3"
      },
      "execution_count": 26,
      "outputs": [
        {
          "output_type": "stream",
          "name": "stderr",
          "text": [
            "[nltk_data] Downloading package punkt to /root/nltk_data...\n",
            "[nltk_data]   Unzipping tokenizers/punkt.zip.\n",
            "[nltk_data] Downloading package averaged_perceptron_tagger to\n",
            "[nltk_data]     /root/nltk_data...\n",
            "[nltk_data]   Unzipping taggers/averaged_perceptron_tagger.zip.\n"
          ]
        },
        {
          "output_type": "execute_result",
          "data": {
            "text/plain": [
              "2"
            ]
          },
          "metadata": {},
          "execution_count": 26
        }
      ]
    },
    {
      "cell_type": "code",
      "source": [
        "data[0].page_content[0:100]\n"
      ],
      "metadata": {
        "colab": {
          "base_uri": "https://localhost:8080/",
          "height": 35
        },
        "id": "3y-_iUdm_-Q0",
        "outputId": "15ecac90-e5cf-48d8-87d6-2d6579f3b49a"
      },
      "execution_count": 27,
      "outputs": [
        {
          "output_type": "execute_result",
          "data": {
            "text/plain": [
              "'English\\n\\nHindi\\n\\nGujarati\\n\\nSpecials\\n\\nMoneycontrol Trending Stock\\n\\nInfosys\\xa0INE009A01021, INFY, 500209\\n'"
            ],
            "application/vnd.google.colaboratory.intrinsic+json": {
              "type": "string"
            }
          },
          "metadata": {},
          "execution_count": 27
        }
      ]
    },
    {
      "cell_type": "code",
      "source": [
        "data[0].metadata\n"
      ],
      "metadata": {
        "colab": {
          "base_uri": "https://localhost:8080/"
        },
        "id": "UTs4yoLvAL7J",
        "outputId": "15d334f8-1a9a-4550-fccc-28df4752c74e"
      },
      "execution_count": 28,
      "outputs": [
        {
          "output_type": "execute_result",
          "data": {
            "text/plain": [
              "{'source': 'https://www.moneycontrol.com/news/business/banks/hdfc-bank-re-appoints-sanmoy-chakrabarti-as-chief-risk-officer-11259771.html'}"
            ]
          },
          "metadata": {},
          "execution_count": 28
        }
      ]
    },
    {
      "cell_type": "markdown",
      "source": [
        "Text Splitters:\n",
        "\n",
        "Why do we need text splitters in first place?\n",
        "\n",
        "LLM's have token limits. Hence we need to split the text which can be large into small chunks so that each chunk size is under the token limit. There are various text splitter classes in langchain that allows us to do this."
      ],
      "metadata": {
        "id": "tTQPD0zCAS3Q"
      }
    },
    {
      "cell_type": "code",
      "source": [
        "text = \"\"\"Interstellar is a 2014 epic science fiction film co-written, directed, and produced by Christopher Nolan.\n",
        "It stars Matthew McConaughey, Anne Hathaway, Jessica Chastain, Bill Irwin, Ellen Burstyn, Matt Damon, and Michael Caine.\n",
        "Set in a dystopian future where humanity is embroiled in a catastrophic blight and famine, the film follows a group of astronauts who travel through a wormhole near Saturn in search of a new home for humankind.\n",
        "\n",
        "Brothers Christopher and Jonathan Nolan wrote the screenplay, which had its origins in a script Jonathan developed in 2007 and was originally set to be directed by Steven Spielberg.\n",
        "Kip Thorne, a Caltech theoretical physicist and 2017 Nobel laureate in Physics,[4] was an executive producer, acted as a scientific consultant, and wrote a tie-in book, The Science of Interstellar.\n",
        "Cinematographer Hoyte van Hoytema shot it on 35 mm movie film in the Panavision anamorphic format and IMAX 70 mm. Principal photography began in late 2013 and took place in Alberta, Iceland, and Los Angeles.\n",
        "Interstellar uses extensive practical and miniature effects, and the company Double Negative created additional digital effects.\n",
        "\n",
        "Interstellar premiered in Los Angeles on October 26, 2014. In the United States, it was first released on film stock, expanding to venues using digital projectors. The film received generally positive reviews from critics and grossed over $677 million worldwide ($715 million after subsequent re-releases), making it the tenth-highest-grossing film of 2014.\n",
        "It has been praised by astronomers for its scientific accuracy and portrayal of theoretical astrophysics.[5][6][7] Interstellar was nominated for five awards at the 87th Academy Awards, winning Best Visual Effects, and received numerous other accolades.\"\"\""
      ],
      "metadata": {
        "id": "Zxd80maQANHX"
      },
      "execution_count": 29,
      "outputs": []
    },
    {
      "cell_type": "markdown",
      "source": [
        "Manual approach"
      ],
      "metadata": {
        "id": "uMq_Yhi6Ac45"
      }
    },
    {
      "cell_type": "code",
      "source": [
        "# Say LLM token limit is 100, in that case we can do simple thing such as this\n",
        "\n",
        "text[0:100]"
      ],
      "metadata": {
        "colab": {
          "base_uri": "https://localhost:8080/",
          "height": 35
        },
        "id": "pcAcQTzWAZ34",
        "outputId": "f02d4026-2a6e-4ad9-8471-980574dcfbe3"
      },
      "execution_count": 30,
      "outputs": [
        {
          "output_type": "execute_result",
          "data": {
            "text/plain": [
              "'Interstellar is a 2014 epic science fiction film co-written, directed, and produced by Christopher N'"
            ],
            "application/vnd.google.colaboratory.intrinsic+json": {
              "type": "string"
            }
          },
          "metadata": {},
          "execution_count": 30
        }
      ]
    },
    {
      "cell_type": "code",
      "source": [
        "# Well but we want complete words and want to do this for entire text, may be we can use Python's split funciton\n",
        "\n",
        "words = text.split(\" \")\n",
        "len(words)"
      ],
      "metadata": {
        "colab": {
          "base_uri": "https://localhost:8080/"
        },
        "id": "bI7FykEpAd9Y",
        "outputId": "cd0b4ce4-2a9e-477c-f81e-ca203642d069"
      },
      "execution_count": 31,
      "outputs": [
        {
          "output_type": "execute_result",
          "data": {
            "text/plain": [
              "264"
            ]
          },
          "metadata": {},
          "execution_count": 31
        }
      ]
    },
    {
      "cell_type": "code",
      "source": [
        "chunks = []\n",
        "\n",
        "s = \"\"\n",
        "for word in words:\n",
        "    s += word + \" \"\n",
        "    if len(s)>200:\n",
        "        chunks.append(s)\n",
        "        s = \"\"\n",
        "\n",
        "chunks.append(s)"
      ],
      "metadata": {
        "id": "K4QHSSdzAg0R"
      },
      "execution_count": 32,
      "outputs": []
    },
    {
      "cell_type": "code",
      "source": [
        "chunks[:2]\n"
      ],
      "metadata": {
        "colab": {
          "base_uri": "https://localhost:8080/"
        },
        "id": "neds2OEdAiPz",
        "outputId": "822b9e86-0b1a-4fa5-d944-8498e430db1d"
      },
      "execution_count": 33,
      "outputs": [
        {
          "output_type": "execute_result",
          "data": {
            "text/plain": [
              "['Interstellar is a 2014 epic science fiction film co-written, directed, and produced by Christopher Nolan. \\nIt stars Matthew McConaughey, Anne Hathaway, Jessica Chastain, Bill Irwin, Ellen Burstyn, Matt ',\n",
              " 'Damon, and Michael Caine. \\nSet in a dystopian future where humanity is embroiled in a catastrophic blight and famine, the film follows a group of astronauts who travel through a wormhole near Saturn in ']"
            ]
          },
          "metadata": {},
          "execution_count": 33
        }
      ]
    },
    {
      "cell_type": "markdown",
      "source": [
        "Splitting data into chunks can be done in native python but it is a tidious process. Also if necessary, you may need to experiment with various delimiters in an iterative manner to ensure that each chunk does not exceed the token length limit of the respective LLM.\n",
        "\n",
        "Langchain provides a better way through text splitter classes."
      ],
      "metadata": {
        "id": "IXf-bBalAn_0"
      }
    },
    {
      "cell_type": "markdown",
      "source": [
        "Using Text Splitter Classes from Langchain\n",
        "CharacterTextSplitte"
      ],
      "metadata": {
        "id": "5uRmw35lAqIw"
      }
    },
    {
      "cell_type": "code",
      "source": [
        "from langchain.text_splitter import CharacterTextSplitter\n",
        "\n",
        "splitter = CharacterTextSplitter(\n",
        "    separator = \"\\n\",\n",
        "    chunk_size=200,\n",
        "    chunk_overlap=0\n",
        ")"
      ],
      "metadata": {
        "id": "fYC8orsUAkfo"
      },
      "execution_count": 34,
      "outputs": []
    },
    {
      "cell_type": "code",
      "source": [
        "chunks = splitter.split_text(text)\n",
        "len(chunks)"
      ],
      "metadata": {
        "colab": {
          "base_uri": "https://localhost:8080/"
        },
        "id": "HC_vwDR0AuXn",
        "outputId": "84446b45-c9ea-40a3-a367-52d0ac4abc71"
      },
      "execution_count": 35,
      "outputs": [
        {
          "output_type": "stream",
          "name": "stderr",
          "text": [
            "WARNING:langchain_text_splitters.base:Created a chunk of size 210, which is longer than the specified 200\n",
            "WARNING:langchain_text_splitters.base:Created a chunk of size 208, which is longer than the specified 200\n",
            "WARNING:langchain_text_splitters.base:Created a chunk of size 358, which is longer than the specified 200\n"
          ]
        },
        {
          "output_type": "execute_result",
          "data": {
            "text/plain": [
              "9"
            ]
          },
          "metadata": {},
          "execution_count": 35
        }
      ]
    },
    {
      "cell_type": "code",
      "source": [
        "for chunk in chunks:\n",
        "    print(len(chunk))"
      ],
      "metadata": {
        "colab": {
          "base_uri": "https://localhost:8080/"
        },
        "id": "dMGiBvJ8Av7g",
        "outputId": "b6771f45-aebb-47f1-9b6d-b6c07303e660"
      },
      "execution_count": 36,
      "outputs": [
        {
          "output_type": "stream",
          "name": "stdout",
          "text": [
            "105\n",
            "120\n",
            "210\n",
            "181\n",
            "197\n",
            "207\n",
            "128\n",
            "357\n",
            "253\n"
          ]
        }
      ]
    },
    {
      "cell_type": "markdown",
      "source": [
        "As you can see, all though we gave 200 as a chunk size since the split was based on \\n, it ended up creating chunks that are bigger than size 200.\n",
        "\n",
        "Another class from Langchain can be used to recursively split the text based on a list of separators. This class is RecursiveTextSplitter. Let's see how it works"
      ],
      "metadata": {
        "id": "jNQgq1UeA1fE"
      }
    },
    {
      "cell_type": "markdown",
      "source": [
        "Recursive Text Splitter"
      ],
      "metadata": {
        "id": "hl_ILPPrA2I_"
      }
    },
    {
      "cell_type": "code",
      "source": [
        "text\n"
      ],
      "metadata": {
        "colab": {
          "base_uri": "https://localhost:8080/",
          "height": 122
        },
        "id": "Wg1LNWd8AyD9",
        "outputId": "e8b242b1-da90-4f75-97b3-280e612eb6c0"
      },
      "execution_count": 37,
      "outputs": [
        {
          "output_type": "execute_result",
          "data": {
            "text/plain": [
              "'Interstellar is a 2014 epic science fiction film co-written, directed, and produced by Christopher Nolan. \\nIt stars Matthew McConaughey, Anne Hathaway, Jessica Chastain, Bill Irwin, Ellen Burstyn, Matt Damon, and Michael Caine. \\nSet in a dystopian future where humanity is embroiled in a catastrophic blight and famine, the film follows a group of astronauts who travel through a wormhole near Saturn in search of a new home for humankind.\\n\\nBrothers Christopher and Jonathan Nolan wrote the screenplay, which had its origins in a script Jonathan developed in 2007 and was originally set to be directed by Steven Spielberg. \\nKip Thorne, a Caltech theoretical physicist and 2017 Nobel laureate in Physics,[4] was an executive producer, acted as a scientific consultant, and wrote a tie-in book, The Science of Interstellar. \\nCinematographer Hoyte van Hoytema shot it on 35 mm movie film in the Panavision anamorphic format and IMAX 70 mm. Principal photography began in late 2013 and took place in Alberta, Iceland, and Los Angeles. \\nInterstellar uses extensive practical and miniature effects, and the company Double Negative created additional digital effects.\\n\\nInterstellar premiered in Los Angeles on October 26, 2014. In the United States, it was first released on film stock, expanding to venues using digital projectors. The film received generally positive reviews from critics and grossed over $677 million worldwide ($715 million after subsequent re-releases), making it the tenth-highest-grossing film of 2014. \\nIt has been praised by astronomers for its scientific accuracy and portrayal of theoretical astrophysics.[5][6][7] Interstellar was nominated for five awards at the 87th Academy Awards, winning Best Visual Effects, and received numerous other accolades.'"
            ],
            "application/vnd.google.colaboratory.intrinsic+json": {
              "type": "string"
            }
          },
          "metadata": {},
          "execution_count": 37
        }
      ]
    },
    {
      "cell_type": "code",
      "source": [
        "from langchain.text_splitter import RecursiveCharacterTextSplitter\n",
        "\n",
        "r_splitter = RecursiveCharacterTextSplitter(\n",
        "    separators = [\"\\n\\n\", \"\\n\", \" \"],  # List of separators based on requirement (defaults to [\"\\n\\n\", \"\\n\", \" \"])\n",
        "    chunk_size = 200,  # size of each chunk created\n",
        "    chunk_overlap  = 0,  # size of  overlap between chunks in order to maintain the context\n",
        "    length_function = len  # Function to calculate size, currently we are using \"len\" which denotes length of string however you can pass any token counter)\n",
        ")"
      ],
      "metadata": {
        "id": "r03XlFhnA5_y"
      },
      "execution_count": 38,
      "outputs": []
    },
    {
      "cell_type": "code",
      "source": [
        "chunks = r_splitter.split_text(text)\n",
        "\n",
        "for chunk in chunks:\n",
        "    print(len(chunk))"
      ],
      "metadata": {
        "colab": {
          "base_uri": "https://localhost:8080/"
        },
        "id": "VaIxW93qA76M",
        "outputId": "716a9b2f-16af-4661-f017-f0484586e8cd"
      },
      "execution_count": 39,
      "outputs": [
        {
          "output_type": "stream",
          "name": "stdout",
          "text": [
            "105\n",
            "120\n",
            "199\n",
            "10\n",
            "181\n",
            "197\n",
            "198\n",
            "8\n",
            "128\n",
            "191\n",
            "165\n",
            "198\n",
            "54\n"
          ]
        }
      ]
    },
    {
      "cell_type": "markdown",
      "source": [
        "Let's understand how exactly it formed these chunks\n",
        "\n"
      ],
      "metadata": {
        "id": "DoUghuNpBD5d"
      }
    },
    {
      "cell_type": "code",
      "source": [
        "first_split = text.split(\"\\n\\n\")[0]\n",
        "first_split"
      ],
      "metadata": {
        "colab": {
          "base_uri": "https://localhost:8080/",
          "height": 70
        },
        "id": "oV2N0E6qA-X2",
        "outputId": "2ee2fbe1-e122-474b-fbc3-6843e9255da8"
      },
      "execution_count": 40,
      "outputs": [
        {
          "output_type": "execute_result",
          "data": {
            "text/plain": [
              "'Interstellar is a 2014 epic science fiction film co-written, directed, and produced by Christopher Nolan. \\nIt stars Matthew McConaughey, Anne Hathaway, Jessica Chastain, Bill Irwin, Ellen Burstyn, Matt Damon, and Michael Caine. \\nSet in a dystopian future where humanity is embroiled in a catastrophic blight and famine, the film follows a group of astronauts who travel through a wormhole near Saturn in search of a new home for humankind.'"
            ],
            "application/vnd.google.colaboratory.intrinsic+json": {
              "type": "string"
            }
          },
          "metadata": {},
          "execution_count": 40
        }
      ]
    },
    {
      "cell_type": "code",
      "source": [
        "len(first_split)\n"
      ],
      "metadata": {
        "colab": {
          "base_uri": "https://localhost:8080/"
        },
        "id": "5pocHtosBFH3",
        "outputId": "015e543d-0601-441c-80b1-4edb78adbfe1"
      },
      "execution_count": 41,
      "outputs": [
        {
          "output_type": "execute_result",
          "data": {
            "text/plain": [
              "439"
            ]
          },
          "metadata": {},
          "execution_count": 41
        }
      ]
    },
    {
      "cell_type": "markdown",
      "source": [
        "Recursive text splitter uses a list of separators, i.e. separators = [\"\\n\\n\", \"\\n\", \".\"]\n",
        "\n",
        "So now it will first split using \\n\\n and then if the resulting chunk size is greater than the chunk_size parameter which is 200 in our case, then it will use the next separator which is \\n"
      ],
      "metadata": {
        "id": "-BNFOOe5BLVf"
      }
    },
    {
      "cell_type": "code",
      "source": [
        "second_split = first_split.split(\"\\n\")\n",
        "second_split"
      ],
      "metadata": {
        "colab": {
          "base_uri": "https://localhost:8080/"
        },
        "id": "JdInbg8MBICk",
        "outputId": "e2177578-b498-46ac-80f8-c8338eec34f5"
      },
      "execution_count": 42,
      "outputs": [
        {
          "output_type": "execute_result",
          "data": {
            "text/plain": [
              "['Interstellar is a 2014 epic science fiction film co-written, directed, and produced by Christopher Nolan. ',\n",
              " 'It stars Matthew McConaughey, Anne Hathaway, Jessica Chastain, Bill Irwin, Ellen Burstyn, Matt Damon, and Michael Caine. ',\n",
              " 'Set in a dystopian future where humanity is embroiled in a catastrophic blight and famine, the film follows a group of astronauts who travel through a wormhole near Saturn in search of a new home for humankind.']"
            ]
          },
          "metadata": {},
          "execution_count": 42
        }
      ]
    },
    {
      "cell_type": "code",
      "source": [
        "for split in second_split:\n",
        "    print(len(split))"
      ],
      "metadata": {
        "colab": {
          "base_uri": "https://localhost:8080/"
        },
        "id": "6zgwqyauBPIO",
        "outputId": "acf1747d-3137-4666-eadf-3821cc5d3458"
      },
      "execution_count": 43,
      "outputs": [
        {
          "output_type": "stream",
          "name": "stdout",
          "text": [
            "106\n",
            "121\n",
            "210\n"
          ]
        }
      ]
    },
    {
      "cell_type": "code",
      "source": [
        "second_split[2]\n"
      ],
      "metadata": {
        "colab": {
          "base_uri": "https://localhost:8080/",
          "height": 52
        },
        "id": "IZaIYazuBQni",
        "outputId": "8467a0a7-ca4b-488f-c33f-51392e39ab0d"
      },
      "execution_count": 44,
      "outputs": [
        {
          "output_type": "execute_result",
          "data": {
            "text/plain": [
              "'Set in a dystopian future where humanity is embroiled in a catastrophic blight and famine, the film follows a group of astronauts who travel through a wormhole near Saturn in search of a new home for humankind.'"
            ],
            "application/vnd.google.colaboratory.intrinsic+json": {
              "type": "string"
            }
          },
          "metadata": {},
          "execution_count": 44
        }
      ]
    },
    {
      "cell_type": "markdown",
      "source": [
        "When you split this using space (i.e. second_split[2].split(\" \")), it will separate out each word and then it will merge those chunks such that their size is close to 200"
      ],
      "metadata": {
        "id": "zsSPCI-MBVNh"
      }
    },
    {
      "cell_type": "markdown",
      "source": [
        "![image.png](data:image/png;base64,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)"
      ],
      "metadata": {
        "id": "2_SauDnoBZWl"
      }
    },
    {
      "cell_type": "markdown",
      "source": [
        "#FAISS-Tutorial"
      ],
      "metadata": {
        "id": "IMNOfV2fDJ8Z"
      }
    },
    {
      "cell_type": "code",
      "source": [
        "#Install Packages\n",
        "!pip install faiss-cpu\n",
        "!pip install sentence-transformers"
      ],
      "metadata": {
        "colab": {
          "base_uri": "https://localhost:8080/"
        },
        "id": "-OUHdtz7DJtl",
        "outputId": "89cd7825-cccd-4822-87e7-6452df644bc1"
      },
      "execution_count": 45,
      "outputs": [
        {
          "output_type": "stream",
          "name": "stdout",
          "text": [
            "Collecting faiss-cpu\n",
            "  Downloading faiss_cpu-1.8.0-cp310-cp310-manylinux_2_17_x86_64.manylinux2014_x86_64.whl (27.0 MB)\n",
            "\u001b[2K     \u001b[90m━━━━━━━━━━━━━━━━━━━━━━━━━━━━━━━━━━━━━━━━\u001b[0m \u001b[32m27.0/27.0 MB\u001b[0m \u001b[31m25.4 MB/s\u001b[0m eta \u001b[36m0:00:00\u001b[0m\n",
            "\u001b[?25hRequirement already satisfied: numpy in /usr/local/lib/python3.10/dist-packages (from faiss-cpu) (1.25.2)\n",
            "Installing collected packages: faiss-cpu\n",
            "Successfully installed faiss-cpu-1.8.0\n",
            "Collecting sentence-transformers\n",
            "  Downloading sentence_transformers-2.7.0-py3-none-any.whl (171 kB)\n",
            "\u001b[2K     \u001b[90m━━━━━━━━━━━━━━━━━━━━━━━━━━━━━━━━━━━━━━━━\u001b[0m \u001b[32m171.5/171.5 kB\u001b[0m \u001b[31m2.9 MB/s\u001b[0m eta \u001b[36m0:00:00\u001b[0m\n",
            "\u001b[?25hRequirement already satisfied: transformers<5.0.0,>=4.34.0 in /usr/local/lib/python3.10/dist-packages (from sentence-transformers) (4.41.0)\n",
            "Requirement already satisfied: tqdm in /usr/local/lib/python3.10/dist-packages (from sentence-transformers) (4.66.4)\n",
            "Requirement already satisfied: torch>=1.11.0 in /usr/local/lib/python3.10/dist-packages (from sentence-transformers) (2.3.0+cu121)\n",
            "Requirement already satisfied: numpy in /usr/local/lib/python3.10/dist-packages (from sentence-transformers) (1.25.2)\n",
            "Requirement already satisfied: scikit-learn in /usr/local/lib/python3.10/dist-packages (from sentence-transformers) (1.2.2)\n",
            "Requirement already satisfied: scipy in /usr/local/lib/python3.10/dist-packages (from sentence-transformers) (1.11.4)\n",
            "Requirement already satisfied: huggingface-hub>=0.15.1 in /usr/local/lib/python3.10/dist-packages (from sentence-transformers) (0.23.1)\n",
            "Requirement already satisfied: Pillow in /usr/local/lib/python3.10/dist-packages (from sentence-transformers) (9.4.0)\n",
            "Requirement already satisfied: filelock in /usr/local/lib/python3.10/dist-packages (from huggingface-hub>=0.15.1->sentence-transformers) (3.14.0)\n",
            "Requirement already satisfied: fsspec>=2023.5.0 in /usr/local/lib/python3.10/dist-packages (from huggingface-hub>=0.15.1->sentence-transformers) (2023.6.0)\n",
            "Requirement already satisfied: packaging>=20.9 in /usr/local/lib/python3.10/dist-packages (from huggingface-hub>=0.15.1->sentence-transformers) (23.2)\n",
            "Requirement already satisfied: pyyaml>=5.1 in /usr/local/lib/python3.10/dist-packages (from huggingface-hub>=0.15.1->sentence-transformers) (6.0.1)\n",
            "Requirement already satisfied: requests in /usr/local/lib/python3.10/dist-packages (from huggingface-hub>=0.15.1->sentence-transformers) (2.31.0)\n",
            "Requirement already satisfied: typing-extensions>=3.7.4.3 in /usr/local/lib/python3.10/dist-packages (from huggingface-hub>=0.15.1->sentence-transformers) (4.11.0)\n",
            "Requirement already satisfied: sympy in /usr/local/lib/python3.10/dist-packages (from torch>=1.11.0->sentence-transformers) (1.12)\n",
            "Requirement already satisfied: networkx in /usr/local/lib/python3.10/dist-packages (from torch>=1.11.0->sentence-transformers) (3.3)\n",
            "Requirement already satisfied: jinja2 in /usr/local/lib/python3.10/dist-packages (from torch>=1.11.0->sentence-transformers) (3.1.4)\n",
            "Collecting nvidia-cuda-nvrtc-cu12==12.1.105 (from torch>=1.11.0->sentence-transformers)\n",
            "  Using cached nvidia_cuda_nvrtc_cu12-12.1.105-py3-none-manylinux1_x86_64.whl (23.7 MB)\n",
            "Collecting nvidia-cuda-runtime-cu12==12.1.105 (from torch>=1.11.0->sentence-transformers)\n",
            "  Using cached nvidia_cuda_runtime_cu12-12.1.105-py3-none-manylinux1_x86_64.whl (823 kB)\n",
            "Collecting nvidia-cuda-cupti-cu12==12.1.105 (from torch>=1.11.0->sentence-transformers)\n",
            "  Using cached nvidia_cuda_cupti_cu12-12.1.105-py3-none-manylinux1_x86_64.whl (14.1 MB)\n",
            "Collecting nvidia-cudnn-cu12==8.9.2.26 (from torch>=1.11.0->sentence-transformers)\n",
            "  Using cached nvidia_cudnn_cu12-8.9.2.26-py3-none-manylinux1_x86_64.whl (731.7 MB)\n",
            "Collecting nvidia-cublas-cu12==12.1.3.1 (from torch>=1.11.0->sentence-transformers)\n",
            "  Using cached nvidia_cublas_cu12-12.1.3.1-py3-none-manylinux1_x86_64.whl (410.6 MB)\n",
            "Collecting nvidia-cufft-cu12==11.0.2.54 (from torch>=1.11.0->sentence-transformers)\n",
            "  Using cached nvidia_cufft_cu12-11.0.2.54-py3-none-manylinux1_x86_64.whl (121.6 MB)\n",
            "Collecting nvidia-curand-cu12==10.3.2.106 (from torch>=1.11.0->sentence-transformers)\n",
            "  Using cached nvidia_curand_cu12-10.3.2.106-py3-none-manylinux1_x86_64.whl (56.5 MB)\n",
            "Collecting nvidia-cusolver-cu12==11.4.5.107 (from torch>=1.11.0->sentence-transformers)\n",
            "  Using cached nvidia_cusolver_cu12-11.4.5.107-py3-none-manylinux1_x86_64.whl (124.2 MB)\n",
            "Collecting nvidia-cusparse-cu12==12.1.0.106 (from torch>=1.11.0->sentence-transformers)\n",
            "  Using cached nvidia_cusparse_cu12-12.1.0.106-py3-none-manylinux1_x86_64.whl (196.0 MB)\n",
            "Collecting nvidia-nccl-cu12==2.20.5 (from torch>=1.11.0->sentence-transformers)\n",
            "  Using cached nvidia_nccl_cu12-2.20.5-py3-none-manylinux2014_x86_64.whl (176.2 MB)\n",
            "Collecting nvidia-nvtx-cu12==12.1.105 (from torch>=1.11.0->sentence-transformers)\n",
            "  Using cached nvidia_nvtx_cu12-12.1.105-py3-none-manylinux1_x86_64.whl (99 kB)\n",
            "Requirement already satisfied: triton==2.3.0 in /usr/local/lib/python3.10/dist-packages (from torch>=1.11.0->sentence-transformers) (2.3.0)\n",
            "Collecting nvidia-nvjitlink-cu12 (from nvidia-cusolver-cu12==11.4.5.107->torch>=1.11.0->sentence-transformers)\n",
            "  Downloading nvidia_nvjitlink_cu12-12.5.40-py3-none-manylinux2014_x86_64.whl (21.3 MB)\n",
            "\u001b[2K     \u001b[90m━━━━━━━━━━━━━━━━━━━━━━━━━━━━━━━━━━━━━━━━\u001b[0m \u001b[32m21.3/21.3 MB\u001b[0m \u001b[31m54.6 MB/s\u001b[0m eta \u001b[36m0:00:00\u001b[0m\n",
            "\u001b[?25hRequirement already satisfied: regex!=2019.12.17 in /usr/local/lib/python3.10/dist-packages (from transformers<5.0.0,>=4.34.0->sentence-transformers) (2023.12.25)\n",
            "Requirement already satisfied: tokenizers<0.20,>=0.19 in /usr/local/lib/python3.10/dist-packages (from transformers<5.0.0,>=4.34.0->sentence-transformers) (0.19.1)\n",
            "Requirement already satisfied: safetensors>=0.4.1 in /usr/local/lib/python3.10/dist-packages (from transformers<5.0.0,>=4.34.0->sentence-transformers) (0.4.3)\n",
            "Requirement already satisfied: joblib>=1.1.1 in /usr/local/lib/python3.10/dist-packages (from scikit-learn->sentence-transformers) (1.4.2)\n",
            "Requirement already satisfied: threadpoolctl>=2.0.0 in /usr/local/lib/python3.10/dist-packages (from scikit-learn->sentence-transformers) (3.5.0)\n",
            "Requirement already satisfied: MarkupSafe>=2.0 in /usr/local/lib/python3.10/dist-packages (from jinja2->torch>=1.11.0->sentence-transformers) (2.1.5)\n",
            "Requirement already satisfied: charset-normalizer<4,>=2 in /usr/local/lib/python3.10/dist-packages (from requests->huggingface-hub>=0.15.1->sentence-transformers) (3.3.2)\n",
            "Requirement already satisfied: idna<4,>=2.5 in /usr/local/lib/python3.10/dist-packages (from requests->huggingface-hub>=0.15.1->sentence-transformers) (3.7)\n",
            "Requirement already satisfied: urllib3<3,>=1.21.1 in /usr/local/lib/python3.10/dist-packages (from requests->huggingface-hub>=0.15.1->sentence-transformers) (2.0.7)\n",
            "Requirement already satisfied: certifi>=2017.4.17 in /usr/local/lib/python3.10/dist-packages (from requests->huggingface-hub>=0.15.1->sentence-transformers) (2024.2.2)\n",
            "Requirement already satisfied: mpmath>=0.19 in /usr/local/lib/python3.10/dist-packages (from sympy->torch>=1.11.0->sentence-transformers) (1.3.0)\n",
            "Installing collected packages: nvidia-nvtx-cu12, nvidia-nvjitlink-cu12, nvidia-nccl-cu12, nvidia-curand-cu12, nvidia-cufft-cu12, nvidia-cuda-runtime-cu12, nvidia-cuda-nvrtc-cu12, nvidia-cuda-cupti-cu12, nvidia-cublas-cu12, nvidia-cusparse-cu12, nvidia-cudnn-cu12, nvidia-cusolver-cu12, sentence-transformers\n",
            "Successfully installed nvidia-cublas-cu12-12.1.3.1 nvidia-cuda-cupti-cu12-12.1.105 nvidia-cuda-nvrtc-cu12-12.1.105 nvidia-cuda-runtime-cu12-12.1.105 nvidia-cudnn-cu12-8.9.2.26 nvidia-cufft-cu12-11.0.2.54 nvidia-curand-cu12-10.3.2.106 nvidia-cusolver-cu12-11.4.5.107 nvidia-cusparse-cu12-12.1.0.106 nvidia-nccl-cu12-2.20.5 nvidia-nvjitlink-cu12-12.5.40 nvidia-nvtx-cu12-12.1.105 sentence-transformers-2.7.0\n"
          ]
        }
      ]
    },
    {
      "cell_type": "code",
      "source": [
        "# import necessary libraries\n",
        "import pandas as pd\n",
        "pd.set_option('display.max_colwidth', 100)"
      ],
      "metadata": {
        "id": "CmnBdxh6DU4i"
      },
      "execution_count": 46,
      "outputs": []
    },
    {
      "cell_type": "code",
      "source": [
        "df = pd.read_csv(\"sample_text.csv\")\n",
        "df.shape\n"
      ],
      "metadata": {
        "colab": {
          "base_uri": "https://localhost:8080/"
        },
        "id": "WwEbb3gTDWhh",
        "outputId": "a74caa03-d1db-4efb-e1b4-fc598967a52b"
      },
      "execution_count": 47,
      "outputs": [
        {
          "output_type": "execute_result",
          "data": {
            "text/plain": [
              "(8, 2)"
            ]
          },
          "metadata": {},
          "execution_count": 47
        }
      ]
    },
    {
      "cell_type": "code",
      "source": [
        "df\n"
      ],
      "metadata": {
        "colab": {
          "base_uri": "https://localhost:8080/",
          "height": 300
        },
        "id": "hhJfAZ_dDXop",
        "outputId": "bff47dc4-2b5e-4bb3-90c9-fdbf5cd09983"
      },
      "execution_count": 48,
      "outputs": [
        {
          "output_type": "execute_result",
          "data": {
            "text/plain": [
              "                                                                                  text  \\\n",
              "0                                        Meditation and yoga can improve mental health   \n",
              "1                     Fruits, whole grains and vegetables helps control blood pressure   \n",
              "2                                    These are the latest fashion trends for this week   \n",
              "3                                    Vibrant color jeans for male are becoming a trend   \n",
              "4                                                   The concert starts at 7 PM tonight   \n",
              "5                      Navaratri dandiya program at Expo center in Mumbai this october   \n",
              "6                                    Exciting vacation destinations for your next trip   \n",
              "7  Maldives and Srilanka are gaining popularity in terms of low budget vacation places   \n",
              "\n",
              "  category  \n",
              "0   Health  \n",
              "1   Health  \n",
              "2  Fashion  \n",
              "3  Fashion  \n",
              "4    Event  \n",
              "5    Event  \n",
              "6   Travel  \n",
              "7   Travel  "
            ],
            "text/html": [
              "\n",
              "  <div id=\"df-2e21b41f-491e-44c7-ab82-390929f052f6\" class=\"colab-df-container\">\n",
              "    <div>\n",
              "<style scoped>\n",
              "    .dataframe tbody tr th:only-of-type {\n",
              "        vertical-align: middle;\n",
              "    }\n",
              "\n",
              "    .dataframe tbody tr th {\n",
              "        vertical-align: top;\n",
              "    }\n",
              "\n",
              "    .dataframe thead th {\n",
              "        text-align: right;\n",
              "    }\n",
              "</style>\n",
              "<table border=\"1\" class=\"dataframe\">\n",
              "  <thead>\n",
              "    <tr style=\"text-align: right;\">\n",
              "      <th></th>\n",
              "      <th>text</th>\n",
              "      <th>category</th>\n",
              "    </tr>\n",
              "  </thead>\n",
              "  <tbody>\n",
              "    <tr>\n",
              "      <th>0</th>\n",
              "      <td>Meditation and yoga can improve mental health</td>\n",
              "      <td>Health</td>\n",
              "    </tr>\n",
              "    <tr>\n",
              "      <th>1</th>\n",
              "      <td>Fruits, whole grains and vegetables helps control blood pressure</td>\n",
              "      <td>Health</td>\n",
              "    </tr>\n",
              "    <tr>\n",
              "      <th>2</th>\n",
              "      <td>These are the latest fashion trends for this week</td>\n",
              "      <td>Fashion</td>\n",
              "    </tr>\n",
              "    <tr>\n",
              "      <th>3</th>\n",
              "      <td>Vibrant color jeans for male are becoming a trend</td>\n",
              "      <td>Fashion</td>\n",
              "    </tr>\n",
              "    <tr>\n",
              "      <th>4</th>\n",
              "      <td>The concert starts at 7 PM tonight</td>\n",
              "      <td>Event</td>\n",
              "    </tr>\n",
              "    <tr>\n",
              "      <th>5</th>\n",
              "      <td>Navaratri dandiya program at Expo center in Mumbai this october</td>\n",
              "      <td>Event</td>\n",
              "    </tr>\n",
              "    <tr>\n",
              "      <th>6</th>\n",
              "      <td>Exciting vacation destinations for your next trip</td>\n",
              "      <td>Travel</td>\n",
              "    </tr>\n",
              "    <tr>\n",
              "      <th>7</th>\n",
              "      <td>Maldives and Srilanka are gaining popularity in terms of low budget vacation places</td>\n",
              "      <td>Travel</td>\n",
              "    </tr>\n",
              "  </tbody>\n",
              "</table>\n",
              "</div>\n",
              "    <div class=\"colab-df-buttons\">\n",
              "\n",
              "  <div class=\"colab-df-container\">\n",
              "    <button class=\"colab-df-convert\" onclick=\"convertToInteractive('df-2e21b41f-491e-44c7-ab82-390929f052f6')\"\n",
              "            title=\"Convert this dataframe to an interactive table.\"\n",
              "            style=\"display:none;\">\n",
              "\n",
              "  <svg xmlns=\"http://www.w3.org/2000/svg\" height=\"24px\" viewBox=\"0 -960 960 960\">\n",
              "    <path d=\"M120-120v-720h720v720H120Zm60-500h600v-160H180v160Zm220 220h160v-160H400v160Zm0 220h160v-160H400v160ZM180-400h160v-160H180v160Zm440 0h160v-160H620v160ZM180-180h160v-160H180v160Zm440 0h160v-160H620v160Z\"/>\n",
              "  </svg>\n",
              "    </button>\n",
              "\n",
              "  <style>\n",
              "    .colab-df-container {\n",
              "      display:flex;\n",
              "      gap: 12px;\n",
              "    }\n",
              "\n",
              "    .colab-df-convert {\n",
              "      background-color: #E8F0FE;\n",
              "      border: none;\n",
              "      border-radius: 50%;\n",
              "      cursor: pointer;\n",
              "      display: none;\n",
              "      fill: #1967D2;\n",
              "      height: 32px;\n",
              "      padding: 0 0 0 0;\n",
              "      width: 32px;\n",
              "    }\n",
              "\n",
              "    .colab-df-convert:hover {\n",
              "      background-color: #E2EBFA;\n",
              "      box-shadow: 0px 1px 2px rgba(60, 64, 67, 0.3), 0px 1px 3px 1px rgba(60, 64, 67, 0.15);\n",
              "      fill: #174EA6;\n",
              "    }\n",
              "\n",
              "    .colab-df-buttons div {\n",
              "      margin-bottom: 4px;\n",
              "    }\n",
              "\n",
              "    [theme=dark] .colab-df-convert {\n",
              "      background-color: #3B4455;\n",
              "      fill: #D2E3FC;\n",
              "    }\n",
              "\n",
              "    [theme=dark] .colab-df-convert:hover {\n",
              "      background-color: #434B5C;\n",
              "      box-shadow: 0px 1px 3px 1px rgba(0, 0, 0, 0.15);\n",
              "      filter: drop-shadow(0px 1px 2px rgba(0, 0, 0, 0.3));\n",
              "      fill: #FFFFFF;\n",
              "    }\n",
              "  </style>\n",
              "\n",
              "    <script>\n",
              "      const buttonEl =\n",
              "        document.querySelector('#df-2e21b41f-491e-44c7-ab82-390929f052f6 button.colab-df-convert');\n",
              "      buttonEl.style.display =\n",
              "        google.colab.kernel.accessAllowed ? 'block' : 'none';\n",
              "\n",
              "      async function convertToInteractive(key) {\n",
              "        const element = document.querySelector('#df-2e21b41f-491e-44c7-ab82-390929f052f6');\n",
              "        const dataTable =\n",
              "          await google.colab.kernel.invokeFunction('convertToInteractive',\n",
              "                                                    [key], {});\n",
              "        if (!dataTable) return;\n",
              "\n",
              "        const docLinkHtml = 'Like what you see? Visit the ' +\n",
              "          '<a target=\"_blank\" href=https://colab.research.google.com/notebooks/data_table.ipynb>data table notebook</a>'\n",
              "          + ' to learn more about interactive tables.';\n",
              "        element.innerHTML = '';\n",
              "        dataTable['output_type'] = 'display_data';\n",
              "        await google.colab.output.renderOutput(dataTable, element);\n",
              "        const docLink = document.createElement('div');\n",
              "        docLink.innerHTML = docLinkHtml;\n",
              "        element.appendChild(docLink);\n",
              "      }\n",
              "    </script>\n",
              "  </div>\n",
              "\n",
              "\n",
              "<div id=\"df-4365cffe-31b3-4699-a947-a3ff152e1f57\">\n",
              "  <button class=\"colab-df-quickchart\" onclick=\"quickchart('df-4365cffe-31b3-4699-a947-a3ff152e1f57')\"\n",
              "            title=\"Suggest charts\"\n",
              "            style=\"display:none;\">\n",
              "\n",
              "<svg xmlns=\"http://www.w3.org/2000/svg\" height=\"24px\"viewBox=\"0 0 24 24\"\n",
              "     width=\"24px\">\n",
              "    <g>\n",
              "        <path d=\"M19 3H5c-1.1 0-2 .9-2 2v14c0 1.1.9 2 2 2h14c1.1 0 2-.9 2-2V5c0-1.1-.9-2-2-2zM9 17H7v-7h2v7zm4 0h-2V7h2v10zm4 0h-2v-4h2v4z\"/>\n",
              "    </g>\n",
              "</svg>\n",
              "  </button>\n",
              "\n",
              "<style>\n",
              "  .colab-df-quickchart {\n",
              "      --bg-color: #E8F0FE;\n",
              "      --fill-color: #1967D2;\n",
              "      --hover-bg-color: #E2EBFA;\n",
              "      --hover-fill-color: #174EA6;\n",
              "      --disabled-fill-color: #AAA;\n",
              "      --disabled-bg-color: #DDD;\n",
              "  }\n",
              "\n",
              "  [theme=dark] .colab-df-quickchart {\n",
              "      --bg-color: #3B4455;\n",
              "      --fill-color: #D2E3FC;\n",
              "      --hover-bg-color: #434B5C;\n",
              "      --hover-fill-color: #FFFFFF;\n",
              "      --disabled-bg-color: #3B4455;\n",
              "      --disabled-fill-color: #666;\n",
              "  }\n",
              "\n",
              "  .colab-df-quickchart {\n",
              "    background-color: var(--bg-color);\n",
              "    border: none;\n",
              "    border-radius: 50%;\n",
              "    cursor: pointer;\n",
              "    display: none;\n",
              "    fill: var(--fill-color);\n",
              "    height: 32px;\n",
              "    padding: 0;\n",
              "    width: 32px;\n",
              "  }\n",
              "\n",
              "  .colab-df-quickchart:hover {\n",
              "    background-color: var(--hover-bg-color);\n",
              "    box-shadow: 0 1px 2px rgba(60, 64, 67, 0.3), 0 1px 3px 1px rgba(60, 64, 67, 0.15);\n",
              "    fill: var(--button-hover-fill-color);\n",
              "  }\n",
              "\n",
              "  .colab-df-quickchart-complete:disabled,\n",
              "  .colab-df-quickchart-complete:disabled:hover {\n",
              "    background-color: var(--disabled-bg-color);\n",
              "    fill: var(--disabled-fill-color);\n",
              "    box-shadow: none;\n",
              "  }\n",
              "\n",
              "  .colab-df-spinner {\n",
              "    border: 2px solid var(--fill-color);\n",
              "    border-color: transparent;\n",
              "    border-bottom-color: var(--fill-color);\n",
              "    animation:\n",
              "      spin 1s steps(1) infinite;\n",
              "  }\n",
              "\n",
              "  @keyframes spin {\n",
              "    0% {\n",
              "      border-color: transparent;\n",
              "      border-bottom-color: var(--fill-color);\n",
              "      border-left-color: var(--fill-color);\n",
              "    }\n",
              "    20% {\n",
              "      border-color: transparent;\n",
              "      border-left-color: var(--fill-color);\n",
              "      border-top-color: var(--fill-color);\n",
              "    }\n",
              "    30% {\n",
              "      border-color: transparent;\n",
              "      border-left-color: var(--fill-color);\n",
              "      border-top-color: var(--fill-color);\n",
              "      border-right-color: var(--fill-color);\n",
              "    }\n",
              "    40% {\n",
              "      border-color: transparent;\n",
              "      border-right-color: var(--fill-color);\n",
              "      border-top-color: var(--fill-color);\n",
              "    }\n",
              "    60% {\n",
              "      border-color: transparent;\n",
              "      border-right-color: var(--fill-color);\n",
              "    }\n",
              "    80% {\n",
              "      border-color: transparent;\n",
              "      border-right-color: var(--fill-color);\n",
              "      border-bottom-color: var(--fill-color);\n",
              "    }\n",
              "    90% {\n",
              "      border-color: transparent;\n",
              "      border-bottom-color: var(--fill-color);\n",
              "    }\n",
              "  }\n",
              "</style>\n",
              "\n",
              "  <script>\n",
              "    async function quickchart(key) {\n",
              "      const quickchartButtonEl =\n",
              "        document.querySelector('#' + key + ' button');\n",
              "      quickchartButtonEl.disabled = true;  // To prevent multiple clicks.\n",
              "      quickchartButtonEl.classList.add('colab-df-spinner');\n",
              "      try {\n",
              "        const charts = await google.colab.kernel.invokeFunction(\n",
              "            'suggestCharts', [key], {});\n",
              "      } catch (error) {\n",
              "        console.error('Error during call to suggestCharts:', error);\n",
              "      }\n",
              "      quickchartButtonEl.classList.remove('colab-df-spinner');\n",
              "      quickchartButtonEl.classList.add('colab-df-quickchart-complete');\n",
              "    }\n",
              "    (() => {\n",
              "      let quickchartButtonEl =\n",
              "        document.querySelector('#df-4365cffe-31b3-4699-a947-a3ff152e1f57 button');\n",
              "      quickchartButtonEl.style.display =\n",
              "        google.colab.kernel.accessAllowed ? 'block' : 'none';\n",
              "    })();\n",
              "  </script>\n",
              "</div>\n",
              "    </div>\n",
              "  </div>\n"
            ],
            "application/vnd.google.colaboratory.intrinsic+json": {
              "type": "dataframe",
              "variable_name": "df",
              "summary": "{\n  \"name\": \"df\",\n  \"rows\": 8,\n  \"fields\": [\n    {\n      \"column\": \"text\",\n      \"properties\": {\n        \"dtype\": \"string\",\n        \"num_unique_values\": 8,\n        \"samples\": [\n          \"Fruits, whole grains and vegetables helps control blood pressure\",\n          \"Navaratri dandiya program at Expo center in Mumbai this october\",\n          \"Meditation and yoga can improve mental health\"\n        ],\n        \"semantic_type\": \"\",\n        \"description\": \"\"\n      }\n    },\n    {\n      \"column\": \"category\",\n      \"properties\": {\n        \"dtype\": \"string\",\n        \"num_unique_values\": 4,\n        \"samples\": [\n          \"Fashion\",\n          \"Travel\",\n          \"Health\"\n        ],\n        \"semantic_type\": \"\",\n        \"description\": \"\"\n      }\n    }\n  ]\n}"
            }
          },
          "metadata": {},
          "execution_count": 48
        }
      ]
    },
    {
      "cell_type": "markdown",
      "source": [
        "Step 1 : Create source embeddings for the text column\n"
      ],
      "metadata": {
        "id": "GhmzncgADi38"
      }
    },
    {
      "cell_type": "code",
      "source": [
        "from sentence_transformers import SentenceTransformer\n",
        "encoder = SentenceTransformer(\"all-mpnet-base-v2\")\n",
        "vectors = encoder.encode(df.text)"
      ],
      "metadata": {
        "colab": {
          "base_uri": "https://localhost:8080/",
          "height": 528,
          "referenced_widgets": [
            "57f09b28fdd645ff8b09e27b89a88e60",
            "5f78f3769b6041a39384651ac07d82b2",
            "42b547f134c544b28dc9415660350109",
            "8f568a0a8ea74d8dbb0132a8d75bc793",
            "dab42b561c0d4d23baabfb3bde457a18",
            "52d0ec92a77b45d09fdd14592e4d8a98",
            "1cbe0d35f88b460dad39e8acb0cbaab0",
            "a1fd78bc5dc54e25a4e951ab9d0d0a76",
            "17ba3044214d49f090f0305b938de351",
            "70a442c13ac24c1fab0479b9bde491f8",
            "a9f35b9f1c7b44d6a8d9e060204132e3",
            "56c913589f1947c8801ece57ebb976ff",
            "40c841716ff849eb8a0d75f246a60703",
            "3f59a8432c824cc888a28a67c3b34c9e",
            "9b48f8634100475481a1deb8940d52aa",
            "312afb5c345642ddbc450c11f9c78d2e",
            "d107f7367f7b4b5788dce03ffd9fe4a4",
            "be046ec69ee44a1bb88278b0ffde26dc",
            "21bcd2a04669444d8347c9cbe17cdd3e",
            "21a6756eb9474a1fad655a20dc907f85",
            "c321e76901ee47b987bbdf69033afe6d",
            "0e946f259b454cf5bab8247686710c4b",
            "61d3bf22d6dd49ff9eab4540c9109e22",
            "79ce03b2d31d47f4865349e7ac14d8c4",
            "66793085b97740738a634b52d727ffdd",
            "3a59e61ccdba4579af272eba37f6d802",
            "f0e1840824154606b0805600a395ec5c",
            "1d93f22260a7472ba66f52f73d5b9e36",
            "ac4d3f436ffb46d1a6a0d91f375d136b",
            "389146a8d6cb4e2bab5f323f98782d42",
            "b78b60167cc349b287c0c78e58ab552a",
            "89f249297d364e94b55ed93d9c4d580e",
            "fed3583a49054cb1a826346156e13b30",
            "00dc0618baf746319e7ad2dff82a0119",
            "3e3f680999f04a28bf5c6270b1718e96",
            "7c0ea649e2334d70b8a5c1d533612513",
            "69fa2abe63c24effa9844e1ba25004f9",
            "e95cb552ee4249e89f9f3a1f50cee1aa",
            "7f4aeca34d40408f8e05e13c5e9e2136",
            "1b8e64d8748a427e96f0c32d56182a8c",
            "e74c1b4529c14706a28498132804037f",
            "3965c04267d64d35b4e7c8a4b7def8cc",
            "3aac7d5e1a474ca7ae10472cab0c8e50",
            "a4d858b23168457f996e9b1d2acd2800",
            "a094eb8a8f1e480aa8bb63950fc7c603",
            "11c8ce99a57240c1a5397c5bf74d7a08",
            "88c5bdcad74545699b3a79ef0b18e99d",
            "60f0293b98f341debe86e084ad36b41e",
            "981f32202cce4b52bac0ea6030e6e23a",
            "76e9912c9b7e4defbf0509f3312c32de",
            "0ed2d5d25dbf45b198ba126ac29fa807",
            "5fc20764f9bb40c3977ea8adbfd5033a",
            "9277116868894cb683f839dbe8ac0822",
            "b1b6d28d17154871962c9ca79cb859af",
            "445c5bd812134bb99882679852f8bac7",
            "2b2696b64ef4415da158dfa58d5a9f2c",
            "3775cca3110f442095b1e29f99809bd7",
            "ec731a4c87d14cadad6f30811d406cc1",
            "08c185092bbf4a8e80c1aba636526fdb",
            "9e30b74ec6d24bc486a1d8196600e93a",
            "1c9f206f3ba048968b0486d1e20e8425",
            "6dae1dbaba864cbc9c41fe71ca8019ce",
            "6d1a01c9fe1245ca97bab9fb9812fa13",
            "dda803ba2b4d4b9d914684cb60e4c9d9",
            "366690d230a74537919ea81e2101f843",
            "5dcd84fb7808427f9104f01fed22d5cc",
            "ca9d97a6aec54c36ab3b5d8dd29a1869",
            "9e06af72427e4bd5a8d62d23d9342fda",
            "b2b3acd7679c45558d07a8d1d336b716",
            "84f30a589f1045559c71c36ea504bc31",
            "8d2951c2b1f94caaa7e294420f8b331e",
            "117c4d3cc3dc42df883aed962553ff5b",
            "20876eb40bc04b1caad6ca1acf3bffd4",
            "bb4e76aae4f84efcaf8581d71c9b8eed",
            "8e0ccd4d6b374c30b4423664cdbeb9b2",
            "35dd19d3d0c94ce8a2e4f02c5d12f602",
            "1eb6171001db42e9b5260e1328e6c35c",
            "9f41e756c4644ba99a77f7897f45d582",
            "ffea073d42624f629f7431a5bba6c7ae",
            "d932180d32cc4b73a43d97a49f3b60e3",
            "95f3f7e40a9246938658165cb507e49e",
            "c830690f15fa4e4991d5830fdfa0a6c4",
            "b54fc29e81a5429db65aebe7850519cc",
            "66574e1e44df44fd8e3f8f785f6d72d8",
            "32f84742c414439a85601a21111622eb",
            "3e3314dc016c4e41b13a7ce6faf3d408",
            "6f2979c93dde4d72bffa8b4d51bcfebf",
            "f10067d0b8294c1983232c0482a90878",
            "c3445c64107446e6968ebc53a74b84d8",
            "d74a4ca99abc45ea857c5eb616985ee4",
            "beebacc1f58d493981b25f8405e27288",
            "8ef5fb01a39b4a1c815e3749e962f49c",
            "a6aa98a295da4c698cbd9000c36f2449",
            "1d9e533a4b384c5bac60480ef0ab049c",
            "c452f67ab064448eab25cb13c2f41cb0",
            "48b436027cbb4f29839c22020e1e9ef0",
            "39f90d9d8978441aa386d64b5bd56f37",
            "5971e88df6cb4203955acfd20059836a",
            "b158a6dfb7804d8e86dfe859eac23ec7",
            "ce9ca3dc3536499ea19ff895263e878b",
            "982adcf324964d59976469ec46097a4c",
            "14919b6c72044970a8b4fda074a3d2e2",
            "07ec1f255d584501b8543c4fe1733f31",
            "4979c059e97e485ca34243339bdd8071",
            "a85d7de47fc044d0a2d4ce7a8888488f",
            "54bc7f67db8245ceb45888f8795763c7",
            "56236f53f8d64f0ba4d05fff20ae350c",
            "14e0ab6a56854f17b67d53ee4b3cf186",
            "1e79f71389af4e03aaeff3cd8e253a8e",
            "5463cafc076948c5ba3fb627d77c3089",
            "c84c4f176cd3418e9cd0a639972d18f8",
            "54b223b27b8e407da8d96d2984cf6fdd",
            "9f1a107ace4c43d08eee12c4daa4e30b",
            "89afdf69bb064c93a94c2a48944ff784",
            "55569d260f4044d5bbbb846db962f2f8",
            "16045f0b1a414905b4899efa1a283913",
            "fdc6be33d9c14483a84948a653076e2f",
            "b595b9de0d324289a11e9f1e565d273d",
            "7431c93c390e412b9a3cf522e7980509",
            "a40c7d86838540d0a30362e6c9e6b3a8",
            "6263e57024144346bcc6bda8ed48f0c4"
          ]
        },
        "id": "GprKwvBtDg3F",
        "outputId": "de3f1591-83c1-4c11-8194-8d6d9cd663da"
      },
      "execution_count": 49,
      "outputs": [
        {
          "output_type": "stream",
          "name": "stderr",
          "text": [
            "/usr/local/lib/python3.10/dist-packages/huggingface_hub/utils/_token.py:89: UserWarning: \n",
            "The secret `HF_TOKEN` does not exist in your Colab secrets.\n",
            "To authenticate with the Hugging Face Hub, create a token in your settings tab (https://huggingface.co/settings/tokens), set it as secret in your Google Colab and restart your session.\n",
            "You will be able to reuse this secret in all of your notebooks.\n",
            "Please note that authentication is recommended but still optional to access public models or datasets.\n",
            "  warnings.warn(\n"
          ]
        },
        {
          "output_type": "display_data",
          "data": {
            "text/plain": [
              "modules.json:   0%|          | 0.00/349 [00:00<?, ?B/s]"
            ],
            "application/vnd.jupyter.widget-view+json": {
              "version_major": 2,
              "version_minor": 0,
              "model_id": "57f09b28fdd645ff8b09e27b89a88e60"
            }
          },
          "metadata": {}
        },
        {
          "output_type": "display_data",
          "data": {
            "text/plain": [
              "config_sentence_transformers.json:   0%|          | 0.00/116 [00:00<?, ?B/s]"
            ],
            "application/vnd.jupyter.widget-view+json": {
              "version_major": 2,
              "version_minor": 0,
              "model_id": "56c913589f1947c8801ece57ebb976ff"
            }
          },
          "metadata": {}
        },
        {
          "output_type": "display_data",
          "data": {
            "text/plain": [
              "README.md:   0%|          | 0.00/10.6k [00:00<?, ?B/s]"
            ],
            "application/vnd.jupyter.widget-view+json": {
              "version_major": 2,
              "version_minor": 0,
              "model_id": "61d3bf22d6dd49ff9eab4540c9109e22"
            }
          },
          "metadata": {}
        },
        {
          "output_type": "display_data",
          "data": {
            "text/plain": [
              "sentence_bert_config.json:   0%|          | 0.00/53.0 [00:00<?, ?B/s]"
            ],
            "application/vnd.jupyter.widget-view+json": {
              "version_major": 2,
              "version_minor": 0,
              "model_id": "00dc0618baf746319e7ad2dff82a0119"
            }
          },
          "metadata": {}
        },
        {
          "output_type": "stream",
          "name": "stderr",
          "text": [
            "/usr/local/lib/python3.10/dist-packages/huggingface_hub/file_download.py:1132: FutureWarning: `resume_download` is deprecated and will be removed in version 1.0.0. Downloads always resume when possible. If you want to force a new download, use `force_download=True`.\n",
            "  warnings.warn(\n"
          ]
        },
        {
          "output_type": "display_data",
          "data": {
            "text/plain": [
              "config.json:   0%|          | 0.00/571 [00:00<?, ?B/s]"
            ],
            "application/vnd.jupyter.widget-view+json": {
              "version_major": 2,
              "version_minor": 0,
              "model_id": "a094eb8a8f1e480aa8bb63950fc7c603"
            }
          },
          "metadata": {}
        },
        {
          "output_type": "display_data",
          "data": {
            "text/plain": [
              "model.safetensors:   0%|          | 0.00/438M [00:00<?, ?B/s]"
            ],
            "application/vnd.jupyter.widget-view+json": {
              "version_major": 2,
              "version_minor": 0,
              "model_id": "2b2696b64ef4415da158dfa58d5a9f2c"
            }
          },
          "metadata": {}
        },
        {
          "output_type": "display_data",
          "data": {
            "text/plain": [
              "tokenizer_config.json:   0%|          | 0.00/363 [00:00<?, ?B/s]"
            ],
            "application/vnd.jupyter.widget-view+json": {
              "version_major": 2,
              "version_minor": 0,
              "model_id": "ca9d97a6aec54c36ab3b5d8dd29a1869"
            }
          },
          "metadata": {}
        },
        {
          "output_type": "display_data",
          "data": {
            "text/plain": [
              "vocab.txt:   0%|          | 0.00/232k [00:00<?, ?B/s]"
            ],
            "application/vnd.jupyter.widget-view+json": {
              "version_major": 2,
              "version_minor": 0,
              "model_id": "9f41e756c4644ba99a77f7897f45d582"
            }
          },
          "metadata": {}
        },
        {
          "output_type": "display_data",
          "data": {
            "text/plain": [
              "tokenizer.json:   0%|          | 0.00/466k [00:00<?, ?B/s]"
            ],
            "application/vnd.jupyter.widget-view+json": {
              "version_major": 2,
              "version_minor": 0,
              "model_id": "c3445c64107446e6968ebc53a74b84d8"
            }
          },
          "metadata": {}
        },
        {
          "output_type": "display_data",
          "data": {
            "text/plain": [
              "special_tokens_map.json:   0%|          | 0.00/239 [00:00<?, ?B/s]"
            ],
            "application/vnd.jupyter.widget-view+json": {
              "version_major": 2,
              "version_minor": 0,
              "model_id": "ce9ca3dc3536499ea19ff895263e878b"
            }
          },
          "metadata": {}
        },
        {
          "output_type": "display_data",
          "data": {
            "text/plain": [
              "1_Pooling/config.json:   0%|          | 0.00/190 [00:00<?, ?B/s]"
            ],
            "application/vnd.jupyter.widget-view+json": {
              "version_major": 2,
              "version_minor": 0,
              "model_id": "c84c4f176cd3418e9cd0a639972d18f8"
            }
          },
          "metadata": {}
        }
      ]
    },
    {
      "cell_type": "code",
      "source": [
        "vectors.shape\n"
      ],
      "metadata": {
        "colab": {
          "base_uri": "https://localhost:8080/"
        },
        "id": "yZ1yFGBpDoWV",
        "outputId": "8ded53ef-0a9d-491d-b235-3ba05a590557"
      },
      "execution_count": 50,
      "outputs": [
        {
          "output_type": "execute_result",
          "data": {
            "text/plain": [
              "(8, 768)"
            ]
          },
          "metadata": {},
          "execution_count": 50
        }
      ]
    },
    {
      "cell_type": "code",
      "source": [
        "dim = vectors.shape[1]\n",
        "dim"
      ],
      "metadata": {
        "colab": {
          "base_uri": "https://localhost:8080/"
        },
        "id": "JT33qcbfDqp7",
        "outputId": "f1755c11-a24f-4ded-8744-c06c3239a388"
      },
      "execution_count": 51,
      "outputs": [
        {
          "output_type": "execute_result",
          "data": {
            "text/plain": [
              "768"
            ]
          },
          "metadata": {},
          "execution_count": 51
        }
      ]
    },
    {
      "cell_type": "markdown",
      "source": [
        "Step 2 : Build a FAISS Index for vectors\n"
      ],
      "metadata": {
        "id": "UQqo-_OMDsAl"
      }
    },
    {
      "cell_type": "code",
      "source": [
        "import faiss\n",
        "\n",
        "index = faiss.IndexFlatL2(dim)"
      ],
      "metadata": {
        "id": "8HM7D9mYDsMl"
      },
      "execution_count": 52,
      "outputs": []
    },
    {
      "cell_type": "markdown",
      "source": [
        "Step 3 : Normalize the source vectors (as we are using L2 distance to measure similarity) and add to the index"
      ],
      "metadata": {
        "id": "HFawcuMuDuwn"
      }
    },
    {
      "cell_type": "code",
      "source": [
        "index.add(vectors)\n",
        "index"
      ],
      "metadata": {
        "colab": {
          "base_uri": "https://localhost:8080/"
        },
        "id": "CcEWtnCvDtUk",
        "outputId": "ecfd829a-c69e-48b8-8255-29bd0c8cc2c2"
      },
      "execution_count": 53,
      "outputs": [
        {
          "output_type": "execute_result",
          "data": {
            "text/plain": [
              "<faiss.swigfaiss_avx2.IndexFlatL2; proxy of <Swig Object of type 'faiss::IndexFlatL2 *' at 0x7dcb756152f0> >"
            ]
          },
          "metadata": {},
          "execution_count": 53
        }
      ]
    },
    {
      "cell_type": "markdown",
      "source": [
        "Step 4 : Encode search text using same encorder and normalize the output vector\n"
      ],
      "metadata": {
        "id": "MNpqhIa8Dxid"
      }
    },
    {
      "cell_type": "code",
      "source": [
        "search_query = \"I want to buy a polo t-shirt\"\n",
        "# search_query = \"looking for places to visit during the holidays\"\n",
        "# search_query = \"An apple a day keeps the doctor away\"\n",
        "vec = encoder.encode(search_query)\n",
        "vec.shape"
      ],
      "metadata": {
        "colab": {
          "base_uri": "https://localhost:8080/"
        },
        "id": "DnOb19KgDwTF",
        "outputId": "64e2693a-9f08-448a-f7e0-b0a41fa5d8e1"
      },
      "execution_count": 54,
      "outputs": [
        {
          "output_type": "execute_result",
          "data": {
            "text/plain": [
              "(768,)"
            ]
          },
          "metadata": {},
          "execution_count": 54
        }
      ]
    },
    {
      "cell_type": "code",
      "source": [
        "import numpy as np\n",
        "svec = np.array(vec).reshape(1,-1)\n",
        "svec.shape"
      ],
      "metadata": {
        "colab": {
          "base_uri": "https://localhost:8080/"
        },
        "id": "KTNM7LYHDztb",
        "outputId": "55e7e52c-2943-47b6-f6e3-4e5eddfd92a8"
      },
      "execution_count": 58,
      "outputs": [
        {
          "output_type": "execute_result",
          "data": {
            "text/plain": [
              "(1, 768)"
            ]
          },
          "metadata": {},
          "execution_count": 58
        }
      ]
    },
    {
      "cell_type": "markdown",
      "source": [
        "Step 5: Search for similar vector in the FAISS index created\n"
      ],
      "metadata": {
        "id": "LfFDblmiD4XM"
      }
    },
    {
      "cell_type": "code",
      "source": [
        "distances, I = index.search(svec, k=2)\n",
        "distances"
      ],
      "metadata": {
        "colab": {
          "base_uri": "https://localhost:8080/"
        },
        "id": "CC4_Ik7zD1Kg",
        "outputId": "33195229-73bb-4d79-fce3-ca95f85173e9"
      },
      "execution_count": 59,
      "outputs": [
        {
          "output_type": "execute_result",
          "data": {
            "text/plain": [
              "array([[1.3844837, 1.4039097]], dtype=float32)"
            ]
          },
          "metadata": {},
          "execution_count": 59
        }
      ]
    },
    {
      "cell_type": "code",
      "source": [
        "I"
      ],
      "metadata": {
        "colab": {
          "base_uri": "https://localhost:8080/"
        },
        "id": "VEG5e5g2D5kw",
        "outputId": "c16ee38c-37e6-4858-abe4-513c6ac16adc"
      },
      "execution_count": 60,
      "outputs": [
        {
          "output_type": "execute_result",
          "data": {
            "text/plain": [
              "array([[3, 2]])"
            ]
          },
          "metadata": {},
          "execution_count": 60
        }
      ]
    },
    {
      "cell_type": "code",
      "source": [
        "I.tolist()\n",
        "row_indices = I.tolist()[0]\n",
        "row_indices"
      ],
      "metadata": {
        "colab": {
          "base_uri": "https://localhost:8080/"
        },
        "id": "t54Y_5bnEFZG",
        "outputId": "bd516764-9de3-4feb-989c-b1d3e030b544"
      },
      "execution_count": 61,
      "outputs": [
        {
          "output_type": "execute_result",
          "data": {
            "text/plain": [
              "[3, 2]"
            ]
          },
          "metadata": {},
          "execution_count": 61
        }
      ]
    },
    {
      "cell_type": "code",
      "source": [
        "df.loc[row_indices]\n"
      ],
      "metadata": {
        "colab": {
          "base_uri": "https://localhost:8080/",
          "height": 112
        },
        "id": "RykH5YxyHXI3",
        "outputId": "7315a72f-2599-4d8e-a283-d94d9d359001"
      },
      "execution_count": 62,
      "outputs": [
        {
          "output_type": "execute_result",
          "data": {
            "text/plain": [
              "                                                text category\n",
              "3  Vibrant color jeans for male are becoming a trend  Fashion\n",
              "2  These are the latest fashion trends for this week  Fashion"
            ],
            "text/html": [
              "\n",
              "  <div id=\"df-df55dbc8-59fb-4d85-a65b-8933767d84f6\" class=\"colab-df-container\">\n",
              "    <div>\n",
              "<style scoped>\n",
              "    .dataframe tbody tr th:only-of-type {\n",
              "        vertical-align: middle;\n",
              "    }\n",
              "\n",
              "    .dataframe tbody tr th {\n",
              "        vertical-align: top;\n",
              "    }\n",
              "\n",
              "    .dataframe thead th {\n",
              "        text-align: right;\n",
              "    }\n",
              "</style>\n",
              "<table border=\"1\" class=\"dataframe\">\n",
              "  <thead>\n",
              "    <tr style=\"text-align: right;\">\n",
              "      <th></th>\n",
              "      <th>text</th>\n",
              "      <th>category</th>\n",
              "    </tr>\n",
              "  </thead>\n",
              "  <tbody>\n",
              "    <tr>\n",
              "      <th>3</th>\n",
              "      <td>Vibrant color jeans for male are becoming a trend</td>\n",
              "      <td>Fashion</td>\n",
              "    </tr>\n",
              "    <tr>\n",
              "      <th>2</th>\n",
              "      <td>These are the latest fashion trends for this week</td>\n",
              "      <td>Fashion</td>\n",
              "    </tr>\n",
              "  </tbody>\n",
              "</table>\n",
              "</div>\n",
              "    <div class=\"colab-df-buttons\">\n",
              "\n",
              "  <div class=\"colab-df-container\">\n",
              "    <button class=\"colab-df-convert\" onclick=\"convertToInteractive('df-df55dbc8-59fb-4d85-a65b-8933767d84f6')\"\n",
              "            title=\"Convert this dataframe to an interactive table.\"\n",
              "            style=\"display:none;\">\n",
              "\n",
              "  <svg xmlns=\"http://www.w3.org/2000/svg\" height=\"24px\" viewBox=\"0 -960 960 960\">\n",
              "    <path d=\"M120-120v-720h720v720H120Zm60-500h600v-160H180v160Zm220 220h160v-160H400v160Zm0 220h160v-160H400v160ZM180-400h160v-160H180v160Zm440 0h160v-160H620v160ZM180-180h160v-160H180v160Zm440 0h160v-160H620v160Z\"/>\n",
              "  </svg>\n",
              "    </button>\n",
              "\n",
              "  <style>\n",
              "    .colab-df-container {\n",
              "      display:flex;\n",
              "      gap: 12px;\n",
              "    }\n",
              "\n",
              "    .colab-df-convert {\n",
              "      background-color: #E8F0FE;\n",
              "      border: none;\n",
              "      border-radius: 50%;\n",
              "      cursor: pointer;\n",
              "      display: none;\n",
              "      fill: #1967D2;\n",
              "      height: 32px;\n",
              "      padding: 0 0 0 0;\n",
              "      width: 32px;\n",
              "    }\n",
              "\n",
              "    .colab-df-convert:hover {\n",
              "      background-color: #E2EBFA;\n",
              "      box-shadow: 0px 1px 2px rgba(60, 64, 67, 0.3), 0px 1px 3px 1px rgba(60, 64, 67, 0.15);\n",
              "      fill: #174EA6;\n",
              "    }\n",
              "\n",
              "    .colab-df-buttons div {\n",
              "      margin-bottom: 4px;\n",
              "    }\n",
              "\n",
              "    [theme=dark] .colab-df-convert {\n",
              "      background-color: #3B4455;\n",
              "      fill: #D2E3FC;\n",
              "    }\n",
              "\n",
              "    [theme=dark] .colab-df-convert:hover {\n",
              "      background-color: #434B5C;\n",
              "      box-shadow: 0px 1px 3px 1px rgba(0, 0, 0, 0.15);\n",
              "      filter: drop-shadow(0px 1px 2px rgba(0, 0, 0, 0.3));\n",
              "      fill: #FFFFFF;\n",
              "    }\n",
              "  </style>\n",
              "\n",
              "    <script>\n",
              "      const buttonEl =\n",
              "        document.querySelector('#df-df55dbc8-59fb-4d85-a65b-8933767d84f6 button.colab-df-convert');\n",
              "      buttonEl.style.display =\n",
              "        google.colab.kernel.accessAllowed ? 'block' : 'none';\n",
              "\n",
              "      async function convertToInteractive(key) {\n",
              "        const element = document.querySelector('#df-df55dbc8-59fb-4d85-a65b-8933767d84f6');\n",
              "        const dataTable =\n",
              "          await google.colab.kernel.invokeFunction('convertToInteractive',\n",
              "                                                    [key], {});\n",
              "        if (!dataTable) return;\n",
              "\n",
              "        const docLinkHtml = 'Like what you see? Visit the ' +\n",
              "          '<a target=\"_blank\" href=https://colab.research.google.com/notebooks/data_table.ipynb>data table notebook</a>'\n",
              "          + ' to learn more about interactive tables.';\n",
              "        element.innerHTML = '';\n",
              "        dataTable['output_type'] = 'display_data';\n",
              "        await google.colab.output.renderOutput(dataTable, element);\n",
              "        const docLink = document.createElement('div');\n",
              "        docLink.innerHTML = docLinkHtml;\n",
              "        element.appendChild(docLink);\n",
              "      }\n",
              "    </script>\n",
              "  </div>\n",
              "\n",
              "\n",
              "<div id=\"df-33915b41-f54f-4d56-bf43-fe58789103ad\">\n",
              "  <button class=\"colab-df-quickchart\" onclick=\"quickchart('df-33915b41-f54f-4d56-bf43-fe58789103ad')\"\n",
              "            title=\"Suggest charts\"\n",
              "            style=\"display:none;\">\n",
              "\n",
              "<svg xmlns=\"http://www.w3.org/2000/svg\" height=\"24px\"viewBox=\"0 0 24 24\"\n",
              "     width=\"24px\">\n",
              "    <g>\n",
              "        <path d=\"M19 3H5c-1.1 0-2 .9-2 2v14c0 1.1.9 2 2 2h14c1.1 0 2-.9 2-2V5c0-1.1-.9-2-2-2zM9 17H7v-7h2v7zm4 0h-2V7h2v10zm4 0h-2v-4h2v4z\"/>\n",
              "    </g>\n",
              "</svg>\n",
              "  </button>\n",
              "\n",
              "<style>\n",
              "  .colab-df-quickchart {\n",
              "      --bg-color: #E8F0FE;\n",
              "      --fill-color: #1967D2;\n",
              "      --hover-bg-color: #E2EBFA;\n",
              "      --hover-fill-color: #174EA6;\n",
              "      --disabled-fill-color: #AAA;\n",
              "      --disabled-bg-color: #DDD;\n",
              "  }\n",
              "\n",
              "  [theme=dark] .colab-df-quickchart {\n",
              "      --bg-color: #3B4455;\n",
              "      --fill-color: #D2E3FC;\n",
              "      --hover-bg-color: #434B5C;\n",
              "      --hover-fill-color: #FFFFFF;\n",
              "      --disabled-bg-color: #3B4455;\n",
              "      --disabled-fill-color: #666;\n",
              "  }\n",
              "\n",
              "  .colab-df-quickchart {\n",
              "    background-color: var(--bg-color);\n",
              "    border: none;\n",
              "    border-radius: 50%;\n",
              "    cursor: pointer;\n",
              "    display: none;\n",
              "    fill: var(--fill-color);\n",
              "    height: 32px;\n",
              "    padding: 0;\n",
              "    width: 32px;\n",
              "  }\n",
              "\n",
              "  .colab-df-quickchart:hover {\n",
              "    background-color: var(--hover-bg-color);\n",
              "    box-shadow: 0 1px 2px rgba(60, 64, 67, 0.3), 0 1px 3px 1px rgba(60, 64, 67, 0.15);\n",
              "    fill: var(--button-hover-fill-color);\n",
              "  }\n",
              "\n",
              "  .colab-df-quickchart-complete:disabled,\n",
              "  .colab-df-quickchart-complete:disabled:hover {\n",
              "    background-color: var(--disabled-bg-color);\n",
              "    fill: var(--disabled-fill-color);\n",
              "    box-shadow: none;\n",
              "  }\n",
              "\n",
              "  .colab-df-spinner {\n",
              "    border: 2px solid var(--fill-color);\n",
              "    border-color: transparent;\n",
              "    border-bottom-color: var(--fill-color);\n",
              "    animation:\n",
              "      spin 1s steps(1) infinite;\n",
              "  }\n",
              "\n",
              "  @keyframes spin {\n",
              "    0% {\n",
              "      border-color: transparent;\n",
              "      border-bottom-color: var(--fill-color);\n",
              "      border-left-color: var(--fill-color);\n",
              "    }\n",
              "    20% {\n",
              "      border-color: transparent;\n",
              "      border-left-color: var(--fill-color);\n",
              "      border-top-color: var(--fill-color);\n",
              "    }\n",
              "    30% {\n",
              "      border-color: transparent;\n",
              "      border-left-color: var(--fill-color);\n",
              "      border-top-color: var(--fill-color);\n",
              "      border-right-color: var(--fill-color);\n",
              "    }\n",
              "    40% {\n",
              "      border-color: transparent;\n",
              "      border-right-color: var(--fill-color);\n",
              "      border-top-color: var(--fill-color);\n",
              "    }\n",
              "    60% {\n",
              "      border-color: transparent;\n",
              "      border-right-color: var(--fill-color);\n",
              "    }\n",
              "    80% {\n",
              "      border-color: transparent;\n",
              "      border-right-color: var(--fill-color);\n",
              "      border-bottom-color: var(--fill-color);\n",
              "    }\n",
              "    90% {\n",
              "      border-color: transparent;\n",
              "      border-bottom-color: var(--fill-color);\n",
              "    }\n",
              "  }\n",
              "</style>\n",
              "\n",
              "  <script>\n",
              "    async function quickchart(key) {\n",
              "      const quickchartButtonEl =\n",
              "        document.querySelector('#' + key + ' button');\n",
              "      quickchartButtonEl.disabled = true;  // To prevent multiple clicks.\n",
              "      quickchartButtonEl.classList.add('colab-df-spinner');\n",
              "      try {\n",
              "        const charts = await google.colab.kernel.invokeFunction(\n",
              "            'suggestCharts', [key], {});\n",
              "      } catch (error) {\n",
              "        console.error('Error during call to suggestCharts:', error);\n",
              "      }\n",
              "      quickchartButtonEl.classList.remove('colab-df-spinner');\n",
              "      quickchartButtonEl.classList.add('colab-df-quickchart-complete');\n",
              "    }\n",
              "    (() => {\n",
              "      let quickchartButtonEl =\n",
              "        document.querySelector('#df-33915b41-f54f-4d56-bf43-fe58789103ad button');\n",
              "      quickchartButtonEl.style.display =\n",
              "        google.colab.kernel.accessAllowed ? 'block' : 'none';\n",
              "    })();\n",
              "  </script>\n",
              "</div>\n",
              "    </div>\n",
              "  </div>\n"
            ],
            "application/vnd.google.colaboratory.intrinsic+json": {
              "type": "dataframe",
              "summary": "{\n  \"name\": \"df\",\n  \"rows\": 2,\n  \"fields\": [\n    {\n      \"column\": \"text\",\n      \"properties\": {\n        \"dtype\": \"string\",\n        \"num_unique_values\": 2,\n        \"samples\": [\n          \"These are the latest fashion trends for this week\",\n          \"Vibrant color jeans for male are becoming a trend\"\n        ],\n        \"semantic_type\": \"\",\n        \"description\": \"\"\n      }\n    },\n    {\n      \"column\": \"category\",\n      \"properties\": {\n        \"dtype\": \"string\",\n        \"num_unique_values\": 1,\n        \"samples\": [\n          \"Fashion\"\n        ],\n        \"semantic_type\": \"\",\n        \"description\": \"\"\n      }\n    }\n  ]\n}"
            }
          },
          "metadata": {},
          "execution_count": 62
        }
      ]
    },
    {
      "cell_type": "code",
      "source": [
        "search_query\n"
      ],
      "metadata": {
        "colab": {
          "base_uri": "https://localhost:8080/",
          "height": 35
        },
        "id": "aXi9RZ03HYHG",
        "outputId": "527f5c5f-c524-4e83-c189-3c4a0346085b"
      },
      "execution_count": 63,
      "outputs": [
        {
          "output_type": "execute_result",
          "data": {
            "text/plain": [
              "'I want to buy a polo t-shirt'"
            ],
            "application/vnd.google.colaboratory.intrinsic+json": {
              "type": "string"
            }
          },
          "metadata": {},
          "execution_count": 63
        }
      ]
    },
    {
      "cell_type": "markdown",
      "source": [
        "You can see that the two results from the dataframe are similar to a search_query"
      ],
      "metadata": {
        "id": "lhN8_QPEHaEV"
      }
    },
    {
      "cell_type": "markdown",
      "source": [
        "#Retrieval"
      ],
      "metadata": {
        "id": "l3ABRjZgIfSj"
      }
    },
    {
      "cell_type": "code",
      "source": [
        "!pip install streamlit\n",
        "import os\n",
        "import streamlit as st\n",
        "import pickle\n",
        "import time\n",
        "import langchain\n",
        "from langchain import OpenAI\n",
        "from langchain.chains import RetrievalQAWithSourcesChain\n",
        "from langchain.chains.qa_with_sources.loading import load_qa_with_sources_chain\n",
        "from langchain.text_splitter import RecursiveCharacterTextSplitter\n",
        "from langchain.document_loaders import UnstructuredURLLoader\n",
        "from langchain.embeddings import OpenAIEmbeddings\n",
        "from langchain.vectorstores import FAISS"
      ],
      "metadata": {
        "colab": {
          "base_uri": "https://localhost:8080/"
        },
        "id": "5D_loTjfHZf_",
        "outputId": "9b85c1b0-1b31-45ad-e143-ebd91f4d3759"
      },
      "execution_count": 65,
      "outputs": [
        {
          "output_type": "stream",
          "name": "stdout",
          "text": [
            "Collecting streamlit\n",
            "  Downloading streamlit-1.35.0-py2.py3-none-any.whl (8.6 MB)\n",
            "\u001b[2K     \u001b[90m━━━━━━━━━━━━━━━━━━━━━━━━━━━━━━━━━━━━━━━━\u001b[0m \u001b[32m8.6/8.6 MB\u001b[0m \u001b[31m34.3 MB/s\u001b[0m eta \u001b[36m0:00:00\u001b[0m\n",
            "\u001b[?25hRequirement already satisfied: altair<6,>=4.0 in /usr/local/lib/python3.10/dist-packages (from streamlit) (4.2.2)\n",
            "Requirement already satisfied: blinker<2,>=1.0.0 in /usr/lib/python3/dist-packages (from streamlit) (1.4)\n",
            "Requirement already satisfied: cachetools<6,>=4.0 in /usr/local/lib/python3.10/dist-packages (from streamlit) (5.3.3)\n",
            "Requirement already satisfied: click<9,>=7.0 in /usr/local/lib/python3.10/dist-packages (from streamlit) (8.1.7)\n",
            "Requirement already satisfied: numpy<2,>=1.19.3 in /usr/local/lib/python3.10/dist-packages (from streamlit) (1.25.2)\n",
            "Requirement already satisfied: packaging<25,>=16.8 in /usr/local/lib/python3.10/dist-packages (from streamlit) (23.2)\n",
            "Requirement already satisfied: pandas<3,>=1.3.0 in /usr/local/lib/python3.10/dist-packages (from streamlit) (2.0.3)\n",
            "Requirement already satisfied: pillow<11,>=7.1.0 in /usr/local/lib/python3.10/dist-packages (from streamlit) (9.4.0)\n",
            "Requirement already satisfied: protobuf<5,>=3.20 in /usr/local/lib/python3.10/dist-packages (from streamlit) (3.20.3)\n",
            "Requirement already satisfied: pyarrow>=7.0 in /usr/local/lib/python3.10/dist-packages (from streamlit) (14.0.2)\n",
            "Requirement already satisfied: requests<3,>=2.27 in /usr/local/lib/python3.10/dist-packages (from streamlit) (2.31.0)\n",
            "Requirement already satisfied: rich<14,>=10.14.0 in /usr/local/lib/python3.10/dist-packages (from streamlit) (13.7.1)\n",
            "Requirement already satisfied: tenacity<9,>=8.1.0 in /usr/local/lib/python3.10/dist-packages (from streamlit) (8.3.0)\n",
            "Requirement already satisfied: toml<2,>=0.10.1 in /usr/local/lib/python3.10/dist-packages (from streamlit) (0.10.2)\n",
            "Requirement already satisfied: typing-extensions<5,>=4.3.0 in /usr/local/lib/python3.10/dist-packages (from streamlit) (4.11.0)\n",
            "Collecting gitpython!=3.1.19,<4,>=3.0.7 (from streamlit)\n",
            "  Downloading GitPython-3.1.43-py3-none-any.whl (207 kB)\n",
            "\u001b[2K     \u001b[90m━━━━━━━━━━━━━━━━━━━━━━━━━━━━━━━━━━━━━━━━\u001b[0m \u001b[32m207.3/207.3 kB\u001b[0m \u001b[31m19.2 MB/s\u001b[0m eta \u001b[36m0:00:00\u001b[0m\n",
            "\u001b[?25hCollecting pydeck<1,>=0.8.0b4 (from streamlit)\n",
            "  Downloading pydeck-0.9.1-py2.py3-none-any.whl (6.9 MB)\n",
            "\u001b[2K     \u001b[90m━━━━━━━━━━━━━━━━━━━━━━━━━━━━━━━━━━━━━━━━\u001b[0m \u001b[32m6.9/6.9 MB\u001b[0m \u001b[31m46.3 MB/s\u001b[0m eta \u001b[36m0:00:00\u001b[0m\n",
            "\u001b[?25hRequirement already satisfied: tornado<7,>=6.0.3 in /usr/local/lib/python3.10/dist-packages (from streamlit) (6.3.3)\n",
            "Collecting watchdog>=2.1.5 (from streamlit)\n",
            "  Downloading watchdog-4.0.1-py3-none-manylinux2014_x86_64.whl (83 kB)\n",
            "\u001b[2K     \u001b[90m━━━━━━━━━━━━━━━━━━━━━━━━━━━━━━━━━━━━━━━━\u001b[0m \u001b[32m83.0/83.0 kB\u001b[0m \u001b[31m9.5 MB/s\u001b[0m eta \u001b[36m0:00:00\u001b[0m\n",
            "\u001b[?25hRequirement already satisfied: entrypoints in /usr/local/lib/python3.10/dist-packages (from altair<6,>=4.0->streamlit) (0.4)\n",
            "Requirement already satisfied: jinja2 in /usr/local/lib/python3.10/dist-packages (from altair<6,>=4.0->streamlit) (3.1.4)\n",
            "Requirement already satisfied: jsonschema>=3.0 in /usr/local/lib/python3.10/dist-packages (from altair<6,>=4.0->streamlit) (4.19.2)\n",
            "Requirement already satisfied: toolz in /usr/local/lib/python3.10/dist-packages (from altair<6,>=4.0->streamlit) (0.12.1)\n",
            "Collecting gitdb<5,>=4.0.1 (from gitpython!=3.1.19,<4,>=3.0.7->streamlit)\n",
            "  Downloading gitdb-4.0.11-py3-none-any.whl (62 kB)\n",
            "\u001b[2K     \u001b[90m━━━━━━━━━━━━━━━━━━━━━━━━━━━━━━━━━━━━━━━━\u001b[0m \u001b[32m62.7/62.7 kB\u001b[0m \u001b[31m6.5 MB/s\u001b[0m eta \u001b[36m0:00:00\u001b[0m\n",
            "\u001b[?25hRequirement already satisfied: python-dateutil>=2.8.2 in /usr/local/lib/python3.10/dist-packages (from pandas<3,>=1.3.0->streamlit) (2.8.2)\n",
            "Requirement already satisfied: pytz>=2020.1 in /usr/local/lib/python3.10/dist-packages (from pandas<3,>=1.3.0->streamlit) (2023.4)\n",
            "Requirement already satisfied: tzdata>=2022.1 in /usr/local/lib/python3.10/dist-packages (from pandas<3,>=1.3.0->streamlit) (2024.1)\n",
            "Requirement already satisfied: charset-normalizer<4,>=2 in /usr/local/lib/python3.10/dist-packages (from requests<3,>=2.27->streamlit) (3.3.2)\n",
            "Requirement already satisfied: idna<4,>=2.5 in /usr/local/lib/python3.10/dist-packages (from requests<3,>=2.27->streamlit) (3.7)\n",
            "Requirement already satisfied: urllib3<3,>=1.21.1 in /usr/local/lib/python3.10/dist-packages (from requests<3,>=2.27->streamlit) (2.0.7)\n",
            "Requirement already satisfied: certifi>=2017.4.17 in /usr/local/lib/python3.10/dist-packages (from requests<3,>=2.27->streamlit) (2024.2.2)\n",
            "Requirement already satisfied: markdown-it-py>=2.2.0 in /usr/local/lib/python3.10/dist-packages (from rich<14,>=10.14.0->streamlit) (3.0.0)\n",
            "Requirement already satisfied: pygments<3.0.0,>=2.13.0 in /usr/local/lib/python3.10/dist-packages (from rich<14,>=10.14.0->streamlit) (2.16.1)\n",
            "Collecting smmap<6,>=3.0.1 (from gitdb<5,>=4.0.1->gitpython!=3.1.19,<4,>=3.0.7->streamlit)\n",
            "  Downloading smmap-5.0.1-py3-none-any.whl (24 kB)\n",
            "Requirement already satisfied: MarkupSafe>=2.0 in /usr/local/lib/python3.10/dist-packages (from jinja2->altair<6,>=4.0->streamlit) (2.1.5)\n",
            "Requirement already satisfied: attrs>=22.2.0 in /usr/local/lib/python3.10/dist-packages (from jsonschema>=3.0->altair<6,>=4.0->streamlit) (23.2.0)\n",
            "Requirement already satisfied: jsonschema-specifications>=2023.03.6 in /usr/local/lib/python3.10/dist-packages (from jsonschema>=3.0->altair<6,>=4.0->streamlit) (2023.12.1)\n",
            "Requirement already satisfied: referencing>=0.28.4 in /usr/local/lib/python3.10/dist-packages (from jsonschema>=3.0->altair<6,>=4.0->streamlit) (0.35.1)\n",
            "Requirement already satisfied: rpds-py>=0.7.1 in /usr/local/lib/python3.10/dist-packages (from jsonschema>=3.0->altair<6,>=4.0->streamlit) (0.18.1)\n",
            "Requirement already satisfied: mdurl~=0.1 in /usr/local/lib/python3.10/dist-packages (from markdown-it-py>=2.2.0->rich<14,>=10.14.0->streamlit) (0.1.2)\n",
            "Requirement already satisfied: six>=1.5 in /usr/local/lib/python3.10/dist-packages (from python-dateutil>=2.8.2->pandas<3,>=1.3.0->streamlit) (1.16.0)\n",
            "Installing collected packages: watchdog, smmap, pydeck, gitdb, gitpython, streamlit\n",
            "Successfully installed gitdb-4.0.11 gitpython-3.1.43 pydeck-0.9.1 smmap-5.0.1 streamlit-1.35.0 watchdog-4.0.1\n"
          ]
        }
      ]
    },
    {
      "cell_type": "code",
      "source": [
        "#load openAI api key\n",
        "os.environ['OPENAI_API_KEY'] = 'sk-proj-ZNrBM3ZFgzqvq9mpbdM5T3BlbkFJ54yzqj94gBaC0diyXMsG'"
      ],
      "metadata": {
        "id": "ikcR95frIghk"
      },
      "execution_count": 79,
      "outputs": []
    },
    {
      "cell_type": "code",
      "source": [
        "# Initialise LLM with required params\n",
        "llm = OpenAI(temperature=0.9, max_tokens=500)"
      ],
      "metadata": {
        "id": "91z63HjlIwuU"
      },
      "execution_count": 80,
      "outputs": []
    },
    {
      "cell_type": "markdown",
      "source": [
        "(1) Load data\n"
      ],
      "metadata": {
        "id": "yAiTxMKEI0BH"
      }
    },
    {
      "cell_type": "code",
      "source": [
        "loaders = UnstructuredURLLoader(urls=[\n",
        "    \"https://www.moneycontrol.com/news/business/markets/wall-street-rises-as-tesla-soars-on-ai-optimism-11351111.html\",\n",
        "    \"https://www.moneycontrol.com/news/business/tata-motors-launches-punch-icng-price-starts-at-rs-7-1-lakh-11098751.html\"\n",
        "])\n",
        "data = loaders.load()\n",
        "len(data)"
      ],
      "metadata": {
        "colab": {
          "base_uri": "https://localhost:8080/"
        },
        "id": "uinpE4kcIybN",
        "outputId": "318b4bc0-eb51-4a9d-9b3f-70fe31f63f9d"
      },
      "execution_count": 81,
      "outputs": [
        {
          "output_type": "execute_result",
          "data": {
            "text/plain": [
              "2"
            ]
          },
          "metadata": {},
          "execution_count": 81
        }
      ]
    },
    {
      "cell_type": "markdown",
      "source": [
        "(2) Split data to create chunks\n"
      ],
      "metadata": {
        "id": "tbmzuar2I3io"
      }
    },
    {
      "cell_type": "code",
      "source": [
        "text_splitter = RecursiveCharacterTextSplitter(\n",
        "    chunk_size=1000,\n",
        "    chunk_overlap=200\n",
        ")\n",
        "\n",
        "# As data is of type documents we can directly use split_documents over split_text in order to get the chunks.\n",
        "docs = text_splitter.split_documents(data)"
      ],
      "metadata": {
        "id": "Yzf9cpR3I1yU"
      },
      "execution_count": 82,
      "outputs": []
    },
    {
      "cell_type": "code",
      "source": [
        "len(docs)\n"
      ],
      "metadata": {
        "colab": {
          "base_uri": "https://localhost:8080/"
        },
        "id": "K021CqMXI5Y5",
        "outputId": "3881b968-6cae-46a2-9c69-6262df72efe5"
      },
      "execution_count": 83,
      "outputs": [
        {
          "output_type": "execute_result",
          "data": {
            "text/plain": [
              "35"
            ]
          },
          "metadata": {},
          "execution_count": 83
        }
      ]
    },
    {
      "cell_type": "code",
      "source": [
        "docs[0]\n"
      ],
      "metadata": {
        "colab": {
          "base_uri": "https://localhost:8080/"
        },
        "id": "z1QtpG0PI6XP",
        "outputId": "54645990-d9e1-40f6-eab5-1b4b33d71088"
      },
      "execution_count": 84,
      "outputs": [
        {
          "output_type": "execute_result",
          "data": {
            "text/plain": [
              "Document(page_content='English\\n\\nHindi\\n\\nGujarati\\n\\nSpecials\\n\\nMoneycontrol Trending Stock\\n\\nInfosys\\xa0INE009A01021, INFY, 500209\\n\\nState Bank of India\\xa0INE062A01020, SBIN, 500112\\n\\nYes Bank\\xa0INE528G01027, YESBANK, 532648\\n\\nBank Nifty\\n\\nNifty 500\\n\\nQuotes\\n\\nMutual Funds\\n\\nCommodities\\n\\nFutures & Options\\n\\nCurrency\\n\\nNews\\n\\nCryptocurrency\\n\\nForum\\n\\nNotices\\n\\nVideos\\n\\nGlossary\\n\\nAll\\n\\nHello, Login Hello, LoginLog-inor Sign-UpMy AccountMy Profile My PortfolioMy WatchlistFREE Credit Score₹100 Cash RewardMy AlertsMy MessagesPrice AlertsMy Profile My PROMy PortfolioMy WatchlistFREE Credit Score₹100 Cash RewardMy AlertsMy MessagesPrice AlertsLogoutChat with UsDownload AppFollow us on:\\n\\nPremium\\n\\nMy Alerts', metadata={'source': 'https://www.moneycontrol.com/news/business/markets/wall-street-rises-as-tesla-soars-on-ai-optimism-11351111.html'})"
            ]
          },
          "metadata": {},
          "execution_count": 84
        }
      ]
    },
    {
      "cell_type": "markdown",
      "source": [
        "(3) Create embeddings for these chunks and save them to FAISS index\n"
      ],
      "metadata": {
        "id": "NmiXcBHiI9L1"
      }
    },
    {
      "cell_type": "code",
      "source": [
        "!pip install tiktoken"
      ],
      "metadata": {
        "colab": {
          "base_uri": "https://localhost:8080/"
        },
        "id": "YxveXinpJEdM",
        "outputId": "42502b00-9f00-4407-c829-605d736f046d"
      },
      "execution_count": 85,
      "outputs": [
        {
          "output_type": "stream",
          "name": "stdout",
          "text": [
            "Requirement already satisfied: tiktoken in /usr/local/lib/python3.10/dist-packages (0.7.0)\n",
            "Requirement already satisfied: regex>=2022.1.18 in /usr/local/lib/python3.10/dist-packages (from tiktoken) (2023.12.25)\n",
            "Requirement already satisfied: requests>=2.26.0 in /usr/local/lib/python3.10/dist-packages (from tiktoken) (2.31.0)\n",
            "Requirement already satisfied: charset-normalizer<4,>=2 in /usr/local/lib/python3.10/dist-packages (from requests>=2.26.0->tiktoken) (3.3.2)\n",
            "Requirement already satisfied: idna<4,>=2.5 in /usr/local/lib/python3.10/dist-packages (from requests>=2.26.0->tiktoken) (3.7)\n",
            "Requirement already satisfied: urllib3<3,>=1.21.1 in /usr/local/lib/python3.10/dist-packages (from requests>=2.26.0->tiktoken) (2.0.7)\n",
            "Requirement already satisfied: certifi>=2017.4.17 in /usr/local/lib/python3.10/dist-packages (from requests>=2.26.0->tiktoken) (2024.2.2)\n"
          ]
        }
      ]
    },
    {
      "cell_type": "code",
      "source": [
        "# Create the embeddings of the chunks using openAIEmbeddings\n",
        "embeddings = OpenAIEmbeddings()\n",
        "\n",
        "# Pass the documents and embeddings inorder to create FAISS vector index\n",
        "vectorindex_openai = FAISS.from_documents(docs, embeddings)"
      ],
      "metadata": {
        "id": "u0VbMP8BJXFf"
      },
      "execution_count": 86,
      "outputs": []
    }
  ]
}